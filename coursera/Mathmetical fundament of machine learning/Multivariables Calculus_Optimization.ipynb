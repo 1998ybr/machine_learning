{
 "cells": [
  {
   "cell_type": "markdown",
   "metadata": {},
   "source": [
    "# Newton-Raphson"
   ]
  },
  {
   "cell_type": "markdown",
   "metadata": {},
   "source": [
    "$x_{i+1}=x_i-\\frac{f(x_i)}{f'(x_i)}$"
   ]
  },
  {
   "cell_type": "markdown",
   "metadata": {},
   "source": [
    "A close loop may append when use this method."
   ]
  },
  {
   "cell_type": "code",
   "execution_count": null,
   "metadata": {},
   "outputs": [],
   "source": [
    "def f (x, y) :\n",
    "    return np.exp(-(2*x*x + y*y - x*y) / 2)\n",
    "\n",
    "def g (x, y) :\n",
    "    return x*x + 3*(y+1)**2 - 1\n",
    "\n",
    "# Next their derivatives,\n",
    "def dfdx (x, y) :\n",
    "    return 1/2 * (-4*x + y) * f(x, y)\n",
    "\n",
    "def dfdy (x, y) :\n",
    "    return 1/2 * (x - 2*y) * f(x, y)\n",
    "\n",
    "def dgdx (x, y) :\n",
    "    return 2*x\n",
    "\n",
    "def dgdy (x, y) :\n",
    "    return 6*y+6"
   ]
  },
  {
   "cell_type": "code",
   "execution_count": null,
   "metadata": {},
   "outputs": [],
   "source": [
    "-1.45    -0.63"
   ]
  },
  {
   "cell_type": "code",
   "execution_count": 2,
   "metadata": {
    "ExecuteTime": {
     "end_time": "2020-02-16T14:30:53.191187Z",
     "start_time": "2020-02-16T14:30:53.185204Z"
    }
   },
   "outputs": [
    {
     "data": {
      "text/plain": [
       "11013.232874703393"
      ]
     },
     "execution_count": 2,
     "metadata": {},
     "output_type": "execute_result"
    }
   ],
   "source": [
    "# Import libraries\n",
    "import numpy as np\n",
    "from scipy import optimize\n",
    "\n",
    "# First we define the functions, YOU SHOULD IMPLEMENT THESE\n",
    "def f (x, y) :\n",
    "    return -np.exp(x-y**2+x*2)\n",
    "\n",
    "def g (x, y) :\n",
    "    return np.cosh(y)+x-2\n",
    "\n",
    "# Next their derivatives, YOU SHOULD IMPLEMENT THESE\n",
    "def dfdx (x, y) :\n",
    "    return -np.exp(x-y**2+x*y)-y*np.exp(x-y**2+x*y)\n",
    "\n",
    "def dfdy (x, y) :\n",
    "    return 2*y*np.exp(x-y**2+x*y)-x*np.exp(x-y**2+x*y)\n",
    "\n",
    "def dgdx (x, y) :\n",
    "    return 1\n",
    "\n",
    "def dgdy (x, y) :\n",
    "    return -np.sinh(y)"
   ]
  }
 ],
 "metadata": {
  "kernelspec": {
   "display_name": "Python 3",
   "language": "python",
   "name": "python3"
  },
  "language_info": {
   "codemirror_mode": {
    "name": "ipython",
    "version": 3
   },
   "file_extension": ".py",
   "mimetype": "text/x-python",
   "name": "python",
   "nbconvert_exporter": "python",
   "pygments_lexer": "ipython3",
   "version": "3.7.6"
  },
  "nbTranslate": {
   "displayLangs": [
    "*"
   ],
   "hotkey": "alt-t",
   "langInMainMenu": true,
   "sourceLang": "en",
   "targetLang": "fr",
   "useGoogleTranslate": true
  },
  "varInspector": {
   "cols": {
    "lenName": 16,
    "lenType": 16,
    "lenVar": 40
   },
   "kernels_config": {
    "python": {
     "delete_cmd_postfix": "",
     "delete_cmd_prefix": "del ",
     "library": "var_list.py",
     "varRefreshCmd": "print(var_dic_list())"
    },
    "r": {
     "delete_cmd_postfix": ") ",
     "delete_cmd_prefix": "rm(",
     "library": "var_list.r",
     "varRefreshCmd": "cat(var_dic_list()) "
    }
   },
   "types_to_exclude": [
    "module",
    "function",
    "builtin_function_or_method",
    "instance",
    "_Feature"
   ],
   "window_display": false
  }
 },
 "nbformat": 4,
 "nbformat_minor": 4
}
