{
 "cells": [
  {
   "cell_type": "markdown",
   "metadata": {},
   "source": [
    "### 1. The set A in the plane $\\mathbb{R}^2$ is defined by inequality $$\\frac{(x^2+y^2-3)(x^2+y^2-10)}{x^2+y^2-10}\\geq 0.$$ Is the set $A$ open, closed, bounded?"
   ]
  },
  {
   "cell_type": "markdown",
   "metadata": {},
   "source": [
    "Set $A$ is not open, closed neither bounded.\n",
    "<br>\n",
    "<br>$Proof.$\n",
    "<br>Firstly, when $x^2+y^2-10>0$, $x^2+y^2-3\\geq 0;$\n",
    "<br>so we can get $x^2+y^2>10.$\n",
    "<br>Secondly, when $x^2+y^2-10<0$, $x^2+y^2-3\\geq 0;$\n",
    "<br>so we can get $3\\leq x^2+y^2<10.$\n",
    "<br>To sum up, we can get $A=\\{ (x,y)|x^2+y^2\\geq 3\\ and\\ x^2+y^2\\neq 10\\}.$\n",
    "<br>Then we know that set $A$ is not open, closed neither bounded.\n",
    "<br>$Q.E.D.$"
   ]
  },
  {
   "cell_type": "markdown",
   "metadata": {},
   "source": [
    "# 2. Consider the sets $$B_n=(-\\frac{1}{n},\\frac{n+1}{n}),$$ where $n$ is a natural number and let $$A=\\bigcap^{\\infty}_{n=1}B_n.$$ Is the set $A$ bounded, open, closed?"
   ]
  },
  {
   "cell_type": "markdown",
   "metadata": {},
   "source": [
    "Set $A$ is closed.\n",
    "<br>\n",
    "<br>$Proof.$\n",
    "<br>We know $\\underset{n\\rightarrow \\infty}{\\lim}B_n=[0,1].$\n",
    "<br>Furthermore, the sequence $\\{ -\\frac{1}{n}\\}$ is ascending, while the sequence $\\{ \\frac{n+1}{n}\\}$ is decreasing.\n",
    "<br>Hence, $A=\\bigcap _{n=1}^{\\infty}=\\underset{n\\rightarrow \\infty}{\\lim}B_n$, and set $A$ is closed.\n",
    "<br>$Q.E.D.$"
   ]
  },
  {
   "cell_type": "markdown",
   "metadata": {},
   "source": [
    "# 3. Consider the function $$f(x,y)=\\frac{1+x}{y^2}.$$ In the plane $(x,y)$ sketch several level curves of $f(x,y).$"
   ]
  },
  {
   "cell_type": "markdown",
   "metadata": {},
   "source": [
    "<br>In the plane $(x,y)$ sketching level curve means let $f(x,y)=n,\\ where\\ n\\in \\mathbb{R}.$ \n",
    "<br>So there are several level curves $x+my^2+1=0,\\ where\\ m\\in \\mathbb{R}$"
   ]
  },
  {
   "cell_type": "markdown",
   "metadata": {},
   "source": [
    "# 4. Find the limit $$\\underset{(x,y)\\rightarrow(0,0)}{\\lim}\\frac{x^2y^2}{x^2+3y^8},$$ or show that it does not exist."
   ]
  },
  {
   "cell_type": "markdown",
   "metadata": {},
   "source": [
    "Transform to polar coordinates:\n",
    "<br>$x=\\sigma\\cos(\\theta)$\n",
    "<br>$y=\\sigma\\sin(\\theta)$\n",
    "<br>$\\underset{(x,y)\\rightarrow(0,0)}{\\lim}\\frac{x^2y^2}{x^2+3y^8}=\\underset{\\sigma\\rightarrow 0}{\\lim}\\frac{(\\sigma\\cos(\\theta))^2(\\sigma\\sin(\\theta))^2}{(\\sigma\\cos(\\theta))^2+3(\\sigma\\cos(\\theta))^8}=\\underset{\\sigma\\rightarrow 0}{\\lim}\\frac{\\sigma^2\\cos^2(\\theta)\\sin^2(\\theta)}{\\cos^2(\\theta)+3\\sigma^6\\sin^8(\\theta)}=\\frac{0}{\\cos^2(\\theta)}=0$\n",
    "<br>$Q.E.D.$"
   ]
  }
 ],
 "metadata": {
  "kernelspec": {
   "display_name": "Python 3",
   "language": "python",
   "name": "python3"
  },
  "language_info": {
   "codemirror_mode": {
    "name": "ipython",
    "version": 3
   },
   "file_extension": ".py",
   "mimetype": "text/x-python",
   "name": "python",
   "nbconvert_exporter": "python",
   "pygments_lexer": "ipython3",
   "version": "3.7.6"
  },
  "nbTranslate": {
   "displayLangs": [
    "*"
   ],
   "hotkey": "alt-t",
   "langInMainMenu": true,
   "sourceLang": "en",
   "targetLang": "fr",
   "useGoogleTranslate": true
  },
  "varInspector": {
   "cols": {
    "lenName": 16,
    "lenType": 16,
    "lenVar": 40
   },
   "kernels_config": {
    "python": {
     "delete_cmd_postfix": "",
     "delete_cmd_prefix": "del ",
     "library": "var_list.py",
     "varRefreshCmd": "print(var_dic_list())"
    },
    "r": {
     "delete_cmd_postfix": ") ",
     "delete_cmd_prefix": "rm(",
     "library": "var_list.r",
     "varRefreshCmd": "cat(var_dic_list()) "
    }
   },
   "types_to_exclude": [
    "module",
    "function",
    "builtin_function_or_method",
    "instance",
    "_Feature"
   ],
   "window_display": false
  }
 },
 "nbformat": 4,
 "nbformat_minor": 4
}
