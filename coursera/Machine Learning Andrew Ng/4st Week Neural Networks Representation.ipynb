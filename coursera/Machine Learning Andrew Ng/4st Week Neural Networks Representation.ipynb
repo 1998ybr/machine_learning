{
 "cells": [
  {
   "cell_type": "markdown",
   "metadata": {},
   "source": [
    "# Module 4. Neural Networks: Representation"
   ]
  },
  {
   "cell_type": "markdown",
   "metadata": {},
   "source": [
    "## Neural Networks"
   ]
  },
  {
   "cell_type": "markdown",
   "metadata": {},
   "source": [
    "### Neural Networks Presentation Ⅰ\n",
    "#### A single neural\n",
    "![avatar](https://s2.ax1x.com/2020/02/14/1Xn4zV.png)\n",
    "<br>$h_\\theta(X)=\\frac{1}{1+e^{-\\theta^TX}}$ is named Sigmoid (logistic) activation function.\n",
    "<br>\n",
    "<br>$$X=\\left[\n",
    "    \\begin{matrix}\n",
    "        x_0\\\\\n",
    "        x_1\\\\\n",
    "        x_2\\\\\n",
    "        x_3\n",
    "    \\end{matrix}\n",
    "    \\right]\n",
    "\\ \\ \\ \\theta=\\left[\n",
    "    \\begin{matrix}\n",
    "        \\theta _0\\\\\n",
    "        \\theta _1\\\\\n",
    "        \\theta _2\\\\\n",
    "        \\theta _3\n",
    "    \\end{matrix}\n",
    "    \\right]$$"
   ]
  },
  {
   "cell_type": "markdown",
   "metadata": {},
   "source": [
    "#### Complex neural network\n",
    "<br>![neural_network](https://s2.ax1x.com/2020/02/14/1XQ1FH.png)\n",
    "\n",
    "$a_i^{(j)}=$ 'activation' of unit $i$ in layer $j.$\n",
    "<br>$\\Theta^{(j)}=$ matrix of weights controling function mapping from layer $j$ to $j+1.$\n",
    "\n",
    "$a_1^{(2)}=g(\\Theta_{1,0}^{(1)}\\ x_0+\\Theta_{1,1}^{(1)}\\ x_1+\\Theta_{1,2}^{(1)}\\ x_2+\\Theta_{1,3}^{(1)}\\ x_3)$\n",
    "<br>$a_2^{(2)}=g(\\Theta_{2,0}^{(1)}\\ x_0+\\Theta_{2,1}^{(1)}\\ x_1+\\Theta_{2,2}^{(1)}\\ x_2+\\Theta_{2,3}^{(1)}\\ x_3)$\n",
    "<br>$a_3^{(2)}=g(\\Theta_{3,0}^{(1)}\\ x_0+\\Theta_{3,1}^{(1)}\\ x_1+\\Theta_{3,2}^{(1)}\\ x_2+\\Theta_{3,3}^{(1)}\\ x_3)$\n",
    "\n",
    "$h_\\Theta(x)=a_1^{(3)}=g(\\Theta_{1,0}^{(2)}\\ a_0^{(2)}+\\Theta_{1,1}^{(2)}\\ a_1^{(2)}+\\Theta_{1,2}^{(2)}\\ a_2^{(2)}+\\Theta_{1,3}^{(2)}\\ a_3^{(2)})$"
   ]
  },
  {
   "cell_type": "markdown",
   "metadata": {},
   "source": [
    "We also can write\n",
    "$$\\Theta^{(1)}=\\left[\n",
    "    \\begin{matrix}\n",
    "        \\Theta_{1,0}^{(1)}&\\Theta_{1,1}^{(1)}&\\Theta_{1,2}^{(1)}&\\Theta_{1,3}^{(1)}\\\\\n",
    "        \\Theta_{2,0}^{(1)}&\\Theta_{2,1}^{(1)}&\\Theta_{2,2}^{(1)}&\\Theta_{2,3}^{(1)}\\\\\n",
    "        \\Theta_{3,0}^{(1)}&\\Theta_{3,1}^{(1)}&\\Theta_{3,2}^{(1)}&\\Theta_{3,3}^{(1)}\n",
    "    \\end{matrix}\n",
    "    \\right]\\ \\ \\ \\ \\ \n",
    "X=\\left[\n",
    "    \\begin{matrix}\n",
    "        x_0\\\\\n",
    "        x_1\\\\\n",
    "        x_2\\\\\n",
    "        x_3\n",
    "    \\end{matrix}\n",
    "    \\right]$$\n",
    "<br>$$Z^{(2)}=\\Theta^{(1)} X$$\n",
    "<br>$$a^{(2)}=g(Z^{(2)})$$"
   ]
  },
  {
   "cell_type": "markdown",
   "metadata": {},
   "source": [
    "If network has $s_j$ units in layer $j,s_{j+1}$ units in layer $j+1$, then $\\Theta^{(j)}$ will be of dimension $s_{j+1}\\times (s_j+1).$"
   ]
  }
 ],
 "metadata": {
  "kernelspec": {
   "display_name": "Python 3",
   "language": "python",
   "name": "python3"
  },
  "language_info": {
   "codemirror_mode": {
    "name": "ipython",
    "version": 3
   },
   "file_extension": ".py",
   "mimetype": "text/x-python",
   "name": "python",
   "nbconvert_exporter": "python",
   "pygments_lexer": "ipython3",
   "version": "3.7.6"
  },
  "nbTranslate": {
   "displayLangs": [
    "*"
   ],
   "hotkey": "alt-t",
   "langInMainMenu": true,
   "sourceLang": "en",
   "targetLang": "fr",
   "useGoogleTranslate": true
  },
  "varInspector": {
   "cols": {
    "lenName": 16,
    "lenType": 16,
    "lenVar": 40
   },
   "kernels_config": {
    "python": {
     "delete_cmd_postfix": "",
     "delete_cmd_prefix": "del ",
     "library": "var_list.py",
     "varRefreshCmd": "print(var_dic_list())"
    },
    "r": {
     "delete_cmd_postfix": ") ",
     "delete_cmd_prefix": "rm(",
     "library": "var_list.r",
     "varRefreshCmd": "cat(var_dic_list()) "
    }
   },
   "types_to_exclude": [
    "module",
    "function",
    "builtin_function_or_method",
    "instance",
    "_Feature"
   ],
   "window_display": false
  }
 },
 "nbformat": 4,
 "nbformat_minor": 4
}
