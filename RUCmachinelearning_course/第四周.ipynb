{
 "cells": [
  {
   "cell_type": "markdown",
   "metadata": {},
   "source": [
    "#### 1.1 假设一组保单的索赔率 $\\mu$ 的先验分布是beta(1,1),第一年10000辆车索赔40辆，求索赔率的ML和后验索赔率；"
   ]
  },
  {
   "cell_type": "markdown",
   "metadata": {},
   "source": [
    "$\\mu_{ML}=argmax \\sum_{n=1}^{n=10000}[x_nln\\mu+(1-x_n)ln(1-\\mu)]$\n",
    "<br>$\\mu_{ML}=\\frac{40}{10000}=0.004$\n",
    "\n",
    "<br>后验赔率$P(\\mu|\\mathscr D)\\sim \\beta(41,9961)$\n",
    "<br>$P(x=1|\\mathscr D)=\\frac{41}{10002}\\approx 0.000410$"
   ]
  },
  {
   "cell_type": "markdown",
   "metadata": {},
   "source": [
    "#### 1.2 第二年12000辆车投保该险种，索赔80辆，求索赔率的ML和后验索赔率；"
   ]
  },
  {
   "cell_type": "markdown",
   "metadata": {},
   "source": [
    "$\\mu_{ML}=argmax \\sum_{n=1}^{n=12000}[x_nln\\mu+(1-x_n)ln(1-\\mu)]$\n",
    "<br>$\\mu_{ML}=\\frac{1}{150}\\approx 0.006667$\n",
    "\n",
    "<br>后验索赔率$P(\\mu|\\mathscr D)\\sim \\beta(81,11921)$\n",
    "<br>$P(x=1|\\mathscr D)=\\frac{81}{12002}\\approx 0.006749$"
   ]
  },
  {
   "cell_type": "markdown",
   "metadata": {},
   "source": [
    "#### 1.3 第三年2000辆车索赔50辆，求索赔率的ML和后验索赔率。"
   ]
  },
  {
   "cell_type": "markdown",
   "metadata": {},
   "source": [
    "$\\mu_{ML}=argmax \\sum_{n=1}^{n=2000}[x_nln\\mu+(1-x_n)ln(1-\\mu)]$\n",
    "<br>$\\mu_{ML}=\\frac{1}{40}= 0.025$\n",
    "\n",
    "<br>后验索赔率$P(\\mu|\\mathscr D)\\sim \\beta(51,1951)$\n",
    "<br>$P(x=1|\\mathscr D)=\\frac{51}{2002}\\approx 0.025475$"
   ]
  },
  {
   "cell_type": "code",
   "execution_count": 37,
   "metadata": {
    "ExecuteTime": {
     "end_time": "2020-03-19T14:20:49.242459Z",
     "start_time": "2020-03-19T14:20:49.235475Z"
    }
   },
   "outputs": [],
   "source": [
    "import matplotlib.pyplot as plt\n",
    "import numpy as np\n",
    "from scipy import stats\n",
    "x = np.linspace(0, 1,100)"
   ]
  },
  {
   "cell_type": "code",
   "execution_count": 38,
   "metadata": {
    "ExecuteTime": {
     "end_time": "2020-03-19T14:20:50.215853Z",
     "start_time": "2020-03-19T14:20:50.046311Z"
    }
   },
   "outputs": [
    {
     "data": {
      "text/plain": [
       "[<matplotlib.lines.Line2D at 0x2838453cec8>]"
      ]
     },
     "execution_count": 38,
     "metadata": {},
     "output_type": "execute_result"
    },
    {
     "data": {
      "image/png": "[encoded data removed]",
      "text/plain": [
       "<Figure size 432x288 with 1 Axes>"
      ]
     },
     "metadata": {
      "needs_background": "light"
     },
     "output_type": "display_data"
    }
   ],
   "source": [
    "plt.plot(stats.beta(41, 9961).pdf(x))"
   ]
  },
  {
   "cell_type": "code",
   "execution_count": 39,
   "metadata": {
    "ExecuteTime": {
     "end_time": "2020-03-19T14:20:53.131055Z",
     "start_time": "2020-03-19T14:20:52.940564Z"
    }
   },
   "outputs": [
    {
     "data": {
      "text/plain": [
       "[<matplotlib.lines.Line2D at 0x283845a1a08>]"
      ]
     },
     "execution_count": 39,
     "metadata": {},
     "output_type": "execute_result"
    },
    {
     "data": {
      "image/png": "[encoded data removed]",
      "text/plain": [
       "<Figure size 432x288 with 1 Axes>"
      ]
     },
     "metadata": {
      "needs_background": "light"
     },
     "output_type": "display_data"
    }
   ],
   "source": [
    "plt.plot(stats.beta(81, 11921).pdf(x))"
   ]
  },
  {
   "cell_type": "code",
   "execution_count": 40,
   "metadata": {
    "ExecuteTime": {
     "end_time": "2020-03-19T14:20:55.836851Z",
     "start_time": "2020-03-19T14:20:55.670267Z"
    }
   },
   "outputs": [
    {
     "data": {
      "text/plain": [
       "[<matplotlib.lines.Line2D at 0x2838460d2c8>]"
      ]
     },
     "execution_count": 40,
     "metadata": {},
     "output_type": "execute_result"
    },
    {
     "data": {
      "image/png": "[encoded data removed]",
      "text/plain": [
       "<Figure size 432x288 with 1 Axes>"
      ]
     },
     "metadata": {
      "needs_background": "light"
     },
     "output_type": "display_data"
    }
   ],
   "source": [
    "plt.plot(stats.beta(51, 1951).pdf(x))"
   ]
  },
  {
   "cell_type": "markdown",
   "metadata": {},
   "source": [
    "#### 2.1 假设一个国际机场对国外来访旅客进行提问测量，提问超过38度，他可能是病菌性感冒，普通流感或者2019-COVID的某一种,假设2月25日Dir(1,1,1) ,26日3架欧洲的飞机1000旅客，其中有20例发烧，分别是（2，10，8）；请问后验2019-COVID的ML和后验2019-COVID各自是多少？"
   ]
  },
  {
   "cell_type": "markdown",
   "metadata": {},
   "source": [
    "<br>$\\mu_{新冠ML}=0.4$\n",
    "<br>$P(x=新冠|\\mathscr D)=\\frac{8+1}{20+3}\\approx 0.3913$"
   ]
  },
  {
   "cell_type": "markdown",
   "metadata": {},
   "source": [
    "#### 2.2 27日3架欧洲的飞机500旅客，其中有13例发烧，分别是（0，7，6）；请问后验2019-COVID的ML和后验2019-COVID各自是多少？"
   ]
  },
  {
   "cell_type": "markdown",
   "metadata": {},
   "source": [
    "<br>$\\mu_{新冠ML}\\approx 0.4615$\n",
    "<br>$P(x=新冠|\\mathscr D)=\\frac{6+1}{13+3}= 0.4375$"
   ]
  },
  {
   "cell_type": "markdown",
   "metadata": {},
   "source": [
    "#### 2.3 27日3架欧洲的飞机300旅客，其中有5例发烧，分别是（0，2，3）；请问后验2019-COVID的ML和后验2019-COVID各自是多少？"
   ]
  },
  {
   "cell_type": "markdown",
   "metadata": {},
   "source": [
    "<br>$\\mu_{新冠ML}=0.6$\n",
    "<br>$P(x=新冠|\\mathscr D)=\\frac{3+1}{5+3}=0.5$"
   ]
  }
 ],
 "metadata": {
  "kernelspec": {
   "display_name": "Python 3",
   "language": "python",
   "name": "python3"
  },
  "language_info": {
   "codemirror_mode": {
    "name": "ipython",
    "version": 3
   },
   "file_extension": ".py",
   "mimetype": "text/x-python",
   "name": "python",
   "nbconvert_exporter": "python",
   "pygments_lexer": "ipython3",
   "version": "3.7.6"
  },
  "nbTranslate": {
   "displayLangs": [
    "*"
   ],
   "hotkey": "alt-t",
   "langInMainMenu": true,
   "sourceLang": "en",
   "targetLang": "fr",
   "useGoogleTranslate": true
  },
  "varInspector": {
   "cols": {
    "lenName": 16,
    "lenType": 16,
    "lenVar": 40
   },
   "kernels_config": {
    "python": {
     "delete_cmd_postfix": "",
     "delete_cmd_prefix": "del ",
     "library": "var_list.py",
     "varRefreshCmd": "print(var_dic_list())"
    },
    "r": {
     "delete_cmd_postfix": ") ",
     "delete_cmd_prefix": "rm(",
     "library": "var_list.r",
     "varRefreshCmd": "cat(var_dic_list()) "
    }
   },
   "types_to_exclude": [
    "module",
    "function",
    "builtin_function_or_method",
    "instance",
    "_Feature"
   ],
   "window_display": false
  }
 },
 "nbformat": 4,
 "nbformat_minor": 4
}
