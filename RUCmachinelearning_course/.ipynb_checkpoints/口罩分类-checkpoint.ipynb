{
 "cells": [
  {
   "cell_type": "code",
   "execution_count": 1,
   "metadata": {
    "ExecuteTime": {
     "end_time": "2020-03-16T03:48:31.517040Z",
     "start_time": "2020-03-16T03:48:29.710174Z"
    }
   },
   "outputs": [],
   "source": [
    "import pandas as pd\n",
    "from sklearn.neural_network import MLPClassifier\n",
    "from sklearn.model_selection import train_test_split\n",
    "from sklearn import linear_model"
   ]
  },
  {
   "cell_type": "code",
   "execution_count": 2,
   "metadata": {
    "ExecuteTime": {
     "end_time": "2020-03-16T03:48:32.596175Z",
     "start_time": "2020-03-16T03:48:32.582217Z"
    }
   },
   "outputs": [],
   "source": [
    "data=pd.read_csv('C:\\\\Users\\\\86173\\\\Desktop\\\\口罩数据.csv',usecols=[2,4,6,8,10,12,14,16])\n",
    "\n",
    "data=data.dropna(axis='index',how='any')\n",
    "\n",
    "data.columns=['数字序列','字体','金属条','异味','清晰','认证','呼吸阀','y']"
   ]
  },
  {
   "cell_type": "code",
   "execution_count": 3,
   "metadata": {
    "ExecuteTime": {
     "end_time": "2020-03-16T03:48:33.755088Z",
     "start_time": "2020-03-16T03:48:33.664300Z"
    },
    "scrolled": true
   },
   "outputs": [
    {
     "name": "stdout",
     "output_type": "stream",
     "text": [
      "全变量Predicting score=  0.7391304347826086\n"
     ]
    }
   ],
   "source": [
    "clf=MLPClassifier(hidden_layer_sizes=(150,),activation='logistic',\n",
    "                  solver='lbfgs',alpha=0,random_state=1)\n",
    "\n",
    "#全变量\n",
    "X,y=data.iloc[:,:-1],data.iloc[:,-1]\n",
    "X_train,X_test,y_train,y_test=train_test_split(X,y,test_size=0.3)\n",
    "clf.fit(X_train,y_train)\n",
    "print('全变量Predicting score= ',clf.score(X_test,y_test))"
   ]
  },
  {
   "cell_type": "code",
   "execution_count": 4,
   "metadata": {
    "ExecuteTime": {
     "end_time": "2020-03-16T03:48:34.556931Z",
     "start_time": "2020-03-16T03:48:34.543965Z"
    }
   },
   "outputs": [
    {
     "name": "stdout",
     "output_type": "stream",
     "text": [
      "全变量Predicting score=  0.8695652173913043\n"
     ]
    }
   ],
   "source": [
    "logistic=linear_model.LogisticRegression()\n",
    "logistic.fit(X_train,y_train)\n",
    "print('全变量Predicting score= ',logistic.score(X_test,y_test))"
   ]
  },
  {
   "cell_type": "markdown",
   "metadata": {},
   "source": [
    "#### 1. 假口罩主要集中在一次性口罩和N95；\n",
    "#### 2.其中“数字序列”、“异味”、“认证”对判断真伪比较重要，“有无呼吸阀”相对无关紧要；\n",
    "#### 3.合取式不是特别理解（doge）"
   ]
  }
 ],
 "metadata": {
  "kernelspec": {
   "display_name": "Python 3",
   "language": "python",
   "name": "python3"
  },
  "language_info": {
   "codemirror_mode": {
    "name": "ipython",
    "version": 3
   },
   "file_extension": ".py",
   "mimetype": "text/x-python",
   "name": "python",
   "nbconvert_exporter": "python",
   "pygments_lexer": "ipython3",
   "version": "3.7.6"
  },
  "nbTranslate": {
   "displayLangs": [
    "*"
   ],
   "hotkey": "alt-t",
   "langInMainMenu": true,
   "sourceLang": "en",
   "targetLang": "fr",
   "useGoogleTranslate": true
  },
  "varInspector": {
   "cols": {
    "lenName": 16,
    "lenType": 16,
    "lenVar": 40
   },
   "kernels_config": {
    "python": {
     "delete_cmd_postfix": "",
     "delete_cmd_prefix": "del ",
     "library": "var_list.py",
     "varRefreshCmd": "print(var_dic_list())"
    },
    "r": {
     "delete_cmd_postfix": ") ",
     "delete_cmd_prefix": "rm(",
     "library": "var_list.r",
     "varRefreshCmd": "cat(var_dic_list()) "
    }
   },
   "types_to_exclude": [
    "module",
    "function",
    "builtin_function_or_method",
    "instance",
    "_Feature"
   ],
   "window_display": false
  }
 },
 "nbformat": 4,
 "nbformat_minor": 4
}
