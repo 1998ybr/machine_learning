{
 "cells": [
  {
   "cell_type": "code",
   "execution_count": 2,
   "metadata": {
    "ExecuteTime": {
     "end_time": "2020-04-01T11:26:00.900354Z",
     "start_time": "2020-04-01T11:26:00.043641Z"
    }
   },
   "outputs": [],
   "source": [
    "import pandas as pd"
   ]
  },
  {
   "cell_type": "code",
   "execution_count": 3,
   "metadata": {
    "ExecuteTime": {
     "end_time": "2020-04-01T11:26:28.900780Z",
     "start_time": "2020-04-01T11:26:28.867835Z"
    }
   },
   "outputs": [],
   "source": [
    "data=pd.read_csv('Auto_data.csv')"
   ]
  },
  {
   "cell_type": "code",
   "execution_count": 12,
   "metadata": {
    "ExecuteTime": {
     "end_time": "2020-04-01T11:41:33.415531Z",
     "start_time": "2020-04-01T11:41:33.401571Z"
    }
   },
   "outputs": [],
   "source": [
    "data.index=data.iloc[:,0]\n",
    "data=data.drop('id',axis='columns')"
   ]
  },
  {
   "cell_type": "code",
   "execution_count": 25,
   "metadata": {
    "ExecuteTime": {
     "end_time": "2020-04-01T12:13:48.406871Z",
     "start_time": "2020-04-01T12:13:48.383932Z"
    }
   },
   "outputs": [
    {
     "data": {
      "text/html": [
       "<div>\n",
       "<style scoped>\n",
       "    .dataframe tbody tr th:only-of-type {\n",
       "        vertical-align: middle;\n",
       "    }\n",
       "\n",
       "    .dataframe tbody tr th {\n",
       "        vertical-align: top;\n",
       "    }\n",
       "\n",
       "    .dataframe thead th {\n",
       "        text-align: right;\n",
       "    }\n",
       "</style>\n",
       "<table border=\"1\" class=\"dataframe\">\n",
       "  <thead>\n",
       "    <tr style=\"text-align: right;\">\n",
       "      <th></th>\n",
       "      <th>mpg</th>\n",
       "      <th>cylinders</th>\n",
       "      <th>displacement</th>\n",
       "      <th>horsepower</th>\n",
       "      <th>weight</th>\n",
       "      <th>acceleration</th>\n",
       "      <th>year</th>\n",
       "      <th>origin</th>\n",
       "      <th>name</th>\n",
       "    </tr>\n",
       "    <tr>\n",
       "      <th>id</th>\n",
       "      <th></th>\n",
       "      <th></th>\n",
       "      <th></th>\n",
       "      <th></th>\n",
       "      <th></th>\n",
       "      <th></th>\n",
       "      <th></th>\n",
       "      <th></th>\n",
       "      <th></th>\n",
       "    </tr>\n",
       "  </thead>\n",
       "  <tbody>\n",
       "    <tr>\n",
       "      <th>393</th>\n",
       "      <td>27.0</td>\n",
       "      <td>4</td>\n",
       "      <td>140.0</td>\n",
       "      <td>86</td>\n",
       "      <td>2790</td>\n",
       "      <td>15.6</td>\n",
       "      <td>82</td>\n",
       "      <td>1</td>\n",
       "      <td>ford mustang gl</td>\n",
       "    </tr>\n",
       "    <tr>\n",
       "      <th>394</th>\n",
       "      <td>44.0</td>\n",
       "      <td>4</td>\n",
       "      <td>97.0</td>\n",
       "      <td>52</td>\n",
       "      <td>2130</td>\n",
       "      <td>24.6</td>\n",
       "      <td>82</td>\n",
       "      <td>2</td>\n",
       "      <td>vw pickup</td>\n",
       "    </tr>\n",
       "    <tr>\n",
       "      <th>395</th>\n",
       "      <td>32.0</td>\n",
       "      <td>4</td>\n",
       "      <td>135.0</td>\n",
       "      <td>84</td>\n",
       "      <td>2295</td>\n",
       "      <td>11.6</td>\n",
       "      <td>82</td>\n",
       "      <td>1</td>\n",
       "      <td>dodge rampage</td>\n",
       "    </tr>\n",
       "    <tr>\n",
       "      <th>396</th>\n",
       "      <td>28.0</td>\n",
       "      <td>4</td>\n",
       "      <td>120.0</td>\n",
       "      <td>79</td>\n",
       "      <td>2625</td>\n",
       "      <td>18.6</td>\n",
       "      <td>82</td>\n",
       "      <td>1</td>\n",
       "      <td>ford ranger</td>\n",
       "    </tr>\n",
       "    <tr>\n",
       "      <th>397</th>\n",
       "      <td>31.0</td>\n",
       "      <td>4</td>\n",
       "      <td>119.0</td>\n",
       "      <td>82</td>\n",
       "      <td>2720</td>\n",
       "      <td>19.4</td>\n",
       "      <td>82</td>\n",
       "      <td>1</td>\n",
       "      <td>chevy s-10</td>\n",
       "    </tr>\n",
       "  </tbody>\n",
       "</table>\n",
       "</div>"
      ],
      "text/plain": [
       "      mpg  cylinders  displacement  horsepower  weight  acceleration  year  \\\n",
       "id                                                                           \n",
       "393  27.0          4         140.0          86    2790          15.6    82   \n",
       "394  44.0          4          97.0          52    2130          24.6    82   \n",
       "395  32.0          4         135.0          84    2295          11.6    82   \n",
       "396  28.0          4         120.0          79    2625          18.6    82   \n",
       "397  31.0          4         119.0          82    2720          19.4    82   \n",
       "\n",
       "     origin             name  \n",
       "id                            \n",
       "393       1  ford mustang gl  \n",
       "394       2        vw pickup  \n",
       "395       1    dodge rampage  \n",
       "396       1      ford ranger  \n",
       "397       1       chevy s-10  "
      ]
     },
     "execution_count": 25,
     "metadata": {},
     "output_type": "execute_result"
    }
   ],
   "source": [
    "data.tail()"
   ]
  },
  {
   "cell_type": "code",
   "execution_count": null,
   "metadata": {
    "ExecuteTime": {
     "end_time": "2020-04-01T11:37:01.339179Z",
     "start_time": "2020-04-01T11:36:58.881724Z"
    }
   },
   "outputs": [],
   "source": [
    "from sklearn.model_selection import train_test_split\n",
    "from sklearn.model_selection import LeavePOut"
   ]
  },
  {
   "cell_type": "code",
   "execution_count": 18,
   "metadata": {
    "ExecuteTime": {
     "end_time": "2020-04-01T11:51:38.788857Z",
     "start_time": "2020-04-01T11:51:38.782875Z"
    }
   },
   "outputs": [],
   "source": [
    "from sklearn.metrics import recall_score,mean_squared_error # 模型度量"
   ]
  },
  {
   "cell_type": "code",
   "execution_count": 79,
   "metadata": {
    "ExecuteTime": {
     "end_time": "2020-04-01T13:05:18.014347Z",
     "start_time": "2020-04-01T13:05:18.009362Z"
    }
   },
   "outputs": [],
   "source": [
    "import numpy as np"
   ]
  },
  {
   "cell_type": "markdown",
   "metadata": {},
   "source": [
    "### (a)"
   ]
  },
  {
   "cell_type": "code",
   "execution_count": 14,
   "metadata": {
    "ExecuteTime": {
     "end_time": "2020-04-01T11:44:06.064339Z",
     "start_time": "2020-04-01T11:44:06.046359Z"
    }
   },
   "outputs": [],
   "source": [
    "X_a=data.iloc[:,3]\n",
    "y_a=data.iloc[:,0]\n",
    "X_a_train,X_a_test,y_a_train,y_a_test=train_test_split(X_a,y_a,test_size=0.2,train_size=0.8)\n",
    "\n",
    "def mpg(x):\n",
    "    y=40-0.15*x\n",
    "    return y\n",
    "\n",
    "print('泛化误差为： ',mean_squared_error(y_a_test,mpg(x=X_a_test)))"
   ]
  },
  {
   "cell_type": "markdown",
   "metadata": {},
   "source": [
    "### (b)"
   ]
  },
  {
   "cell_type": "code",
   "execution_count": 54,
   "metadata": {
    "ExecuteTime": {
     "end_time": "2020-04-01T12:25:59.384327Z",
     "start_time": "2020-04-01T12:25:59.377345Z"
    }
   },
   "outputs": [],
   "source": [
    "X_b,y_b=data.iloc[:,3],data.iloc[:,0]\n",
    "\n",
    "# 留p分组\n",
    "lpo = LeavePOut(p=10)\n",
    "for train, test in lpo.split(X_b):\n",
    "    print(\"留p划分：%s %s\" % (train.shape, test.shape))\n",
    "    break\n",
    "\n",
    "print('泛化误差为： ',mean_squared_error(y_b.iloc[test],mpg(x=X_b.iloc[test])))"
   ]
  },
  {
   "cell_type": "markdown",
   "metadata": {},
   "source": [
    "### (c)"
   ]
  },
  {
   "cell_type": "code",
   "execution_count": 64,
   "metadata": {
    "ExecuteTime": {
     "end_time": "2020-04-01T12:37:34.414251Z",
     "start_time": "2020-04-01T12:37:34.404278Z"
    }
   },
   "outputs": [],
   "source": [
    "data['mpg01']=range(len(data))\n",
    "\n",
    "data=data.sort_values('mpg')\n",
    "\n",
    "for i in range(len(data)):\n",
    "    if data.iloc[i,0]>data.iloc[round(0.75*len(data)),0]:\n",
    "        data.iloc[i,9]=1\n",
    "    else:\n",
    "        data.iloc[i,9]=0\n",
    "\n",
    "train,test=train_test_split(data,train_size=0.8,test_size=0.2)\n",
    "\n",
    "X_train,y_train,X_test,y_test=train['weight'],train['mpg01'],test['weight'],test['mpg01']\n",
    "\n",
    "def mpgplus(x):\n",
    "    p=np.exp(3.85-0.01*x)/(1+np.exp(3.85-0.01*x))\n",
    "    return p\n",
    "\n",
    "print('泛化误差为： ',mean_squared_error(y_test,mpg(x=X_test)))"
   ]
  },
  {
   "cell_type": "markdown",
   "metadata": {},
   "source": [
    "### (d)"
   ]
  },
  {
   "cell_type": "code",
   "execution_count": 113,
   "metadata": {
    "ExecuteTime": {
     "end_time": "2020-04-01T13:21:02.893280Z",
     "start_time": "2020-04-01T13:21:02.884304Z"
    }
   },
   "outputs": [],
   "source": [
    "train0,test0=train_test_split(data[data['mpg01']==0],train_size=0.8,test_size=0.2)\n",
    "\n",
    "train1,test1=train_test_split(data[data['mpg01']==1],train_size=0.8,test_size=0.2)\n",
    "\n",
    "train=pd.concat([train0,train1])\n",
    "test=pd.concat([test0,test1])\n",
    "\n",
    "print('泛化误差为： ',mean_squared_error(test['mpg01'],mpg(x=test['weight'])))\n",
    "\n",
    "iris = datasets.load_iris()  # 加载数据集\n",
    "print('样本集大小：',iris.data.shape,iris.target.shape)"
   ]
  },
  {
   "cell_type": "markdown",
   "metadata": {},
   "source": [
    "### (e)"
   ]
  },
  {
   "cell_type": "markdown",
   "metadata": {},
   "source": [
    "对于标签数据来说，是否采取分层抽样对泛化误差影响较大（但是由于抽样的随机性，不采取分层抽样时，训练集和测试集中不同标签的比例大致相似）。\n",
    "<br>此外，留出法的泛化误差受训练集和测试集划分方式的影响很大。"
   ]
  },
  {
   "cell_type": "markdown",
   "metadata": {},
   "source": [
    "### (f)"
   ]
  },
  {
   "cell_type": "markdown",
   "metadata": {},
   "source": [
    "从500正反例中分别选出150正反例用于留出法评估，所以可能取法应该是$(\\mathcal{C}_{500}^{150})^2$种。"
   ]
  }
 ],
 "metadata": {
  "kernelspec": {
   "display_name": "Python 3",
   "language": "python",
   "name": "python3"
  },
  "language_info": {
   "codemirror_mode": {
    "name": "ipython",
    "version": 3
   },
   "file_extension": ".py",
   "mimetype": "text/x-python",
   "name": "python",
   "nbconvert_exporter": "python",
   "pygments_lexer": "ipython3",
   "version": "3.7.6"
  },
  "nbTranslate": {
   "displayLangs": [
    "*"
   ],
   "hotkey": "alt-t",
   "langInMainMenu": true,
   "sourceLang": "en",
   "targetLang": "fr",
   "useGoogleTranslate": true
  },
  "varInspector": {
   "cols": {
    "lenName": 16,
    "lenType": 16,
    "lenVar": 40
   },
   "kernels_config": {
    "python": {
     "delete_cmd_postfix": "",
     "delete_cmd_prefix": "del ",
     "library": "var_list.py",
     "varRefreshCmd": "print(var_dic_list())"
    },
    "r": {
     "delete_cmd_postfix": ") ",
     "delete_cmd_prefix": "rm(",
     "library": "var_list.r",
     "varRefreshCmd": "cat(var_dic_list()) "
    }
   },
   "types_to_exclude": [
    "module",
    "function",
    "builtin_function_or_method",
    "instance",
    "_Feature"
   ],
   "window_display": false
  }
 },
 "nbformat": 4,
 "nbformat_minor": 4
}
