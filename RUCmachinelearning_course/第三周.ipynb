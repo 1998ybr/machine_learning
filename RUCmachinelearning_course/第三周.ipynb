{
 "cells": [
  {
   "cell_type": "markdown",
   "metadata": {},
   "source": [
    "### 习题1.1"
   ]
  },
  {
   "cell_type": "markdown",
   "metadata": {},
   "source": [
    "分析：\n",
    "<br>对于一个数据集，有m个特征$X_i,i\\in \\{1,2,\\dots,m\\}$，每种特征$X_i$有$t_i+1$个取值（$t_i$个已知取值，再加上该特征的泛化$*$）\n",
    "<br>则共有$\\prod_{i=1}^{i=m}(t_i+1)+1$种假设。（因为还有一个空集）"
   ]
  },
  {
   "cell_type": "markdown",
   "metadata": {},
   "source": [
    "对于表1.1中编号1,4两个样例，共有28个假设。分别是：\n",
    "\n",
    "* 色泽=青绿 根蒂=蜷缩 敲声=浊响\n",
    "* 色泽=青绿 根蒂=蜷缩 敲声=沉闷\n",
    "* 色泽=青绿 根蒂=稍蜷 敲声=浊响\n",
    "* 色泽=青绿 根蒂=稍蜷 敲声=沉闷\n",
    "* 色泽=乌黑 根蒂=蜷缩 敲声=浊响\n",
    "* 色泽=乌黑 根蒂=蜷缩 敲声=沉闷\n",
    "* 色泽=乌黑 根蒂=稍蜷 敲声=浊响\n",
    "* 色泽=乌黑 根蒂=稍蜷 敲声=沉闷\n",
    "* 色泽=青绿 根蒂=蜷缩 敲声=$*$\n",
    "* 色泽=青绿 根蒂=稍蜷 敲声=$*$\n",
    "* 色泽=乌黑 根蒂=蜷缩 敲声=$*$\n",
    "* 色泽=乌黑 根蒂=稍蜷 敲声=$*$\n",
    "* 色泽=青绿 根蒂=$*$ 敲声=浊响\n",
    "* 色泽=青绿 根蒂=$*$ 敲声=沉闷\n",
    "* 色泽=乌黑 根蒂=$*$ 敲声=浊响\n",
    "* 色泽=乌黑 根蒂=$*$ 敲声=沉闷\n",
    "* 色泽=$*$ 根蒂=蜷缩 敲声=浊响\n",
    "* 色泽=$*$ 根蒂=蜷缩 敲声=沉闷\n",
    "* 色泽=$*$ 根蒂=稍蜷 敲声=浊响\n",
    "* 色泽=$*$ 根蒂=稍蜷 敲声=沉闷\n",
    "* 色泽=青绿 根蒂=$*$ 敲声=$*$\n",
    "* 色泽=乌黑 根蒂=$*$ 敲声=$*$\n",
    "* 色泽=$*$ 根蒂=蜷缩 敲声=$*$\n",
    "* 色泽=$*$ 根蒂=稍蜷 敲声=$*$\n",
    "* 色泽=$*$ 根蒂=$*$ 敲声=浊响\n",
    "* 色泽=$*$ 根蒂=$*$ 敲声=沉闷\n",
    "* 色泽=$*$ 根蒂=$*$ 敲声=$*$\n",
    "* $\\emptyset$ "
   ]
  },
  {
   "cell_type": "markdown",
   "metadata": {},
   "source": [
    "### 习题1.2"
   ]
  },
  {
   "cell_type": "markdown",
   "metadata": {},
   "source": [
    "分析:\n",
    "<br>在表1.1中3个特征，分别有3,4,4种取值；\n",
    "<br>由于Train Set存在正例，不考虑$\\emptyset$。\n",
    "<br>包含48个合取式，假设空间有48个假设？\n",
    "<br>剩下的实在想不到了，查了网上的解析也没搞明白。"
   ]
  }
 ],
 "metadata": {
  "kernelspec": {
   "display_name": "Python 3",
   "language": "python",
   "name": "python3"
  },
  "language_info": {
   "codemirror_mode": {
    "name": "ipython",
    "version": 3
   },
   "file_extension": ".py",
   "mimetype": "text/x-python",
   "name": "python",
   "nbconvert_exporter": "python",
   "pygments_lexer": "ipython3",
   "version": "3.7.6"
  },
  "nbTranslate": {
   "displayLangs": [
    "*"
   ],
   "hotkey": "alt-t",
   "langInMainMenu": true,
   "sourceLang": "en",
   "targetLang": "fr",
   "useGoogleTranslate": true
  },
  "varInspector": {
   "cols": {
    "lenName": 16,
    "lenType": 16,
    "lenVar": 40
   },
   "kernels_config": {
    "python": {
     "delete_cmd_postfix": "",
     "delete_cmd_prefix": "del ",
     "library": "var_list.py",
     "varRefreshCmd": "print(var_dic_list())"
    },
    "r": {
     "delete_cmd_postfix": ") ",
     "delete_cmd_prefix": "rm(",
     "library": "var_list.r",
     "varRefreshCmd": "cat(var_dic_list()) "
    }
   },
   "types_to_exclude": [
    "module",
    "function",
    "builtin_function_or_method",
    "instance",
    "_Feature"
   ],
   "window_display": false
  }
 },
 "nbformat": 4,
 "nbformat_minor": 4
}
