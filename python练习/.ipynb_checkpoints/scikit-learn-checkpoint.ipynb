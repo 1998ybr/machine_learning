{
 "cells": [
  {
   "cell_type": "markdown",
   "metadata": {},
   "source": [
    "# 写在前面的话 "
   ]
  },
  {
   "cell_type": "markdown",
   "metadata": {},
   "source": [
    "作为一个爱好这些“奇技淫巧”的人，我实在算不得一个好学生，更算不得一个好的研究者。可能是对自己放纵太久了，每当深夜难以入眠的时候，便会反思自己，为何2018年后便这样无所事事？扪心自问，过去那个最大的理想的破灭或许并不是理由——历史的长河中，我们做的那些个事情就算做成了，又算得了什么呢？归根到底是因为“自我松绑”：过去我可以为了某个目标一天仅睡五六个小时，可以不惧严寒在黑夜中踽踽前行，可以克服孤独与自我怀疑；但是现在，我只能求助于物质，求助于外界的帮助，但即使如此还常常沉湎于温柔之乡。\n",
    "\n",
    "如此种种，实在不算是一个猛士之所作为。神龟虽寿，犹有尽时，更何况我仅仅是一个没有什么天赋的普通人。只能是趁年轻，寄壮志于流霞，书豪情至沧海。\n",
    "\n",
    "2020年12月30日，经过在家里一年的备考后，我重新安装了anaconda，开始数据科学的学习之旅。"
   ]
  },
  {
   "cell_type": "code",
   "execution_count": 1,
   "metadata": {
    "ExecuteTime": {
     "end_time": "2020-12-30T15:02:57.526308Z",
     "start_time": "2020-12-30T15:02:56.500052Z"
    }
   },
   "outputs": [],
   "source": [
    "import pandas as pd"
   ]
  },
  {
   "cell_type": "code",
   "execution_count": 2,
   "metadata": {
    "ExecuteTime": {
     "end_time": "2020-12-30T15:04:42.181354Z",
     "start_time": "2020-12-30T15:04:42.158416Z"
    }
   },
   "outputs": [],
   "source": [
    "data=pd.read_csv('C:\\\\Users\\\\86173\\\\Desktop\\\\titanic\\\\train.csv')"
   ]
  }
 ],
 "metadata": {
  "kernelspec": {
   "display_name": "Python 3",
   "language": "python",
   "name": "python3"
  },
  "language_info": {
   "codemirror_mode": {
    "name": "ipython",
    "version": 3
   },
   "file_extension": ".py",
   "mimetype": "text/x-python",
   "name": "python",
   "nbconvert_exporter": "python",
   "pygments_lexer": "ipython3",
   "version": "3.8.5"
  },
  "nbTranslate": {
   "displayLangs": [
    "*"
   ],
   "hotkey": "alt-t",
   "langInMainMenu": true,
   "sourceLang": "en",
   "targetLang": "fr",
   "useGoogleTranslate": true
  },
  "varInspector": {
   "cols": {
    "lenName": 16,
    "lenType": 16,
    "lenVar": 40
   },
   "kernels_config": {
    "python": {
     "delete_cmd_postfix": "",
     "delete_cmd_prefix": "del ",
     "library": "var_list.py",
     "varRefreshCmd": "print(var_dic_list())"
    },
    "r": {
     "delete_cmd_postfix": ") ",
     "delete_cmd_prefix": "rm(",
     "library": "var_list.r",
     "varRefreshCmd": "cat(var_dic_list()) "
    }
   },
   "types_to_exclude": [
    "module",
    "function",
    "builtin_function_or_method",
    "instance",
    "_Feature"
   ],
   "window_display": false
  }
 },
 "nbformat": 4,
 "nbformat_minor": 4
}
