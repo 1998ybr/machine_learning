{
 "cells": [
  {
   "cell_type": "markdown",
   "metadata": {},
   "source": [
    "# 0. 变量介绍及赋值"
   ]
  },
  {
   "cell_type": "markdown",
   "metadata": {},
   "source": [
    "Python有5个标准的数据类型，分别是字符串string、数字number、列表list、元组tuple和字典dictionary。不同的数据类型有不同的操作方式。\n",
    "<br>除此之外，一些特殊的模块还会有特殊的数据类型，比如数据框dataframe和张量tensor。"
   ]
  },
  {
   "cell_type": "code",
   "execution_count": 4,
   "metadata": {
    "execution": {
     "iopub.execute_input": "2021-03-02T12:56:52.240381Z",
     "iopub.status.busy": "2021-03-02T12:56:52.240381Z",
     "iopub.status.idle": "2021-03-02T12:56:52.250354Z",
     "shell.execute_reply": "2021-03-02T12:56:52.249357Z",
     "shell.execute_reply.started": "2021-03-02T12:56:52.240381Z"
    }
   },
   "outputs": [
    {
     "name": "stdout",
     "output_type": "stream",
     "text": [
      "alice in borderland\n",
      "alice in borderland\n",
      "1\n",
      "1\n",
      "1\n",
      "1\n"
     ]
    }
   ],
   "source": [
    "# 单变量赋值\n",
    "name=\"alice in borderland\"\n",
    "print(name)\n",
    "# 多变量赋不同值\n",
    "name,season_number=\"alice in borderland\",str(1)\n",
    "print(name)\n",
    "print(season_number)\n",
    "# 多变量赋相同值\n",
    "season_number1=season_number2=season_number3=1\n",
    "print(season_number1)\n",
    "print(season_number2)\n",
    "print(season_number3)"
   ]
  },
  {
   "cell_type": "markdown",
   "metadata": {},
   "source": [
    "# 1.字符串"
   ]
  },
  {
   "cell_type": "markdown",
   "metadata": {},
   "source": [
    "## 1.1 修改大小写"
   ]
  },
  {
   "cell_type": "code",
   "execution_count": 2,
   "metadata": {
    "execution": {
     "iopub.execute_input": "2021-03-01T11:05:23.863449Z",
     "iopub.status.busy": "2021-03-01T11:05:23.863449Z",
     "iopub.status.idle": "2021-03-01T11:05:23.871426Z",
     "shell.execute_reply": "2021-03-01T11:05:23.870431Z",
     "shell.execute_reply.started": "2021-03-01T11:05:23.863449Z"
    }
   },
   "outputs": [
    {
     "name": "stdout",
     "output_type": "stream",
     "text": [
      "Alice In Borderland\n"
     ]
    }
   ],
   "source": [
    "#首字母大写title()\n",
    "name=\"alice in borderland\"\n",
    "print(name.title())"
   ]
  },
  {
   "cell_type": "code",
   "execution_count": 4,
   "metadata": {
    "execution": {
     "iopub.execute_input": "2021-03-01T11:07:43.188881Z",
     "iopub.status.busy": "2021-03-01T11:07:43.187886Z",
     "iopub.status.idle": "2021-03-01T11:07:43.195863Z",
     "shell.execute_reply": "2021-03-01T11:07:43.194868Z",
     "shell.execute_reply.started": "2021-03-01T11:07:43.188881Z"
    }
   },
   "outputs": [
    {
     "name": "stdout",
     "output_type": "stream",
     "text": [
      "ALICE IN BORDERLAND\n"
     ]
    }
   ],
   "source": [
    "#全部大写upper()\n",
    "name=\"alice in borderland\"\n",
    "print(name.upper())"
   ]
  },
  {
   "cell_type": "code",
   "execution_count": 5,
   "metadata": {
    "execution": {
     "iopub.execute_input": "2021-03-01T11:08:28.589622Z",
     "iopub.status.busy": "2021-03-01T11:08:28.588627Z",
     "iopub.status.idle": "2021-03-01T11:08:28.596603Z",
     "shell.execute_reply": "2021-03-01T11:08:28.595606Z",
     "shell.execute_reply.started": "2021-03-01T11:08:28.589622Z"
    }
   },
   "outputs": [
    {
     "name": "stdout",
     "output_type": "stream",
     "text": [
      "alice in borderland\n"
     ]
    }
   ],
   "source": [
    "#全部小写lower()\n",
    "name=\"ALICE IN BORDERLAND\"\n",
    "print(name.lower())"
   ]
  },
  {
   "cell_type": "markdown",
   "metadata": {},
   "source": [
    "##  1.2 字符串拼接"
   ]
  },
  {
   "cell_type": "code",
   "execution_count": 7,
   "metadata": {
    "execution": {
     "iopub.execute_input": "2021-03-01T11:20:45.739382Z",
     "iopub.status.busy": "2021-03-01T11:20:45.738384Z",
     "iopub.status.idle": "2021-03-01T11:20:45.746363Z",
     "shell.execute_reply": "2021-03-01T11:20:45.745365Z",
     "shell.execute_reply.started": "2021-03-01T11:20:45.739382Z"
    }
   },
   "outputs": [
    {
     "name": "stdout",
     "output_type": "stream",
     "text": [
      "Alice In Borderland Season 1\n"
     ]
    }
   ],
   "source": [
    "#+\n",
    "show_name=\"alice in borderland\"\n",
    "season_number=\"season 1\"\n",
    "message=show_name.title()+\" \"+season_number.title()\n",
    "print(message)"
   ]
  },
  {
   "cell_type": "markdown",
   "metadata": {},
   "source": [
    "## 1.3  空格与换行"
   ]
  },
  {
   "cell_type": "code",
   "execution_count": 11,
   "metadata": {
    "execution": {
     "iopub.execute_input": "2021-03-01T11:25:27.734214Z",
     "iopub.status.busy": "2021-03-01T11:25:27.734214Z",
     "iopub.status.idle": "2021-03-01T11:25:27.743190Z",
     "shell.execute_reply": "2021-03-01T11:25:27.741196Z",
     "shell.execute_reply.started": "2021-03-01T11:25:27.734214Z"
    }
   },
   "outputs": [
    {
     "name": "stdout",
     "output_type": "stream",
     "text": [
      "Python\n",
      "\tPython\n"
     ]
    }
   ],
   "source": [
    "#\\t\n",
    "print(\"Python\")\n",
    "print(\"\\tPython\")"
   ]
  },
  {
   "cell_type": "code",
   "execution_count": 12,
   "metadata": {
    "execution": {
     "iopub.execute_input": "2021-03-01T11:26:03.377135Z",
     "iopub.status.busy": "2021-03-01T11:26:03.376140Z",
     "iopub.status.idle": "2021-03-01T11:26:03.386112Z",
     "shell.execute_reply": "2021-03-01T11:26:03.385115Z",
     "shell.execute_reply.started": "2021-03-01T11:26:03.376140Z"
    }
   },
   "outputs": [
    {
     "name": "stdout",
     "output_type": "stream",
     "text": [
      "Python\n",
      "\n",
      "Python\n"
     ]
    }
   ],
   "source": [
    "#\\n\n",
    "print(\"Python\")\n",
    "print(\"\\nPython\")"
   ]
  },
  {
   "cell_type": "markdown",
   "metadata": {},
   "source": [
    "## 1.4 删除空白"
   ]
  },
  {
   "cell_type": "code",
   "execution_count": 18,
   "metadata": {
    "execution": {
     "iopub.execute_input": "2021-03-01T11:33:02.776546Z",
     "iopub.status.busy": "2021-03-01T11:33:02.775545Z",
     "iopub.status.idle": "2021-03-01T11:33:02.784521Z",
     "shell.execute_reply": "2021-03-01T11:33:02.783524Z",
     "shell.execute_reply.started": "2021-03-01T11:33:02.776546Z"
    }
   },
   "outputs": [],
   "source": [
    "show_name=\"         alice in borderland              \""
   ]
  },
  {
   "cell_type": "code",
   "execution_count": 18,
   "metadata": {
    "execution": {
     "iopub.execute_input": "2021-03-01T11:33:02.776546Z",
     "iopub.status.busy": "2021-03-01T11:33:02.775545Z",
     "iopub.status.idle": "2021-03-01T11:33:02.784521Z",
     "shell.execute_reply": "2021-03-01T11:33:02.783524Z",
     "shell.execute_reply.started": "2021-03-01T11:33:02.776546Z"
    }
   },
   "outputs": [
    {
     "data": {
      "text/plain": [
       "'         Alice In Borderland'"
      ]
     },
     "execution_count": 18,
     "metadata": {},
     "output_type": "execute_result"
    }
   ],
   "source": [
    "#rstrip（）\n",
    "show_name.title().rstrip()"
   ]
  },
  {
   "cell_type": "code",
   "execution_count": 20,
   "metadata": {
    "execution": {
     "iopub.execute_input": "2021-03-01T11:34:05.399813Z",
     "iopub.status.busy": "2021-03-01T11:34:05.398815Z",
     "iopub.status.idle": "2021-03-01T11:34:05.408789Z",
     "shell.execute_reply": "2021-03-01T11:34:05.406794Z",
     "shell.execute_reply.started": "2021-03-01T11:34:05.399813Z"
    }
   },
   "outputs": [
    {
     "data": {
      "text/plain": [
       "'Alice In Borderland              '"
      ]
     },
     "execution_count": 20,
     "metadata": {},
     "output_type": "execute_result"
    }
   ],
   "source": [
    "#lstrip()\n",
    "show_name.title().lstrip()"
   ]
  },
  {
   "cell_type": "code",
   "execution_count": 21,
   "metadata": {
    "execution": {
     "iopub.execute_input": "2021-03-01T11:34:35.189834Z",
     "iopub.status.busy": "2021-03-01T11:34:35.189834Z",
     "iopub.status.idle": "2021-03-01T11:34:35.198810Z",
     "shell.execute_reply": "2021-03-01T11:34:35.197812Z",
     "shell.execute_reply.started": "2021-03-01T11:34:35.189834Z"
    }
   },
   "outputs": [
    {
     "data": {
      "text/plain": [
       "'Alice In Borderland'"
      ]
     },
     "execution_count": 21,
     "metadata": {},
     "output_type": "execute_result"
    }
   ],
   "source": [
    "show_name.title().rstrip().lstrip()"
   ]
  },
  {
   "cell_type": "code",
   "execution_count": 19,
   "metadata": {
    "execution": {
     "iopub.execute_input": "2021-03-01T11:33:05.831296Z",
     "iopub.status.busy": "2021-03-01T11:33:05.831296Z",
     "iopub.status.idle": "2021-03-01T11:33:05.838277Z",
     "shell.execute_reply": "2021-03-01T11:33:05.837280Z",
     "shell.execute_reply.started": "2021-03-01T11:33:05.831296Z"
    }
   },
   "outputs": [
    {
     "data": {
      "text/plain": [
       "'         Alice In Borderland              '"
      ]
     },
     "execution_count": 19,
     "metadata": {},
     "output_type": "execute_result"
    }
   ],
   "source": [
    "show_name.title()"
   ]
  },
  {
   "cell_type": "markdown",
   "metadata": {},
   "source": [
    "# 2. 数字"
   ]
  },
  {
   "cell_type": "markdown",
   "metadata": {},
   "source": [
    "## 2.1 整数"
   ]
  },
  {
   "cell_type": "code",
   "execution_count": 22,
   "metadata": {
    "execution": {
     "iopub.execute_input": "2021-03-01T12:16:00.982085Z",
     "iopub.status.busy": "2021-03-01T12:16:00.981086Z",
     "iopub.status.idle": "2021-03-01T12:16:00.990061Z",
     "shell.execute_reply": "2021-03-01T12:16:00.989066Z",
     "shell.execute_reply.started": "2021-03-01T12:16:00.982085Z"
    }
   },
   "outputs": [
    {
     "name": "stdout",
     "output_type": "stream",
     "text": [
      "5\n",
      "-1\n",
      "6\n",
      "8\n"
     ]
    }
   ],
   "source": [
    "# 四则运算、乘方运算\n",
    "print(2+3)\n",
    "print(2-3)\n",
    "print(2*3)\n",
    "print(2**3)"
   ]
  },
  {
   "cell_type": "markdown",
   "metadata": {},
   "source": [
    "## 2.2 浮点数"
   ]
  },
  {
   "cell_type": "code",
   "execution_count": 23,
   "metadata": {
    "execution": {
     "iopub.execute_input": "2021-03-01T12:16:55.537120Z",
     "iopub.status.busy": "2021-03-01T12:16:55.537120Z",
     "iopub.status.idle": "2021-03-01T12:16:55.545065Z",
     "shell.execute_reply": "2021-03-01T12:16:55.544067Z",
     "shell.execute_reply.started": "2021-03-01T12:16:55.537120Z"
    }
   },
   "outputs": [
    {
     "data": {
      "text/plain": [
       "0.30000000000000004"
      ]
     },
     "execution_count": 23,
     "metadata": {},
     "output_type": "execute_result"
    }
   ],
   "source": [
    "0.1+0.2"
   ]
  },
  {
   "cell_type": "markdown",
   "metadata": {},
   "source": [
    "## 2.3 将数值型转成字符串 str()"
   ]
  },
  {
   "cell_type": "code",
   "execution_count": 25,
   "metadata": {
    "execution": {
     "iopub.execute_input": "2021-03-01T12:20:21.936013Z",
     "iopub.status.busy": "2021-03-01T12:20:21.936013Z",
     "iopub.status.idle": "2021-03-01T12:20:21.953969Z",
     "shell.execute_reply": "2021-03-01T12:20:21.951969Z",
     "shell.execute_reply.started": "2021-03-01T12:20:21.936013Z"
    }
   },
   "outputs": [
    {
     "ename": "TypeError",
     "evalue": "can only concatenate str (not \"int\") to str",
     "output_type": "error",
     "traceback": [
      "\u001b[1;31m---------------------------------------------------------------------------\u001b[0m",
      "\u001b[1;31mTypeError\u001b[0m                                 Traceback (most recent call last)",
      "\u001b[1;32m<ipython-input-25-776686c7f0e8>\u001b[0m in \u001b[0;36m<module>\u001b[1;34m\u001b[0m\n\u001b[0;32m      1\u001b[0m \u001b[0mseason_number\u001b[0m\u001b[1;33m=\u001b[0m\u001b[1;36m1\u001b[0m\u001b[1;33m\u001b[0m\u001b[1;33m\u001b[0m\u001b[0m\n\u001b[1;32m----> 2\u001b[1;33m \u001b[0mprint\u001b[0m\u001b[1;33m(\u001b[0m\u001b[1;34m'Alice in Borderland'\u001b[0m\u001b[1;33m+\u001b[0m \u001b[1;34m\"\"\u001b[0m \u001b[1;33m+\u001b[0m\u001b[0mseason_number\u001b[0m\u001b[1;33m)\u001b[0m\u001b[1;33m\u001b[0m\u001b[1;33m\u001b[0m\u001b[0m\n\u001b[0m",
      "\u001b[1;31mTypeError\u001b[0m: can only concatenate str (not \"int\") to str"
     ]
    }
   ],
   "source": [
    "season_number=1\n",
    "print('Alice in Borderland'+ \"\" +season_number)"
   ]
  },
  {
   "cell_type": "code",
   "execution_count": 27,
   "metadata": {
    "execution": {
     "iopub.execute_input": "2021-03-01T12:21:02.065521Z",
     "iopub.status.busy": "2021-03-01T12:21:02.064525Z",
     "iopub.status.idle": "2021-03-01T12:21:02.072504Z",
     "shell.execute_reply": "2021-03-01T12:21:02.071507Z",
     "shell.execute_reply.started": "2021-03-01T12:21:02.065521Z"
    }
   },
   "outputs": [
    {
     "name": "stdout",
     "output_type": "stream",
     "text": [
      "Alice in Borderland 1\n"
     ]
    }
   ],
   "source": [
    "season_number=1\n",
    "print('Alice in Borderland'+ \" \" +str(season_number))"
   ]
  }
 ],
 "metadata": {
  "kernelspec": {
   "display_name": "Python 3",
   "language": "python",
   "name": "python3"
  },
  "language_info": {
   "codemirror_mode": {
    "name": "ipython",
    "version": 3
   },
   "file_extension": ".py",
   "mimetype": "text/x-python",
   "name": "python",
   "nbconvert_exporter": "python",
   "pygments_lexer": "ipython3",
   "version": "3.8.5"
  },
  "toc-autonumbering": false,
  "toc-showcode": false,
  "toc-showmarkdowntxt": false,
  "toc-showtags": false
 },
 "nbformat": 4,
 "nbformat_minor": 4
}
