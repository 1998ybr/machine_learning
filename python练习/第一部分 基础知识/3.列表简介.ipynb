{
 "cells": [
  {
   "cell_type": "markdown",
   "id": "5f6e0516",
   "metadata": {},
   "source": [
    "# 什么是列表 "
   ]
  },
  {
   "cell_type": "code",
   "execution_count": 1,
   "id": "e4a7c975",
   "metadata": {
    "execution": {
     "iopub.execute_input": "2021-04-09T06:32:26.595315Z",
     "iopub.status.busy": "2021-04-09T06:32:26.595315Z",
     "iopub.status.idle": "2021-04-09T06:32:26.616259Z",
     "shell.execute_reply": "2021-04-09T06:32:26.615261Z",
     "shell.execute_reply.started": "2021-04-09T06:32:26.595315Z"
    },
    "tags": []
   },
   "outputs": [
    {
     "name": "stdout",
     "output_type": "stream",
     "text": [
      "['banana', 'orange', 'peach', 'apple']\n"
     ]
    }
   ],
   "source": [
    "fruits = [\"banana\", \"orange\", \"peach\", \"apple\"]\n",
    "print(fruits)"
   ]
  },
  {
   "cell_type": "markdown",
   "id": "a4566d2f",
   "metadata": {},
   "source": [
    "## 访问列表元素"
   ]
  },
  {
   "cell_type": "code",
   "execution_count": 2,
   "id": "be11b9fa",
   "metadata": {
    "execution": {
     "iopub.execute_input": "2021-04-09T05:26:35.713960Z",
     "iopub.status.busy": "2021-04-09T05:26:35.713960Z",
     "iopub.status.idle": "2021-04-09T05:26:35.734909Z",
     "shell.execute_reply": "2021-04-09T05:26:35.733907Z",
     "shell.execute_reply.started": "2021-04-09T05:26:35.713960Z"
    },
    "tags": []
   },
   "outputs": [
    {
     "name": "stdout",
     "output_type": "stream",
     "text": [
      "banana\n"
     ]
    }
   ],
   "source": [
    "print(fruits[0])"
   ]
  },
  {
   "cell_type": "code",
   "execution_count": 3,
   "id": "1b8c82d8",
   "metadata": {
    "execution": {
     "iopub.execute_input": "2021-04-09T05:26:54.788583Z",
     "iopub.status.busy": "2021-04-09T05:26:54.788583Z",
     "iopub.status.idle": "2021-04-09T05:26:54.804812Z",
     "shell.execute_reply": "2021-04-09T05:26:54.803814Z",
     "shell.execute_reply.started": "2021-04-09T05:26:54.788583Z"
    },
    "tags": []
   },
   "outputs": [
    {
     "name": "stdout",
     "output_type": "stream",
     "text": [
      "Peach\n"
     ]
    }
   ],
   "source": [
    "print(fruits[2].title())"
   ]
  },
  {
   "cell_type": "code",
   "execution_count": 4,
   "id": "d5f9a0d7",
   "metadata": {
    "execution": {
     "iopub.execute_input": "2021-04-09T05:27:23.653599Z",
     "iopub.status.busy": "2021-04-09T05:27:23.653599Z",
     "iopub.status.idle": "2021-04-09T05:27:23.669896Z",
     "shell.execute_reply": "2021-04-09T05:27:23.669221Z",
     "shell.execute_reply.started": "2021-04-09T05:27:23.653599Z"
    },
    "tags": []
   },
   "outputs": [
    {
     "name": "stdout",
     "output_type": "stream",
     "text": [
      "ORANGE\n"
     ]
    }
   ],
   "source": [
    "print(fruits[1].upper())"
   ]
  },
  {
   "cell_type": "markdown",
   "id": "421c1d48",
   "metadata": {},
   "source": [
    "# 修改、添加和删除元素"
   ]
  },
  {
   "cell_type": "markdown",
   "id": "b0524a76",
   "metadata": {},
   "source": [
    "## 修改列表元素"
   ]
  },
  {
   "cell_type": "code",
   "execution_count": null,
   "id": "2359a26e",
   "metadata": {},
   "outputs": [],
   "source": []
  }
 ],
 "metadata": {
  "kernelspec": {
   "display_name": "Python 3",
   "language": "python",
   "name": "python3"
  },
  "language_info": {
   "codemirror_mode": {
    "name": "ipython",
    "version": 3
   },
   "file_extension": ".py",
   "mimetype": "text/x-python",
   "name": "python",
   "nbconvert_exporter": "python",
   "pygments_lexer": "ipython3",
   "version": "3.8.8"
  },
  "toc-autonumbering": true
 },
 "nbformat": 4,
 "nbformat_minor": 5
}
