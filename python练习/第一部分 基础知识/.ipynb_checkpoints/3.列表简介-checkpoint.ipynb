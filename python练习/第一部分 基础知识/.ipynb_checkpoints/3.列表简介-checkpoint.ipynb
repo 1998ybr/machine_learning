{
 "cells": [
  {
   "cell_type": "markdown",
   "id": "bb215545",
   "metadata": {},
   "source": [
    "# 什么是列表 "
   ]
  },
  {
   "cell_type": "code",
   "execution_count": 1,
   "id": "1d4d5707",
   "metadata": {
    "execution": {
     "iopub.execute_input": "2021-04-09T05:25:59.689880Z",
     "iopub.status.busy": "2021-04-09T05:25:59.688877Z",
     "iopub.status.idle": "2021-04-09T05:25:59.705486Z",
     "shell.execute_reply": "2021-04-09T05:25:59.704487Z",
     "shell.execute_reply.started": "2021-04-09T05:25:59.689880Z"
    },
    "tags": []
   },
   "outputs": [
    {
     "name": "stdout",
     "output_type": "stream",
     "text": [
      "['banana', 'orange', 'peach', 'apple']\n"
     ]
    }
   ],
   "source": [
    "fruits = [\"banana\", \"orange\", \"peach\", \"apple\"]\n",
    "print(fruits)"
   ]
  },
  {
   "cell_type": "markdown",
   "id": "9f7a5580",
   "metadata": {},
   "source": [
    "## 访问列表元素"
   ]
  },
  {
   "cell_type": "code",
   "execution_count": 2,
   "id": "b3e72b8b",
   "metadata": {
    "execution": {
     "iopub.execute_input": "2021-04-09T05:26:35.713960Z",
     "iopub.status.busy": "2021-04-09T05:26:35.713960Z",
     "iopub.status.idle": "2021-04-09T05:26:35.734909Z",
     "shell.execute_reply": "2021-04-09T05:26:35.733907Z",
     "shell.execute_reply.started": "2021-04-09T05:26:35.713960Z"
    },
    "tags": []
   },
   "outputs": [
    {
     "name": "stdout",
     "output_type": "stream",
     "text": [
      "banana\n"
     ]
    }
   ],
   "source": [
    "print(fruits[0])"
   ]
  },
  {
   "cell_type": "code",
   "execution_count": 3,
   "id": "9242f407",
   "metadata": {
    "execution": {
     "iopub.execute_input": "2021-04-09T05:26:54.788583Z",
     "iopub.status.busy": "2021-04-09T05:26:54.788583Z",
     "iopub.status.idle": "2021-04-09T05:26:54.804812Z",
     "shell.execute_reply": "2021-04-09T05:26:54.803814Z",
     "shell.execute_reply.started": "2021-04-09T05:26:54.788583Z"
    },
    "tags": []
   },
   "outputs": [
    {
     "name": "stdout",
     "output_type": "stream",
     "text": [
      "Peach\n"
     ]
    }
   ],
   "source": [
    "print(fruits[2].title())"
   ]
  },
  {
   "cell_type": "code",
   "execution_count": 4,
   "id": "15991f93",
   "metadata": {
    "execution": {
     "iopub.execute_input": "2021-04-09T05:27:23.653599Z",
     "iopub.status.busy": "2021-04-09T05:27:23.653599Z",
     "iopub.status.idle": "2021-04-09T05:27:23.669896Z",
     "shell.execute_reply": "2021-04-09T05:27:23.669221Z",
     "shell.execute_reply.started": "2021-04-09T05:27:23.653599Z"
    },
    "tags": []
   },
   "outputs": [
    {
     "name": "stdout",
     "output_type": "stream",
     "text": [
      "ORANGE\n"
     ]
    }
   ],
   "source": [
    "print(fruits[1].upper())"
   ]
  },
  {
   "cell_type": "markdown",
   "id": "469d053a",
   "metadata": {},
   "source": [
    "# 修改、添加和删除元素"
   ]
  },
  {
   "cell_type": "markdown",
   "id": "bc35ad6f",
   "metadata": {},
   "source": [
    "## 修改列表元素"
   ]
  },
  {
   "cell_type": "code",
   "execution_count": null,
   "id": "80063810",
   "metadata": {},
   "outputs": [],
   "source": []
  }
 ],
 "metadata": {
  "kernelspec": {
   "display_name": "Python 3",
   "language": "python",
   "name": "python3"
  },
  "language_info": {
   "codemirror_mode": {
    "name": "ipython",
    "version": 3
   },
   "file_extension": ".py",
   "mimetype": "text/x-python",
   "name": "python",
   "nbconvert_exporter": "python",
   "pygments_lexer": "ipython3",
   "version": "3.8.8"
  },
  "toc-autonumbering": true
 },
 "nbformat": 4,
 "nbformat_minor": 5
}
