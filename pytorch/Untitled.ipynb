{
 "cells": [
  {
   "cell_type": "code",
   "execution_count": 2,
   "id": "53ea17f4-f3c6-44e2-854e-8af2d49eace1",
   "metadata": {
    "execution": {
     "iopub.execute_input": "2021-05-09T16:44:14.829782Z",
     "iopub.status.busy": "2021-05-09T16:44:14.829782Z",
     "iopub.status.idle": "2021-05-09T16:44:15.510736Z",
     "shell.execute_reply": "2021-05-09T16:44:15.508616Z",
     "shell.execute_reply.started": "2021-05-09T16:44:14.829782Z"
    },
    "tags": []
   },
   "outputs": [],
   "source": [
    "import torch\n",
    "from torch import nn\n",
    "from torch.utils.data import DataLoader\n",
    "from torchvision import datasets\n",
    "from torchvision.transforms import ToTensor, Lambda, Compose\n",
    "import matplotlib.pyplot as plt"
   ]
  },
  {
   "cell_type": "code",
   "execution_count": 3,
   "id": "18da1610-ed6c-4987-84df-7d1d88491614",
   "metadata": {
    "execution": {
     "iopub.execute_input": "2021-05-09T16:44:23.148543Z",
     "iopub.status.busy": "2021-05-09T16:44:23.148543Z",
     "iopub.status.idle": "2021-05-09T16:44:23.352538Z",
     "shell.execute_reply": "2021-05-09T16:44:23.350621Z",
     "shell.execute_reply.started": "2021-05-09T16:44:23.148543Z"
    },
    "tags": []
   },
   "outputs": [],
   "source": [
    "# Download training data from open datasets.\n",
    "training_data = datasets.FashionMNIST(\n",
    "    root=\"data\",\n",
    "    train=True,\n",
    "    download=True,\n",
    "    transform=ToTensor(),\n",
    ")\n",
    "\n",
    "# Download test data from open datasets.\n",
    "test_data = datasets.FashionMNIST(\n",
    "    root=\"data\",\n",
    "    train=False,\n",
    "    download=True,\n",
    "    transform=ToTensor(),\n",
    ")"
   ]
  },
  {
   "cell_type": "code",
   "execution_count": 4,
   "id": "2f354a90-21c5-46e8-b6c7-614ff4a13fe8",
   "metadata": {
    "execution": {
     "iopub.execute_input": "2021-05-09T16:44:31.513437Z",
     "iopub.status.busy": "2021-05-09T16:44:31.512441Z",
     "iopub.status.idle": "2021-05-09T16:44:31.582361Z",
     "shell.execute_reply": "2021-05-09T16:44:31.581373Z",
     "shell.execute_reply.started": "2021-05-09T16:44:31.513437Z"
    },
    "tags": []
   },
   "outputs": [
    {
     "name": "stdout",
     "output_type": "stream",
     "text": [
      "Shape of X [N, C, H, W]:  torch.Size([64, 1, 28, 28])\n",
      "Shape of y:  torch.Size([64]) torch.int64\n"
     ]
    }
   ],
   "source": [
    "batch_size = 64\n",
    "\n",
    "# Create data loaders.\n",
    "train_dataloader = DataLoader(training_data, batch_size=batch_size)\n",
    "test_dataloader = DataLoader(test_data, batch_size=batch_size)\n",
    "\n",
    "for X, y in test_dataloader:\n",
    "    print(\"Shape of X [N, C, H, W]: \", X.shape)\n",
    "    print(\"Shape of y: \", y.shape, y.dtype)\n",
    "    break"
   ]
  },
  {
   "cell_type": "code",
   "execution_count": 5,
   "id": "0f80131d-7d95-4f61-810a-c77a88dd2ad2",
   "metadata": {
    "collapsed": true,
    "execution": {
     "iopub.execute_input": "2021-05-09T16:44:41.599815Z",
     "iopub.status.busy": "2021-05-09T16:44:41.598817Z",
     "iopub.status.idle": "2021-05-09T16:44:41.654668Z",
     "shell.execute_reply": "2021-05-09T16:44:41.652673Z",
     "shell.execute_reply.started": "2021-05-09T16:44:41.599815Z"
    },
    "jupyter": {
     "outputs_hidden": true
    },
    "tags": []
   },
   "outputs": [
    {
     "name": "stdout",
     "output_type": "stream",
     "text": [
      "Using cpu device\n",
      "NeuralNetwork(\n",
      "  (flatten): Flatten(start_dim=1, end_dim=-1)\n",
      "  (linear_relu_stack): Sequential(\n",
      "    (0): Linear(in_features=784, out_features=512, bias=True)\n",
      "    (1): ReLU()\n",
      "    (2): Linear(in_features=512, out_features=512, bias=True)\n",
      "    (3): ReLU()\n",
      "    (4): Linear(in_features=512, out_features=10, bias=True)\n",
      "    (5): ReLU()\n",
      "  )\n",
      ")\n"
     ]
    }
   ],
   "source": [
    "# Get cpu or gpu device for training.\n",
    "device = \"cuda\" if torch.cuda.is_available() else \"cpu\"\n",
    "print(\"Using {} device\".format(device))\n",
    "\n",
    "# Define model\n",
    "class NeuralNetwork(nn.Module):\n",
    "    def __init__(self):\n",
    "        super(NeuralNetwork, self).__init__()\n",
    "        self.flatten = nn.Flatten()\n",
    "        self.linear_relu_stack = nn.Sequential(\n",
    "            nn.Linear(28*28, 512),\n",
    "            nn.ReLU(),\n",
    "            nn.Linear(512, 512),\n",
    "            nn.ReLU(),\n",
    "            nn.Linear(512, 10),\n",
    "            nn.ReLU()\n",
    "        )\n",
    "\n",
    "    def forward(self, x):\n",
    "        x = self.flatten(x)\n",
    "        logits = self.linear_relu_stack(x)\n",
    "        return logits\n",
    "\n",
    "model = NeuralNetwork().to(device)\n",
    "print(model)"
   ]
  },
  {
   "cell_type": "code",
   "execution_count": 6,
   "id": "67241ba7-27e5-4d78-85ad-5f9300093efe",
   "metadata": {
    "execution": {
     "iopub.execute_input": "2021-05-09T16:44:54.444600Z",
     "iopub.status.busy": "2021-05-09T16:44:54.444600Z",
     "iopub.status.idle": "2021-05-09T16:44:54.456563Z",
     "shell.execute_reply": "2021-05-09T16:44:54.455566Z",
     "shell.execute_reply.started": "2021-05-09T16:44:54.444600Z"
    },
    "tags": []
   },
   "outputs": [],
   "source": [
    "loss_fn = nn.CrossEntropyLoss()\n",
    "optimizer = torch.optim.SGD(model.parameters(), lr=1e-3)"
   ]
  },
  {
   "cell_type": "code",
   "execution_count": 7,
   "id": "b046244e-72be-4950-8add-58fa4819c99c",
   "metadata": {
    "execution": {
     "iopub.execute_input": "2021-05-09T16:45:00.660379Z",
     "iopub.status.busy": "2021-05-09T16:45:00.660379Z",
     "iopub.status.idle": "2021-05-09T16:45:00.675338Z",
     "shell.execute_reply": "2021-05-09T16:45:00.674340Z",
     "shell.execute_reply.started": "2021-05-09T16:45:00.660379Z"
    },
    "tags": []
   },
   "outputs": [],
   "source": [
    "def train(dataloader, model, loss_fn, optimizer):\n",
    "    size = len(dataloader.dataset)\n",
    "    for batch, (X, y) in enumerate(dataloader):\n",
    "        X, y = X.to(device), y.to(device)\n",
    "\n",
    "        # Compute prediction error\n",
    "        pred = model(X)\n",
    "        loss = loss_fn(pred, y)\n",
    "\n",
    "        # Backpropagation\n",
    "        optimizer.zero_grad()\n",
    "        loss.backward()\n",
    "        optimizer.step()\n",
    "\n",
    "        if batch % 100 == 0:\n",
    "            loss, current = loss.item(), batch * len(X)\n",
    "            print(f\"loss: {loss:>7f}  [{current:>5d}/{size:>5d}]\")"
   ]
  },
  {
   "cell_type": "code",
   "execution_count": 8,
   "id": "9b5322c0-fdb5-4352-9752-2731dbd20426",
   "metadata": {
    "execution": {
     "iopub.execute_input": "2021-05-09T16:45:08.559676Z",
     "iopub.status.busy": "2021-05-09T16:45:08.559676Z",
     "iopub.status.idle": "2021-05-09T16:45:08.571643Z",
     "shell.execute_reply": "2021-05-09T16:45:08.570647Z",
     "shell.execute_reply.started": "2021-05-09T16:45:08.559676Z"
    },
    "tags": []
   },
   "outputs": [],
   "source": [
    "def test(dataloader, model):\n",
    "    size = len(dataloader.dataset)\n",
    "    model.eval()\n",
    "    test_loss, correct = 0, 0\n",
    "    with torch.no_grad():\n",
    "        for X, y in dataloader:\n",
    "            X, y = X.to(device), y.to(device)\n",
    "            pred = model(X)\n",
    "            test_loss += loss_fn(pred, y).item()\n",
    "            correct += (pred.argmax(1) == y).type(torch.float).sum().item()\n",
    "    test_loss /= size\n",
    "    correct /= size\n",
    "    print(f\"Test Error: \\n Accuracy: {(100*correct):>0.1f}%, Avg loss: {test_loss:>8f} \\n\")"
   ]
  },
  {
   "cell_type": "code",
   "execution_count": null,
   "id": "f60ffca9-18b0-4438-ae23-eaace6a16228",
   "metadata": {
    "execution": {
     "iopub.execute_input": "2021-05-09T16:45:18.420653Z",
     "iopub.status.busy": "2021-05-09T16:45:18.419654Z"
    },
    "tags": []
   },
   "outputs": [
    {
     "name": "stdout",
     "output_type": "stream",
     "text": [
      "Epoch 1\n",
      "-------------------------------\n",
      "loss: 2.308351  [    0/60000]\n",
      "loss: 2.291783  [ 6400/60000]\n",
      "loss: 2.281689  [12800/60000]\n",
      "loss: 2.273886  [19200/60000]\n",
      "loss: 2.265165  [25600/60000]\n",
      "loss: 2.260368  [32000/60000]\n",
      "loss: 2.268030  [38400/60000]\n",
      "loss: 2.254428  [44800/60000]\n",
      "loss: 2.249136  [51200/60000]\n",
      "loss: 2.229481  [57600/60000]\n",
      "Test Error: \n",
      " Accuracy: 44.8%, Avg loss: 0.034871 \n",
      "\n",
      "Epoch 2\n",
      "-------------------------------\n",
      "loss: 2.242977  [    0/60000]\n",
      "loss: 2.217564  [ 6400/60000]\n",
      "loss: 2.174037  [12800/60000]\n",
      "loss: 2.182572  [19200/60000]\n",
      "loss: 2.163374  [25600/60000]\n",
      "loss: 2.158001  [32000/60000]\n",
      "loss: 2.193858  [38400/60000]\n",
      "loss: 2.158360  [44800/60000]\n",
      "loss: 2.156168  [51200/60000]\n",
      "loss: 2.120753  [57600/60000]\n",
      "Test Error: \n",
      " Accuracy: 44.7%, Avg loss: 0.032921 \n",
      "\n",
      "Epoch 3\n",
      "-------------------------------\n",
      "loss: 2.144973  [    0/60000]\n",
      "loss: 2.087329  [ 6400/60000]\n",
      "loss: 1.994412  [12800/60000]\n",
      "loss: 2.030553  [19200/60000]\n",
      "loss: 1.958780  [25600/60000]\n",
      "loss: 1.980632  [32000/60000]\n",
      "loss: 2.045128  [38400/60000]\n",
      "loss: 1.973070  [44800/60000]\n",
      "loss: 1.975618  [51200/60000]\n",
      "loss: 1.952769  [57600/60000]\n",
      "Test Error: \n",
      " Accuracy: 45.0%, Avg loss: 0.029592 \n",
      "\n",
      "Epoch 4\n",
      "-------------------------------\n",
      "loss: 1.958617  [    0/60000]\n",
      "loss: 1.864903  [ 6400/60000]\n",
      "loss: 1.740452  [12800/60000]\n",
      "loss: 1.833166  [19200/60000]\n",
      "loss: 1.688145  [25600/60000]\n",
      "loss: 1.781947  [32000/60000]\n",
      "loss: 1.882649  [38400/60000]\n",
      "loss: 1.794689  [44800/60000]\n",
      "loss: 1.802399  [51200/60000]\n",
      "loss: 1.813881  [57600/60000]\n"
     ]
    }
   ],
   "source": [
    "epochs = 5\n",
    "for t in range(epochs):\n",
    "    print(f\"Epoch {t+1}\\n-------------------------------\")\n",
    "    train(train_dataloader, model, loss_fn, optimizer)\n",
    "    test(test_dataloader, model)\n",
    "print(\"Done!\")"
   ]
  }
 ],
 "metadata": {
  "kernelspec": {
   "display_name": "Python 3",
   "language": "python",
   "name": "python3"
  },
  "language_info": {
   "codemirror_mode": {
    "name": "ipython",
    "version": 3
   },
   "file_extension": ".py",
   "mimetype": "text/x-python",
   "name": "python",
   "nbconvert_exporter": "python",
   "pygments_lexer": "ipython3",
   "version": "3.9.1"
  }
 },
 "nbformat": 4,
 "nbformat_minor": 5
}
