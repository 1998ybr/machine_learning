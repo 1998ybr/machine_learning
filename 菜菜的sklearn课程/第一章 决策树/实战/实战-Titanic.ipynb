{
 "cells": [
  {
   "cell_type": "code",
   "execution_count": 113,
   "metadata": {
    "execution": {
     "iopub.execute_input": "2021-03-10T15:11:54.606929Z",
     "iopub.status.busy": "2021-03-10T15:11:54.606929Z",
     "iopub.status.idle": "2021-03-10T15:11:54.616865Z",
     "shell.execute_reply": "2021-03-10T15:11:54.615868Z",
     "shell.execute_reply.started": "2021-03-10T15:11:54.606929Z"
    }
   },
   "outputs": [],
   "source": [
    "# 导入所需要的模块\n",
    "%matplotlib inline\n",
    "import pandas as pd\n",
    "import matplotlib.pyplot as plt\n",
    "import graphviz\n",
    "from sklearn.tree import DecisionTreeClassifier\n",
    "from sklearn.model_selection import cross_val_score,GridSearchCV,train_test_split\n",
    "from sklearn import tree"
   ]
  },
  {
   "cell_type": "code",
   "execution_count": 120,
   "metadata": {
    "execution": {
     "iopub.execute_input": "2021-03-10T15:15:23.164521Z",
     "iopub.status.busy": "2021-03-10T15:15:23.163521Z",
     "iopub.status.idle": "2021-03-10T15:15:23.182470Z",
     "shell.execute_reply": "2021-03-10T15:15:23.180476Z",
     "shell.execute_reply.started": "2021-03-10T15:15:23.164521Z"
    }
   },
   "outputs": [
    {
     "data": {
      "text/plain": [
       "(891, 12)"
      ]
     },
     "execution_count": 120,
     "metadata": {},
     "output_type": "execute_result"
    }
   ],
   "source": [
    "# 加载训练集\n",
    "data=pd.read_csv('train.csv')\n",
    "data.shape"
   ]
  },
  {
   "cell_type": "code",
   "execution_count": 121,
   "metadata": {
    "execution": {
     "iopub.execute_input": "2021-03-10T15:15:24.011762Z",
     "iopub.status.busy": "2021-03-10T15:15:24.011762Z",
     "iopub.status.idle": "2021-03-10T15:15:24.028712Z",
     "shell.execute_reply": "2021-03-10T15:15:24.027718Z",
     "shell.execute_reply.started": "2021-03-10T15:15:24.011762Z"
    }
   },
   "outputs": [
    {
     "name": "stdout",
     "output_type": "stream",
     "text": [
      "<class 'pandas.core.frame.DataFrame'>\n",
      "RangeIndex: 891 entries, 0 to 890\n",
      "Data columns (total 12 columns):\n",
      " #   Column       Non-Null Count  Dtype  \n",
      "---  ------       --------------  -----  \n",
      " 0   PassengerId  891 non-null    int64  \n",
      " 1   Survived     891 non-null    int64  \n",
      " 2   Pclass       891 non-null    int64  \n",
      " 3   Name         891 non-null    object \n",
      " 4   Sex          891 non-null    object \n",
      " 5   Age          714 non-null    float64\n",
      " 6   SibSp        891 non-null    int64  \n",
      " 7   Parch        891 non-null    int64  \n",
      " 8   Ticket       891 non-null    object \n",
      " 9   Fare         891 non-null    float64\n",
      " 10  Cabin        204 non-null    object \n",
      " 11  Embarked     889 non-null    object \n",
      "dtypes: float64(2), int64(5), object(5)\n",
      "memory usage: 83.7+ KB\n"
     ]
    }
   ],
   "source": [
    "data.info()"
   ]
  },
  {
   "cell_type": "code",
   "execution_count": 122,
   "metadata": {
    "execution": {
     "iopub.execute_input": "2021-03-10T15:15:24.534811Z",
     "iopub.status.busy": "2021-03-10T15:15:24.533813Z",
     "iopub.status.idle": "2021-03-10T15:15:24.555755Z",
     "shell.execute_reply": "2021-03-10T15:15:24.553762Z",
     "shell.execute_reply.started": "2021-03-10T15:15:24.534811Z"
    }
   },
   "outputs": [
    {
     "data": {
      "text/html": [
       "<div>\n",
       "<style scoped>\n",
       "    .dataframe tbody tr th:only-of-type {\n",
       "        vertical-align: middle;\n",
       "    }\n",
       "\n",
       "    .dataframe tbody tr th {\n",
       "        vertical-align: top;\n",
       "    }\n",
       "\n",
       "    .dataframe thead th {\n",
       "        text-align: right;\n",
       "    }\n",
       "</style>\n",
       "<table border=\"1\" class=\"dataframe\">\n",
       "  <thead>\n",
       "    <tr style=\"text-align: right;\">\n",
       "      <th></th>\n",
       "      <th>PassengerId</th>\n",
       "      <th>Survived</th>\n",
       "      <th>Pclass</th>\n",
       "      <th>Name</th>\n",
       "      <th>Sex</th>\n",
       "      <th>Age</th>\n",
       "      <th>SibSp</th>\n",
       "      <th>Parch</th>\n",
       "      <th>Ticket</th>\n",
       "      <th>Fare</th>\n",
       "      <th>Cabin</th>\n",
       "      <th>Embarked</th>\n",
       "    </tr>\n",
       "  </thead>\n",
       "  <tbody>\n",
       "    <tr>\n",
       "      <th>0</th>\n",
       "      <td>1</td>\n",
       "      <td>0</td>\n",
       "      <td>3</td>\n",
       "      <td>Braund, Mr. Owen Harris</td>\n",
       "      <td>male</td>\n",
       "      <td>22.0</td>\n",
       "      <td>1</td>\n",
       "      <td>0</td>\n",
       "      <td>A/5 21171</td>\n",
       "      <td>7.2500</td>\n",
       "      <td>NaN</td>\n",
       "      <td>S</td>\n",
       "    </tr>\n",
       "    <tr>\n",
       "      <th>1</th>\n",
       "      <td>2</td>\n",
       "      <td>1</td>\n",
       "      <td>1</td>\n",
       "      <td>Cumings, Mrs. John Bradley (Florence Briggs Th...</td>\n",
       "      <td>female</td>\n",
       "      <td>38.0</td>\n",
       "      <td>1</td>\n",
       "      <td>0</td>\n",
       "      <td>PC 17599</td>\n",
       "      <td>71.2833</td>\n",
       "      <td>C85</td>\n",
       "      <td>C</td>\n",
       "    </tr>\n",
       "    <tr>\n",
       "      <th>2</th>\n",
       "      <td>3</td>\n",
       "      <td>1</td>\n",
       "      <td>3</td>\n",
       "      <td>Heikkinen, Miss. Laina</td>\n",
       "      <td>female</td>\n",
       "      <td>26.0</td>\n",
       "      <td>0</td>\n",
       "      <td>0</td>\n",
       "      <td>STON/O2. 3101282</td>\n",
       "      <td>7.9250</td>\n",
       "      <td>NaN</td>\n",
       "      <td>S</td>\n",
       "    </tr>\n",
       "    <tr>\n",
       "      <th>3</th>\n",
       "      <td>4</td>\n",
       "      <td>1</td>\n",
       "      <td>1</td>\n",
       "      <td>Futrelle, Mrs. Jacques Heath (Lily May Peel)</td>\n",
       "      <td>female</td>\n",
       "      <td>35.0</td>\n",
       "      <td>1</td>\n",
       "      <td>0</td>\n",
       "      <td>113803</td>\n",
       "      <td>53.1000</td>\n",
       "      <td>C123</td>\n",
       "      <td>S</td>\n",
       "    </tr>\n",
       "    <tr>\n",
       "      <th>4</th>\n",
       "      <td>5</td>\n",
       "      <td>0</td>\n",
       "      <td>3</td>\n",
       "      <td>Allen, Mr. William Henry</td>\n",
       "      <td>male</td>\n",
       "      <td>35.0</td>\n",
       "      <td>0</td>\n",
       "      <td>0</td>\n",
       "      <td>373450</td>\n",
       "      <td>8.0500</td>\n",
       "      <td>NaN</td>\n",
       "      <td>S</td>\n",
       "    </tr>\n",
       "  </tbody>\n",
       "</table>\n",
       "</div>"
      ],
      "text/plain": [
       "   PassengerId  Survived  Pclass  \\\n",
       "0            1         0       3   \n",
       "1            2         1       1   \n",
       "2            3         1       3   \n",
       "3            4         1       1   \n",
       "4            5         0       3   \n",
       "\n",
       "                                                Name     Sex   Age  SibSp  \\\n",
       "0                            Braund, Mr. Owen Harris    male  22.0      1   \n",
       "1  Cumings, Mrs. John Bradley (Florence Briggs Th...  female  38.0      1   \n",
       "2                             Heikkinen, Miss. Laina  female  26.0      0   \n",
       "3       Futrelle, Mrs. Jacques Heath (Lily May Peel)  female  35.0      1   \n",
       "4                           Allen, Mr. William Henry    male  35.0      0   \n",
       "\n",
       "   Parch            Ticket     Fare Cabin Embarked  \n",
       "0      0         A/5 21171   7.2500   NaN        S  \n",
       "1      0          PC 17599  71.2833   C85        C  \n",
       "2      0  STON/O2. 3101282   7.9250   NaN        S  \n",
       "3      0            113803  53.1000  C123        S  \n",
       "4      0            373450   8.0500   NaN        S  "
      ]
     },
     "execution_count": 122,
     "metadata": {},
     "output_type": "execute_result"
    }
   ],
   "source": [
    "data.head()"
   ]
  },
  {
   "cell_type": "code",
   "execution_count": 123,
   "metadata": {
    "execution": {
     "iopub.execute_input": "2021-03-10T15:15:27.436740Z",
     "iopub.status.busy": "2021-03-10T15:15:27.435713Z",
     "iopub.status.idle": "2021-03-10T15:15:27.446683Z",
     "shell.execute_reply": "2021-03-10T15:15:27.445686Z",
     "shell.execute_reply.started": "2021-03-10T15:15:27.436740Z"
    }
   },
   "outputs": [
    {
     "data": {
      "text/plain": [
       "0    549\n",
       "1    342\n",
       "Name: Survived, dtype: int64"
      ]
     },
     "execution_count": 123,
     "metadata": {},
     "output_type": "execute_result"
    }
   ],
   "source": [
    "data.loc[:,\"Survived\"].value_counts()"
   ]
  },
  {
   "cell_type": "code",
   "execution_count": 124,
   "metadata": {
    "execution": {
     "iopub.execute_input": "2021-03-10T15:15:31.548950Z",
     "iopub.status.busy": "2021-03-10T15:15:31.547950Z",
     "iopub.status.idle": "2021-03-10T15:15:31.556925Z",
     "shell.execute_reply": "2021-03-10T15:15:31.555929Z",
     "shell.execute_reply.started": "2021-03-10T15:15:31.548950Z"
    }
   },
   "outputs": [],
   "source": [
    "#整理数据\n",
    "\n",
    "##去除明显不必要的特征\n",
    "data.drop([\"PassengerId\",'Name','Ticket','Cabin',],inplace=True,axis=1)\n",
    "\n",
    "##补齐缺失值\n",
    "data.loc[:,'Age']=data.loc[:,'Age'].fillna(data.loc[:,'Age'].mean())\n",
    "\n",
    "##去除无法补齐缺失值的样本\n",
    "data=data.dropna()\n",
    "\n",
    "##将分类变量Sex编码\n",
    "data.loc[:,'Sex']=(data.loc[:,'Sex']=='male').astype('int')\n",
    "\n",
    "##将分类变量Embarked编码\n",
    "labels=data.loc[:,'Embarked'].unique().tolist() \n",
    "data.loc[:,'Embarked']=data.loc[:,'Embarked'].apply(lambda x:labels.index(x))"
   ]
  },
  {
   "cell_type": "code",
   "execution_count": 129,
   "metadata": {
    "execution": {
     "iopub.execute_input": "2021-03-10T15:16:09.144410Z",
     "iopub.status.busy": "2021-03-10T15:16:09.143412Z",
     "iopub.status.idle": "2021-03-10T15:16:09.157373Z",
     "shell.execute_reply": "2021-03-10T15:16:09.156376Z",
     "shell.execute_reply.started": "2021-03-10T15:16:09.144410Z"
    }
   },
   "outputs": [],
   "source": [
    "#准备数据\n",
    "\n",
    "##划分因变量与自变量\n",
    "y=data.loc[:,data.columns=='Survived']\n",
    "x=data.loc[:,data.columns!='Survived']\n",
    "\n",
    "##切割训练集与测试集\n",
    "x_train,x_test,y_train,y_test=train_test_split(x,y,\n",
    "                                               test_size=0.3\n",
    "                                              ,random_state=0)\n",
    "\n",
    "##重新对训练集与测试集的index进行编码\n",
    "###用x_train=x_train.reset_index(drop=True)或者用下列循环\n",
    "for i in [x_train,x_test,y_train,y_test]:\n",
    "    i.index=range(i.shape[0])"
   ]
  },
  {
   "cell_type": "code",
   "execution_count": 130,
   "metadata": {
    "execution": {
     "iopub.execute_input": "2021-03-10T15:16:12.707369Z",
     "iopub.status.busy": "2021-03-10T15:16:12.706369Z",
     "iopub.status.idle": "2021-03-10T15:16:12.972723Z",
     "shell.execute_reply": "2021-03-10T15:16:12.971725Z",
     "shell.execute_reply.started": "2021-03-10T15:16:12.707369Z"
    }
   },
   "outputs": [
    {
     "name": "stdout",
     "output_type": "stream",
     "text": [
      "参数为best的score：0.8009576098059246\n",
      "参数为random的score：0.8053881511746681\n"
     ]
    }
   ],
   "source": [
    "#建立模型\n",
    "##比较选择参数splitter的值\n",
    "\n",
    "# clf=DecisionTreeClassifier(random_state=0\n",
    "#                           ,criterion='entropy'\n",
    "#                           ,splitter='best'\n",
    "#                           ,max_depth=4\n",
    "#                           )\n",
    "# score_splitter_best=cross_val_score(clf,x,y,cv=10).mean()\n",
    "\n",
    "# clf=DecisionTreeClassifier(random_state=0\n",
    "#                           ,criterion='entropy'\n",
    "#                           ,splitter='random'\n",
    "#                           ,max_depth=4\n",
    "#                           )\n",
    "# score_splitter_random=cross_val_score(clf,x,y,cv=10).mean()\n",
    "# print(\"参数为best的score：{}\".format(score_splitter_best),\n",
    "#       \"\\n参数为random的score:{}\".format(score_splitter_random))\n",
    "\n",
    "for i in [\"best\", \"random\"]:\n",
    "    clf = DecisionTreeClassifier(random_state = 0\n",
    "                                ,criterion = \"entropy\"\n",
    "                                ,splitter= i\n",
    "                                ,max_depth = 4\n",
    "                                )\n",
    "    score = cross_val_score(clf,x,y,cv=10).mean()\n",
    "    print(\"参数为\"+i+\"的score：{}\".format(score))"
   ]
  },
  {
   "cell_type": "code",
   "execution_count": 10,
   "metadata": {
    "execution": {
     "iopub.execute_input": "2021-03-10T14:36:35.001635Z",
     "iopub.status.busy": "2021-03-10T14:36:35.000634Z",
     "iopub.status.idle": "2021-03-10T14:36:35.215061Z",
     "shell.execute_reply": "2021-03-10T14:36:35.214066Z",
     "shell.execute_reply.started": "2021-03-10T14:36:35.001635Z"
    }
   },
   "outputs": [
    {
     "name": "stdout",
     "output_type": "stream",
     "text": [
      "参数为entropy的score：0.8076608784473953\n",
      "参数为gini的score：0.8020429009193053\n"
     ]
    }
   ],
   "source": [
    "##比较选择参数criterion的值\n",
    "for i in [\"entropy\", \"gini\"]:\n",
    "    clf = DecisionTreeClassifier(random_state = 0\n",
    "                                ,criterion = i\n",
    "                                ,splitter= \"random\"\n",
    "                                ,max_depth = 4\n",
    "                                )\n",
    "    score = cross_val_score(clf,x,y,cv=10).mean()\n",
    "    print(\"参数为\"+i+\"的score：{}\".format(score))"
   ]
  },
  {
   "cell_type": "code",
   "execution_count": 131,
   "metadata": {
    "execution": {
     "iopub.execute_input": "2021-03-10T15:16:42.789104Z",
     "iopub.status.busy": "2021-03-10T15:16:42.788109Z",
     "iopub.status.idle": "2021-03-10T15:16:44.989006Z",
     "shell.execute_reply": "2021-03-10T15:16:44.988038Z",
     "shell.execute_reply.started": "2021-03-10T15:16:42.788109Z"
    }
   },
   "outputs": [
    {
     "name": "stdout",
     "output_type": "stream",
     "text": [
      "0.8279111338100102 7\n"
     ]
    },
    {
     "data": {
      "text/plain": [
       "<matplotlib.legend.Legend at 0x2ad5e4b5820>"
      ]
     },
     "execution_count": 131,
     "metadata": {},
     "output_type": "execute_result"
    },
    {
     "data": {
      "image/png": "[encoded data removed]",
      "text/plain": [
       "<Figure size 432x288 with 1 Axes>"
      ]
     },
     "metadata": {
      "needs_background": "light"
     },
     "output_type": "display_data"
    }
   ],
   "source": [
    "##画参数max_depth的超越曲线，选定max_depth的值\n",
    "train=[]\n",
    "test=[]\n",
    "for i in range(20):\n",
    "    clf=DecisionTreeClassifier(random_state=0\n",
    "                               ,criterion='entropy'\n",
    "                               ,splitter='random'\n",
    "                               ,max_depth=i+1\n",
    "                              )\n",
    "    clf=clf.fit(x_train,y_train)\n",
    "    score_train=clf.score(x_train,y_train)\n",
    "    score_test=cross_val_score(clf,x,y,cv=10).mean()\n",
    "    test.append(score_test)\n",
    "    train.append(score_train)\n",
    "print(max(test),test.index(max(test))+1)\n",
    "plt.plot(range(1,21),test,color='red',label='test')\n",
    "plt.plot(range(1,21),train,color='blue',label='train')\n",
    "plt.xticks(range(1,21)) #横轴的样式\n",
    "plt.legend() #现实图例"
   ]
  },
  {
   "cell_type": "markdown",
   "metadata": {},
   "source": [
    "# 网格搜索"
   ]
  },
  {
   "cell_type": "code",
   "execution_count": 132,
   "metadata": {
    "execution": {
     "iopub.execute_input": "2021-03-10T15:17:06.168181Z",
     "iopub.status.busy": "2021-03-10T15:17:06.167178Z",
     "iopub.status.idle": "2021-03-10T15:17:06.174160Z",
     "shell.execute_reply": "2021-03-10T15:17:06.173167Z",
     "shell.execute_reply.started": "2021-03-10T15:17:06.168181Z"
    }
   },
   "outputs": [],
   "source": [
    "##创建参数篮子\n",
    "import numpy as np\n",
    "\n",
    "parameters={'criterion':('gini','entropy')\n",
    "            #,'spliter':('best','random')\n",
    "            ,'max_depth':[*range(1,11)]\n",
    "            ,'min_samples_leaf':[*range(1,51,10)]\n",
    "            ,'min_impurity_decrease':[*np.linspace(0,1,21)] #np.linspace是创建了等差数列\n",
    "           }"
   ]
  },
  {
   "cell_type": "code",
   "execution_count": 133,
   "metadata": {
    "execution": {
     "iopub.execute_input": "2021-03-10T15:17:19.903892Z",
     "iopub.status.busy": "2021-03-10T15:17:19.902894Z",
     "iopub.status.idle": "2021-03-10T15:18:37.560970Z",
     "shell.execute_reply": "2021-03-10T15:18:37.559973Z",
     "shell.execute_reply.started": "2021-03-10T15:17:19.903892Z"
    }
   },
   "outputs": [
    {
     "name": "stdout",
     "output_type": "stream",
     "text": [
      "{'criterion': 'entropy', 'max_depth': 6, 'min_impurity_decrease': 0.0, 'min_samples_leaf': 1}\n",
      "0.8360727086533537\n"
     ]
    }
   ],
   "source": [
    "clf=DecisionTreeClassifier(splitter=\"best\")\n",
    "GS=GridSearchCV(clf,parameters,cv=10,n_jobs=-1)\n",
    "GS=GS.fit(x_train,y_train)\n",
    "print(GS.best_params_)#返回最佳组合\n",
    "print(GS.best_score_)"
   ]
  },
  {
   "cell_type": "code",
   "execution_count": 134,
   "metadata": {
    "execution": {
     "iopub.execute_input": "2021-03-10T15:18:42.928692Z",
     "iopub.status.busy": "2021-03-10T15:18:42.927696Z",
     "iopub.status.idle": "2021-03-10T15:19:53.454651Z",
     "shell.execute_reply": "2021-03-10T15:19:53.453653Z",
     "shell.execute_reply.started": "2021-03-10T15:18:42.928692Z"
    }
   },
   "outputs": [
    {
     "name": "stdout",
     "output_type": "stream",
     "text": [
      "{'criterion': 'entropy', 'max_depth': 10, 'min_impurity_decrease': 0.0, 'min_samples_leaf': 1}\n",
      "0.8311827956989246\n"
     ]
    }
   ],
   "source": [
    "clf=DecisionTreeClassifier(splitter=\"random\")\n",
    "GS=GridSearchCV(clf,parameters,cv=10,n_jobs=-1)\n",
    "GS=GS.fit(x_train,y_train)\n",
    "print(GS.best_params_)#返回最佳组合\n",
    "print(GS.best_score_)"
   ]
  },
  {
   "cell_type": "code",
   "execution_count": 142,
   "metadata": {
    "execution": {
     "iopub.execute_input": "2021-03-10T15:20:57.206887Z",
     "iopub.status.busy": "2021-03-10T15:20:57.206887Z",
     "iopub.status.idle": "2021-03-10T15:20:57.228825Z",
     "shell.execute_reply": "2021-03-10T15:20:57.226832Z",
     "shell.execute_reply.started": "2021-03-10T15:20:57.206887Z"
    }
   },
   "outputs": [
    {
     "data": {
      "text/plain": [
       "0.7940074906367042"
      ]
     },
     "execution_count": 142,
     "metadata": {},
     "output_type": "execute_result"
    }
   ],
   "source": [
    "clf=DecisionTreeClassifier(criterion='entropy'\n",
    "                           ,splitter='best'\n",
    "                           ,max_depth=6\n",
    "                           ,min_impurity_decrease=0.0\n",
    "                           ,min_samples_leaf=1\n",
    "                          )\n",
    "clf=clf.fit(x_train,y_train)\n",
    "score=clf.score(x_test,y_test)\n",
    "score"
   ]
  },
  {
   "cell_type": "code",
   "execution_count": 23,
   "metadata": {
    "execution": {
     "iopub.execute_input": "2021-03-10T14:45:25.054837Z",
     "iopub.status.busy": "2021-03-10T14:45:25.054837Z",
     "iopub.status.idle": "2021-03-10T14:45:26.561356Z",
     "shell.execute_reply": "2021-03-10T14:45:26.560360Z",
     "shell.execute_reply.started": "2021-03-10T14:45:25.054837Z"
    }
   },
   "outputs": [
    {
     "data": {
      "image/svg+xml": [
       "<?xml version=\"1.0\" encoding=\"UTF-8\" standalone=\"no\"?>\r\n",
       "<!DOCTYPE svg PUBLIC \"-//W3C//DTD SVG 1.1//EN\"\r\n",
       " \"http://www.w3.org/Graphics/SVG/1.1/DTD/svg11.dtd\">\r\n",
       "<!-- Generated by graphviz version 2.38.0 (20140413.2041)\r\n",
       " -->\r\n",
       "<!-- Title: Tree Pages: 1 -->\r\n",
       "<svg width=\"1376pt\" height=\"790pt\"\r\n",
       " viewBox=\"0.00 0.00 1376.00 790.00\" xmlns=\"http://www.w3.org/2000/svg\" xmlns:xlink=\"http://www.w3.org/1999/xlink\">\r\n",
       "<g id=\"graph0\" class=\"graph\" transform=\"scale(1 1) rotate(0) translate(4 786)\">\r\n",
       "<title>Tree</title>\r\n",
       "<polygon fill=\"white\" stroke=\"none\" points=\"-4,4 -4,-786 1372,-786 1372,4 -4,4\"/>\r\n",
       "<!-- 0 -->\r\n",
       "<g id=\"node1\" class=\"node\"><title>0</title>\r\n",
       "<path fill=\"#f4cbad\" stroke=\"black\" d=\"M637.5,-782C637.5,-782 531.5,-782 531.5,-782 525.5,-782 519.5,-776 519.5,-770 519.5,-770 519.5,-711 519.5,-711 519.5,-705 525.5,-699 531.5,-699 531.5,-699 637.5,-699 637.5,-699 643.5,-699 649.5,-705 649.5,-711 649.5,-711 649.5,-770 649.5,-770 649.5,-776 643.5,-782 637.5,-782\"/>\r\n",
       "<text text-anchor=\"middle\" x=\"584.5\" y=\"-766.8\" font-family=\"Helvetica,sans-Serif\" font-size=\"14.00\">Sex &lt;= 0.423</text>\r\n",
       "<text text-anchor=\"middle\" x=\"584.5\" y=\"-751.8\" font-family=\"Helvetica,sans-Serif\" font-size=\"14.00\">gini = 0.466</text>\r\n",
       "<text text-anchor=\"middle\" x=\"584.5\" y=\"-736.8\" font-family=\"Helvetica,sans-Serif\" font-size=\"14.00\">samples = 622</text>\r\n",
       "<text text-anchor=\"middle\" x=\"584.5\" y=\"-721.8\" font-family=\"Helvetica,sans-Serif\" font-size=\"14.00\">value = [392, 230]</text>\r\n",
       "<text text-anchor=\"middle\" x=\"584.5\" y=\"-706.8\" font-family=\"Helvetica,sans-Serif\" font-size=\"14.00\">class = 死</text>\r\n",
       "</g>\r\n",
       "<!-- 1 -->\r\n",
       "<g id=\"node2\" class=\"node\"><title>1</title>\r\n",
       "<path fill=\"#7fc0ee\" stroke=\"black\" d=\"M437.5,-663C437.5,-663 339.5,-663 339.5,-663 333.5,-663 327.5,-657 327.5,-651 327.5,-651 327.5,-592 327.5,-592 327.5,-586 333.5,-580 339.5,-580 339.5,-580 437.5,-580 437.5,-580 443.5,-580 449.5,-586 449.5,-592 449.5,-592 449.5,-651 449.5,-651 449.5,-657 443.5,-663 437.5,-663\"/>\r\n",
       "<text text-anchor=\"middle\" x=\"388.5\" y=\"-647.8\" font-family=\"Helvetica,sans-Serif\" font-size=\"14.00\">Pclass &lt;= 1.695</text>\r\n",
       "<text text-anchor=\"middle\" x=\"388.5\" y=\"-632.8\" font-family=\"Helvetica,sans-Serif\" font-size=\"14.00\">gini = 0.386</text>\r\n",
       "<text text-anchor=\"middle\" x=\"388.5\" y=\"-617.8\" font-family=\"Helvetica,sans-Serif\" font-size=\"14.00\">samples = 214</text>\r\n",
       "<text text-anchor=\"middle\" x=\"388.5\" y=\"-602.8\" font-family=\"Helvetica,sans-Serif\" font-size=\"14.00\">value = [56, 158]</text>\r\n",
       "<text text-anchor=\"middle\" x=\"388.5\" y=\"-587.8\" font-family=\"Helvetica,sans-Serif\" font-size=\"14.00\">class = 活</text>\r\n",
       "</g>\r\n",
       "<!-- 0&#45;&gt;1 -->\r\n",
       "<g id=\"edge1\" class=\"edge\"><title>0&#45;&gt;1</title>\r\n",
       "<path fill=\"none\" stroke=\"black\" d=\"M519.235,-700.541C499.64,-688.844 478.072,-675.969 458.202,-664.108\"/>\r\n",
       "<polygon fill=\"black\" stroke=\"black\" points=\"459.885,-661.036 449.504,-658.916 456.297,-667.047 459.885,-661.036\"/>\r\n",
       "<text text-anchor=\"middle\" x=\"455.622\" y=\"-679.456\" font-family=\"Helvetica,sans-Serif\" font-size=\"14.00\">True</text>\r\n",
       "</g>\r\n",
       "<!-- 12 -->\r\n",
       "<g id=\"node13\" class=\"node\"><title>12</title>\r\n",
       "<path fill=\"#eb9c63\" stroke=\"black\" d=\"M829.5,-663C829.5,-663 731.5,-663 731.5,-663 725.5,-663 719.5,-657 719.5,-651 719.5,-651 719.5,-592 719.5,-592 719.5,-586 725.5,-580 731.5,-580 731.5,-580 829.5,-580 829.5,-580 835.5,-580 841.5,-586 841.5,-592 841.5,-592 841.5,-651 841.5,-651 841.5,-657 835.5,-663 829.5,-663\"/>\r\n",
       "<text text-anchor=\"middle\" x=\"780.5\" y=\"-647.8\" font-family=\"Helvetica,sans-Serif\" font-size=\"14.00\">Pclass &lt;= 2.535</text>\r\n",
       "<text text-anchor=\"middle\" x=\"780.5\" y=\"-632.8\" font-family=\"Helvetica,sans-Serif\" font-size=\"14.00\">gini = 0.291</text>\r\n",
       "<text text-anchor=\"middle\" x=\"780.5\" y=\"-617.8\" font-family=\"Helvetica,sans-Serif\" font-size=\"14.00\">samples = 408</text>\r\n",
       "<text text-anchor=\"middle\" x=\"780.5\" y=\"-602.8\" font-family=\"Helvetica,sans-Serif\" font-size=\"14.00\">value = [336, 72]</text>\r\n",
       "<text text-anchor=\"middle\" x=\"780.5\" y=\"-587.8\" font-family=\"Helvetica,sans-Serif\" font-size=\"14.00\">class = 死</text>\r\n",
       "</g>\r\n",
       "<!-- 0&#45;&gt;12 -->\r\n",
       "<g id=\"edge12\" class=\"edge\"><title>0&#45;&gt;12</title>\r\n",
       "<path fill=\"none\" stroke=\"black\" d=\"M649.765,-700.541C669.36,-688.844 690.928,-675.969 710.798,-664.108\"/>\r\n",
       "<polygon fill=\"black\" stroke=\"black\" points=\"712.703,-667.047 719.496,-658.916 709.115,-661.036 712.703,-667.047\"/>\r\n",
       "<text text-anchor=\"middle\" x=\"713.378\" y=\"-679.456\" font-family=\"Helvetica,sans-Serif\" font-size=\"14.00\">False</text>\r\n",
       "</g>\r\n",
       "<!-- 2 -->\r\n",
       "<g id=\"node3\" class=\"node\"><title>2</title>\r\n",
       "<path fill=\"#40a0e6\" stroke=\"black\" d=\"M297,-536.5C297,-536.5 216,-536.5 216,-536.5 210,-536.5 204,-530.5 204,-524.5 204,-524.5 204,-480.5 204,-480.5 204,-474.5 210,-468.5 216,-468.5 216,-468.5 297,-468.5 297,-468.5 303,-468.5 309,-474.5 309,-480.5 309,-480.5 309,-524.5 309,-524.5 309,-530.5 303,-536.5 297,-536.5\"/>\r\n",
       "<text text-anchor=\"middle\" x=\"256.5\" y=\"-521.3\" font-family=\"Helvetica,sans-Serif\" font-size=\"14.00\">gini = 0.064</text>\r\n",
       "<text text-anchor=\"middle\" x=\"256.5\" y=\"-506.3\" font-family=\"Helvetica,sans-Serif\" font-size=\"14.00\">samples = 60</text>\r\n",
       "<text text-anchor=\"middle\" x=\"256.5\" y=\"-491.3\" font-family=\"Helvetica,sans-Serif\" font-size=\"14.00\">value = [2, 58]</text>\r\n",
       "<text text-anchor=\"middle\" x=\"256.5\" y=\"-476.3\" font-family=\"Helvetica,sans-Serif\" font-size=\"14.00\">class = 活</text>\r\n",
       "</g>\r\n",
       "<!-- 1&#45;&gt;2 -->\r\n",
       "<g id=\"edge2\" class=\"edge\"><title>1&#45;&gt;2</title>\r\n",
       "<path fill=\"none\" stroke=\"black\" d=\"M342.703,-579.907C329.383,-568.101 314.847,-555.217 301.571,-543.45\"/>\r\n",
       "<polygon fill=\"black\" stroke=\"black\" points=\"303.724,-540.681 293.919,-536.667 299.081,-545.919 303.724,-540.681\"/>\r\n",
       "</g>\r\n",
       "<!-- 3 -->\r\n",
       "<g id=\"node4\" class=\"node\"><title>3</title>\r\n",
       "<path fill=\"#a4d2f3\" stroke=\"black\" d=\"M437.5,-544C437.5,-544 339.5,-544 339.5,-544 333.5,-544 327.5,-538 327.5,-532 327.5,-532 327.5,-473 327.5,-473 327.5,-467 333.5,-461 339.5,-461 339.5,-461 437.5,-461 437.5,-461 443.5,-461 449.5,-467 449.5,-473 449.5,-473 449.5,-532 449.5,-532 449.5,-538 443.5,-544 437.5,-544\"/>\r\n",
       "<text text-anchor=\"middle\" x=\"388.5\" y=\"-528.8\" font-family=\"Helvetica,sans-Serif\" font-size=\"14.00\">Pclass &lt;= 2.551</text>\r\n",
       "<text text-anchor=\"middle\" x=\"388.5\" y=\"-513.8\" font-family=\"Helvetica,sans-Serif\" font-size=\"14.00\">gini = 0.455</text>\r\n",
       "<text text-anchor=\"middle\" x=\"388.5\" y=\"-498.8\" font-family=\"Helvetica,sans-Serif\" font-size=\"14.00\">samples = 154</text>\r\n",
       "<text text-anchor=\"middle\" x=\"388.5\" y=\"-483.8\" font-family=\"Helvetica,sans-Serif\" font-size=\"14.00\">value = [54, 100]</text>\r\n",
       "<text text-anchor=\"middle\" x=\"388.5\" y=\"-468.8\" font-family=\"Helvetica,sans-Serif\" font-size=\"14.00\">class = 活</text>\r\n",
       "</g>\r\n",
       "<!-- 1&#45;&gt;3 -->\r\n",
       "<g id=\"edge3\" class=\"edge\"><title>1&#45;&gt;3</title>\r\n",
       "<path fill=\"none\" stroke=\"black\" d=\"M388.5,-579.907C388.5,-571.649 388.5,-562.864 388.5,-554.302\"/>\r\n",
       "<polygon fill=\"black\" stroke=\"black\" points=\"392,-554.021 388.5,-544.021 385,-554.021 392,-554.021\"/>\r\n",
       "</g>\r\n",
       "<!-- 4 -->\r\n",
       "<g id=\"node5\" class=\"node\"><title>4</title>\r\n",
       "<path fill=\"#4ca6e7\" stroke=\"black\" d=\"M221,-425C221,-425 130,-425 130,-425 124,-425 118,-419 118,-413 118,-413 118,-354 118,-354 118,-348 124,-342 130,-342 130,-342 221,-342 221,-342 227,-342 233,-348 233,-354 233,-354 233,-413 233,-413 233,-419 227,-425 221,-425\"/>\r\n",
       "<text text-anchor=\"middle\" x=\"175.5\" y=\"-409.8\" font-family=\"Helvetica,sans-Serif\" font-size=\"14.00\">Fare &lt;= 22.517</text>\r\n",
       "<text text-anchor=\"middle\" x=\"175.5\" y=\"-394.8\" font-family=\"Helvetica,sans-Serif\" font-size=\"14.00\">gini = 0.158</text>\r\n",
       "<text text-anchor=\"middle\" x=\"175.5\" y=\"-379.8\" font-family=\"Helvetica,sans-Serif\" font-size=\"14.00\">samples = 58</text>\r\n",
       "<text text-anchor=\"middle\" x=\"175.5\" y=\"-364.8\" font-family=\"Helvetica,sans-Serif\" font-size=\"14.00\">value = [5, 53]</text>\r\n",
       "<text text-anchor=\"middle\" x=\"175.5\" y=\"-349.8\" font-family=\"Helvetica,sans-Serif\" font-size=\"14.00\">class = 活</text>\r\n",
       "</g>\r\n",
       "<!-- 3&#45;&gt;4 -->\r\n",
       "<g id=\"edge4\" class=\"edge\"><title>3&#45;&gt;4</title>\r\n",
       "<path fill=\"none\" stroke=\"black\" d=\"M327.362,-466.501C324.03,-464.633 320.727,-462.789 317.5,-461 292.961,-447.394 265.878,-432.719 242.001,-419.897\"/>\r\n",
       "<polygon fill=\"black\" stroke=\"black\" points=\"243.485,-416.722 233.018,-415.079 240.177,-422.89 243.485,-416.722\"/>\r\n",
       "</g>\r\n",
       "<!-- 7 -->\r\n",
       "<g id=\"node8\" class=\"node\"><title>7</title>\r\n",
       "<path fill=\"#fefaf7\" stroke=\"black\" d=\"M434,-425C434,-425 343,-425 343,-425 337,-425 331,-419 331,-413 331,-413 331,-354 331,-354 331,-348 337,-342 343,-342 343,-342 434,-342 434,-342 440,-342 446,-348 446,-354 446,-354 446,-413 446,-413 446,-419 440,-425 434,-425\"/>\r\n",
       "<text text-anchor=\"middle\" x=\"388.5\" y=\"-409.8\" font-family=\"Helvetica,sans-Serif\" font-size=\"14.00\">Fare &lt;= 24.747</text>\r\n",
       "<text text-anchor=\"middle\" x=\"388.5\" y=\"-394.8\" font-family=\"Helvetica,sans-Serif\" font-size=\"14.00\">gini = 0.5</text>\r\n",
       "<text text-anchor=\"middle\" x=\"388.5\" y=\"-379.8\" font-family=\"Helvetica,sans-Serif\" font-size=\"14.00\">samples = 96</text>\r\n",
       "<text text-anchor=\"middle\" x=\"388.5\" y=\"-364.8\" font-family=\"Helvetica,sans-Serif\" font-size=\"14.00\">value = [49, 47]</text>\r\n",
       "<text text-anchor=\"middle\" x=\"388.5\" y=\"-349.8\" font-family=\"Helvetica,sans-Serif\" font-size=\"14.00\">class = 死</text>\r\n",
       "</g>\r\n",
       "<!-- 3&#45;&gt;7 -->\r\n",
       "<g id=\"edge7\" class=\"edge\"><title>3&#45;&gt;7</title>\r\n",
       "<path fill=\"none\" stroke=\"black\" d=\"M388.5,-460.907C388.5,-452.649 388.5,-443.864 388.5,-435.302\"/>\r\n",
       "<polygon fill=\"black\" stroke=\"black\" points=\"392,-435.021 388.5,-425.021 385,-435.021 392,-435.021\"/>\r\n",
       "</g>\r\n",
       "<!-- 5 -->\r\n",
       "<g id=\"node6\" class=\"node\"><title>5</title>\r\n",
       "<path fill=\"#5aade9\" stroke=\"black\" d=\"M93,-298.5C93,-298.5 12,-298.5 12,-298.5 6,-298.5 0,-292.5 0,-286.5 0,-286.5 0,-242.5 0,-242.5 0,-236.5 6,-230.5 12,-230.5 12,-230.5 93,-230.5 93,-230.5 99,-230.5 105,-236.5 105,-242.5 105,-242.5 105,-286.5 105,-286.5 105,-292.5 99,-298.5 93,-298.5\"/>\r\n",
       "<text text-anchor=\"middle\" x=\"52.5\" y=\"-283.3\" font-family=\"Helvetica,sans-Serif\" font-size=\"14.00\">gini = 0.245</text>\r\n",
       "<text text-anchor=\"middle\" x=\"52.5\" y=\"-268.3\" font-family=\"Helvetica,sans-Serif\" font-size=\"14.00\">samples = 28</text>\r\n",
       "<text text-anchor=\"middle\" x=\"52.5\" y=\"-253.3\" font-family=\"Helvetica,sans-Serif\" font-size=\"14.00\">value = [4, 24]</text>\r\n",
       "<text text-anchor=\"middle\" x=\"52.5\" y=\"-238.3\" font-family=\"Helvetica,sans-Serif\" font-size=\"14.00\">class = 活</text>\r\n",
       "</g>\r\n",
       "<!-- 4&#45;&gt;5 -->\r\n",
       "<g id=\"edge5\" class=\"edge\"><title>4&#45;&gt;5</title>\r\n",
       "<path fill=\"none\" stroke=\"black\" d=\"M132.826,-341.907C120.529,-330.211 107.122,-317.457 94.8454,-305.78\"/>\r\n",
       "<polygon fill=\"black\" stroke=\"black\" points=\"97.0257,-303.023 87.3678,-298.667 92.2012,-308.095 97.0257,-303.023\"/>\r\n",
       "</g>\r\n",
       "<!-- 6 -->\r\n",
       "<g id=\"node7\" class=\"node\"><title>6</title>\r\n",
       "<path fill=\"#40a0e6\" stroke=\"black\" d=\"M216,-298.5C216,-298.5 135,-298.5 135,-298.5 129,-298.5 123,-292.5 123,-286.5 123,-286.5 123,-242.5 123,-242.5 123,-236.5 129,-230.5 135,-230.5 135,-230.5 216,-230.5 216,-230.5 222,-230.5 228,-236.5 228,-242.5 228,-242.5 228,-286.5 228,-286.5 228,-292.5 222,-298.5 216,-298.5\"/>\r\n",
       "<text text-anchor=\"middle\" x=\"175.5\" y=\"-283.3\" font-family=\"Helvetica,sans-Serif\" font-size=\"14.00\">gini = 0.064</text>\r\n",
       "<text text-anchor=\"middle\" x=\"175.5\" y=\"-268.3\" font-family=\"Helvetica,sans-Serif\" font-size=\"14.00\">samples = 30</text>\r\n",
       "<text text-anchor=\"middle\" x=\"175.5\" y=\"-253.3\" font-family=\"Helvetica,sans-Serif\" font-size=\"14.00\">value = [1, 29]</text>\r\n",
       "<text text-anchor=\"middle\" x=\"175.5\" y=\"-238.3\" font-family=\"Helvetica,sans-Serif\" font-size=\"14.00\">class = 活</text>\r\n",
       "</g>\r\n",
       "<!-- 4&#45;&gt;6 -->\r\n",
       "<g id=\"edge6\" class=\"edge\"><title>4&#45;&gt;6</title>\r\n",
       "<path fill=\"none\" stroke=\"black\" d=\"M175.5,-341.907C175.5,-331.204 175.5,-319.615 175.5,-308.776\"/>\r\n",
       "<polygon fill=\"black\" stroke=\"black\" points=\"179,-308.667 175.5,-298.667 172,-308.667 179,-308.667\"/>\r\n",
       "</g>\r\n",
       "<!-- 8 -->\r\n",
       "<g id=\"node9\" class=\"node\"><title>8</title>\r\n",
       "<path fill=\"#bddef6\" stroke=\"black\" d=\"M377,-306C377,-306 258,-306 258,-306 252,-306 246,-300 246,-294 246,-294 246,-235 246,-235 246,-229 252,-223 258,-223 258,-223 377,-223 377,-223 383,-223 389,-229 389,-235 389,-235 389,-294 389,-294 389,-300 383,-306 377,-306\"/>\r\n",
       "<text text-anchor=\"middle\" x=\"317.5\" y=\"-290.8\" font-family=\"Helvetica,sans-Serif\" font-size=\"14.00\">Embarked &lt;= 0.607</text>\r\n",
       "<text text-anchor=\"middle\" x=\"317.5\" y=\"-275.8\" font-family=\"Helvetica,sans-Serif\" font-size=\"14.00\">gini = 0.48</text>\r\n",
       "<text text-anchor=\"middle\" x=\"317.5\" y=\"-260.8\" font-family=\"Helvetica,sans-Serif\" font-size=\"14.00\">samples = 75</text>\r\n",
       "<text text-anchor=\"middle\" x=\"317.5\" y=\"-245.8\" font-family=\"Helvetica,sans-Serif\" font-size=\"14.00\">value = [30, 45]</text>\r\n",
       "<text text-anchor=\"middle\" x=\"317.5\" y=\"-230.8\" font-family=\"Helvetica,sans-Serif\" font-size=\"14.00\">class = 活</text>\r\n",
       "</g>\r\n",
       "<!-- 7&#45;&gt;8 -->\r\n",
       "<g id=\"edge8\" class=\"edge\"><title>7&#45;&gt;8</title>\r\n",
       "<path fill=\"none\" stroke=\"black\" d=\"M363.867,-341.907C358.525,-333.105 352.82,-323.703 347.303,-314.612\"/>\r\n",
       "<polygon fill=\"black\" stroke=\"black\" points=\"350.27,-312.754 342.09,-306.021 344.285,-316.386 350.27,-312.754\"/>\r\n",
       "</g>\r\n",
       "<!-- 11 -->\r\n",
       "<g id=\"node12\" class=\"node\"><title>11</title>\r\n",
       "<path fill=\"#e88e4e\" stroke=\"black\" d=\"M500,-298.5C500,-298.5 419,-298.5 419,-298.5 413,-298.5 407,-292.5 407,-286.5 407,-286.5 407,-242.5 407,-242.5 407,-236.5 413,-230.5 419,-230.5 419,-230.5 500,-230.5 500,-230.5 506,-230.5 512,-236.5 512,-242.5 512,-242.5 512,-286.5 512,-286.5 512,-292.5 506,-298.5 500,-298.5\"/>\r\n",
       "<text text-anchor=\"middle\" x=\"459.5\" y=\"-283.3\" font-family=\"Helvetica,sans-Serif\" font-size=\"14.00\">gini = 0.172</text>\r\n",
       "<text text-anchor=\"middle\" x=\"459.5\" y=\"-268.3\" font-family=\"Helvetica,sans-Serif\" font-size=\"14.00\">samples = 21</text>\r\n",
       "<text text-anchor=\"middle\" x=\"459.5\" y=\"-253.3\" font-family=\"Helvetica,sans-Serif\" font-size=\"14.00\">value = [19, 2]</text>\r\n",
       "<text text-anchor=\"middle\" x=\"459.5\" y=\"-238.3\" font-family=\"Helvetica,sans-Serif\" font-size=\"14.00\">class = 死</text>\r\n",
       "</g>\r\n",
       "<!-- 7&#45;&gt;11 -->\r\n",
       "<g id=\"edge11\" class=\"edge\"><title>7&#45;&gt;11</title>\r\n",
       "<path fill=\"none\" stroke=\"black\" d=\"M413.133,-341.907C419.896,-330.763 427.242,-318.658 434.05,-307.439\"/>\r\n",
       "<polygon fill=\"black\" stroke=\"black\" points=\"437.177,-309.032 439.373,-298.667 431.193,-305.4 437.177,-309.032\"/>\r\n",
       "</g>\r\n",
       "<!-- 9 -->\r\n",
       "<g id=\"node10\" class=\"node\"><title>9</title>\r\n",
       "<path fill=\"#fae8db\" stroke=\"black\" d=\"M298,-179.5C298,-179.5 209,-179.5 209,-179.5 203,-179.5 197,-173.5 197,-167.5 197,-167.5 197,-123.5 197,-123.5 197,-117.5 203,-111.5 209,-111.5 209,-111.5 298,-111.5 298,-111.5 304,-111.5 310,-117.5 310,-123.5 310,-123.5 310,-167.5 310,-167.5 310,-173.5 304,-179.5 298,-179.5\"/>\r\n",
       "<text text-anchor=\"middle\" x=\"253.5\" y=\"-164.3\" font-family=\"Helvetica,sans-Serif\" font-size=\"14.00\">gini = 0.495</text>\r\n",
       "<text text-anchor=\"middle\" x=\"253.5\" y=\"-149.3\" font-family=\"Helvetica,sans-Serif\" font-size=\"14.00\">samples = 40</text>\r\n",
       "<text text-anchor=\"middle\" x=\"253.5\" y=\"-134.3\" font-family=\"Helvetica,sans-Serif\" font-size=\"14.00\">value = [22, 18]</text>\r\n",
       "<text text-anchor=\"middle\" x=\"253.5\" y=\"-119.3\" font-family=\"Helvetica,sans-Serif\" font-size=\"14.00\">class = 死</text>\r\n",
       "</g>\r\n",
       "<!-- 8&#45;&gt;9 -->\r\n",
       "<g id=\"edge9\" class=\"edge\"><title>8&#45;&gt;9</title>\r\n",
       "<path fill=\"none\" stroke=\"black\" d=\"M295.296,-222.907C289.26,-211.873 282.709,-199.898 276.624,-188.773\"/>\r\n",
       "<polygon fill=\"black\" stroke=\"black\" points=\"279.512,-186.76 271.643,-179.667 273.371,-190.12 279.512,-186.76\"/>\r\n",
       "</g>\r\n",
       "<!-- 10 -->\r\n",
       "<g id=\"node11\" class=\"node\"><title>10</title>\r\n",
       "<path fill=\"#74baed\" stroke=\"black\" d=\"M421,-179.5C421,-179.5 340,-179.5 340,-179.5 334,-179.5 328,-173.5 328,-167.5 328,-167.5 328,-123.5 328,-123.5 328,-117.5 334,-111.5 340,-111.5 340,-111.5 421,-111.5 421,-111.5 427,-111.5 433,-117.5 433,-123.5 433,-123.5 433,-167.5 433,-167.5 433,-173.5 427,-179.5 421,-179.5\"/>\r\n",
       "<text text-anchor=\"middle\" x=\"380.5\" y=\"-164.3\" font-family=\"Helvetica,sans-Serif\" font-size=\"14.00\">gini = 0.353</text>\r\n",
       "<text text-anchor=\"middle\" x=\"380.5\" y=\"-149.3\" font-family=\"Helvetica,sans-Serif\" font-size=\"14.00\">samples = 35</text>\r\n",
       "<text text-anchor=\"middle\" x=\"380.5\" y=\"-134.3\" font-family=\"Helvetica,sans-Serif\" font-size=\"14.00\">value = [8, 27]</text>\r\n",
       "<text text-anchor=\"middle\" x=\"380.5\" y=\"-119.3\" font-family=\"Helvetica,sans-Serif\" font-size=\"14.00\">class = 活</text>\r\n",
       "</g>\r\n",
       "<!-- 8&#45;&gt;10 -->\r\n",
       "<g id=\"edge10\" class=\"edge\"><title>8&#45;&gt;10</title>\r\n",
       "<path fill=\"none\" stroke=\"black\" d=\"M339.358,-222.907C345.299,-211.873 351.747,-199.898 357.738,-188.773\"/>\r\n",
       "<polygon fill=\"black\" stroke=\"black\" points=\"360.981,-190.131 362.641,-179.667 354.818,-186.812 360.981,-190.131\"/>\r\n",
       "</g>\r\n",
       "<!-- 13 -->\r\n",
       "<g id=\"node14\" class=\"node\"><title>13</title>\r\n",
       "<path fill=\"#eda978\" stroke=\"black\" d=\"M829.5,-544C829.5,-544 731.5,-544 731.5,-544 725.5,-544 719.5,-538 719.5,-532 719.5,-532 719.5,-473 719.5,-473 719.5,-467 725.5,-461 731.5,-461 731.5,-461 829.5,-461 829.5,-461 835.5,-461 841.5,-467 841.5,-473 841.5,-473 841.5,-532 841.5,-532 841.5,-538 835.5,-544 829.5,-544\"/>\r\n",
       "<text text-anchor=\"middle\" x=\"780.5\" y=\"-528.8\" font-family=\"Helvetica,sans-Serif\" font-size=\"14.00\">Pclass &lt;= 1.351</text>\r\n",
       "<text text-anchor=\"middle\" x=\"780.5\" y=\"-513.8\" font-family=\"Helvetica,sans-Serif\" font-size=\"14.00\">gini = 0.367</text>\r\n",
       "<text text-anchor=\"middle\" x=\"780.5\" y=\"-498.8\" font-family=\"Helvetica,sans-Serif\" font-size=\"14.00\">samples = 161</text>\r\n",
       "<text text-anchor=\"middle\" x=\"780.5\" y=\"-483.8\" font-family=\"Helvetica,sans-Serif\" font-size=\"14.00\">value = [122, 39]</text>\r\n",
       "<text text-anchor=\"middle\" x=\"780.5\" y=\"-468.8\" font-family=\"Helvetica,sans-Serif\" font-size=\"14.00\">class = 死</text>\r\n",
       "</g>\r\n",
       "<!-- 12&#45;&gt;13 -->\r\n",
       "<g id=\"edge13\" class=\"edge\"><title>12&#45;&gt;13</title>\r\n",
       "<path fill=\"none\" stroke=\"black\" d=\"M780.5,-579.907C780.5,-571.649 780.5,-562.864 780.5,-554.302\"/>\r\n",
       "<polygon fill=\"black\" stroke=\"black\" points=\"784,-554.021 780.5,-544.021 777,-554.021 784,-554.021\"/>\r\n",
       "</g>\r\n",
       "<!-- 20 -->\r\n",
       "<g id=\"node21\" class=\"node\"><title>20</title>\r\n",
       "<path fill=\"#e99458\" stroke=\"black\" d=\"M1139.5,-544C1139.5,-544 1041.5,-544 1041.5,-544 1035.5,-544 1029.5,-538 1029.5,-532 1029.5,-532 1029.5,-473 1029.5,-473 1029.5,-467 1035.5,-461 1041.5,-461 1041.5,-461 1139.5,-461 1139.5,-461 1145.5,-461 1151.5,-467 1151.5,-473 1151.5,-473 1151.5,-532 1151.5,-532 1151.5,-538 1145.5,-544 1139.5,-544\"/>\r\n",
       "<text text-anchor=\"middle\" x=\"1090.5\" y=\"-528.8\" font-family=\"Helvetica,sans-Serif\" font-size=\"14.00\">Parch &lt;= 0.209</text>\r\n",
       "<text text-anchor=\"middle\" x=\"1090.5\" y=\"-513.8\" font-family=\"Helvetica,sans-Serif\" font-size=\"14.00\">gini = 0.232</text>\r\n",
       "<text text-anchor=\"middle\" x=\"1090.5\" y=\"-498.8\" font-family=\"Helvetica,sans-Serif\" font-size=\"14.00\">samples = 247</text>\r\n",
       "<text text-anchor=\"middle\" x=\"1090.5\" y=\"-483.8\" font-family=\"Helvetica,sans-Serif\" font-size=\"14.00\">value = [214, 33]</text>\r\n",
       "<text text-anchor=\"middle\" x=\"1090.5\" y=\"-468.8\" font-family=\"Helvetica,sans-Serif\" font-size=\"14.00\">class = 死</text>\r\n",
       "</g>\r\n",
       "<!-- 12&#45;&gt;20 -->\r\n",
       "<g id=\"edge20\" class=\"edge\"><title>12&#45;&gt;20</title>\r\n",
       "<path fill=\"none\" stroke=\"black\" d=\"M841.746,-597.385C893.015,-578.035 966.205,-550.411 1019.92,-530.137\"/>\r\n",
       "<polygon fill=\"black\" stroke=\"black\" points=\"1021.26,-533.373 1029.38,-526.567 1018.79,-526.824 1021.26,-533.373\"/>\r\n",
       "</g>\r\n",
       "<!-- 14 -->\r\n",
       "<g id=\"node15\" class=\"node\"><title>14</title>\r\n",
       "<path fill=\"#f3c7a7\" stroke=\"black\" d=\"M744,-425C744,-425 655,-425 655,-425 649,-425 643,-419 643,-413 643,-413 643,-354 643,-354 643,-348 649,-342 655,-342 655,-342 744,-342 744,-342 750,-342 756,-348 756,-354 756,-354 756,-413 756,-413 756,-419 750,-425 744,-425\"/>\r\n",
       "<text text-anchor=\"middle\" x=\"699.5\" y=\"-409.8\" font-family=\"Helvetica,sans-Serif\" font-size=\"14.00\">Age &lt;= 36.461</text>\r\n",
       "<text text-anchor=\"middle\" x=\"699.5\" y=\"-394.8\" font-family=\"Helvetica,sans-Serif\" font-size=\"14.00\">gini = 0.459</text>\r\n",
       "<text text-anchor=\"middle\" x=\"699.5\" y=\"-379.8\" font-family=\"Helvetica,sans-Serif\" font-size=\"14.00\">samples = 84</text>\r\n",
       "<text text-anchor=\"middle\" x=\"699.5\" y=\"-364.8\" font-family=\"Helvetica,sans-Serif\" font-size=\"14.00\">value = [54, 30]</text>\r\n",
       "<text text-anchor=\"middle\" x=\"699.5\" y=\"-349.8\" font-family=\"Helvetica,sans-Serif\" font-size=\"14.00\">class = 死</text>\r\n",
       "</g>\r\n",
       "<!-- 13&#45;&gt;14 -->\r\n",
       "<g id=\"edge14\" class=\"edge\"><title>13&#45;&gt;14</title>\r\n",
       "<path fill=\"none\" stroke=\"black\" d=\"M752.397,-460.907C746.24,-452.014 739.66,-442.509 733.306,-433.331\"/>\r\n",
       "<polygon fill=\"black\" stroke=\"black\" points=\"736.123,-431.251 727.553,-425.021 730.367,-435.235 736.123,-431.251\"/>\r\n",
       "</g>\r\n",
       "<!-- 17 -->\r\n",
       "<g id=\"node18\" class=\"node\"><title>17</title>\r\n",
       "<path fill=\"#e89253\" stroke=\"black\" d=\"M938.5,-425C938.5,-425 786.5,-425 786.5,-425 780.5,-425 774.5,-419 774.5,-413 774.5,-413 774.5,-354 774.5,-354 774.5,-348 780.5,-342 786.5,-342 786.5,-342 938.5,-342 938.5,-342 944.5,-342 950.5,-348 950.5,-354 950.5,-354 950.5,-413 950.5,-413 950.5,-419 944.5,-425 938.5,-425\"/>\r\n",
       "<text text-anchor=\"middle\" x=\"862.5\" y=\"-409.8\" font-family=\"Helvetica,sans-Serif\" font-size=\"14.00\">PassengerId &lt;= 310.263</text>\r\n",
       "<text text-anchor=\"middle\" x=\"862.5\" y=\"-394.8\" font-family=\"Helvetica,sans-Serif\" font-size=\"14.00\">gini = 0.206</text>\r\n",
       "<text text-anchor=\"middle\" x=\"862.5\" y=\"-379.8\" font-family=\"Helvetica,sans-Serif\" font-size=\"14.00\">samples = 77</text>\r\n",
       "<text text-anchor=\"middle\" x=\"862.5\" y=\"-364.8\" font-family=\"Helvetica,sans-Serif\" font-size=\"14.00\">value = [68, 9]</text>\r\n",
       "<text text-anchor=\"middle\" x=\"862.5\" y=\"-349.8\" font-family=\"Helvetica,sans-Serif\" font-size=\"14.00\">class = 死</text>\r\n",
       "</g>\r\n",
       "<!-- 13&#45;&gt;17 -->\r\n",
       "<g id=\"edge17\" class=\"edge\"><title>13&#45;&gt;17</title>\r\n",
       "<path fill=\"none\" stroke=\"black\" d=\"M808.949,-460.907C815.183,-452.014 821.844,-442.509 828.277,-433.331\"/>\r\n",
       "<polygon fill=\"black\" stroke=\"black\" points=\"831.228,-435.219 834.101,-425.021 825.495,-431.201 831.228,-435.219\"/>\r\n",
       "</g>\r\n",
       "<!-- 15 -->\r\n",
       "<g id=\"node16\" class=\"node\"><title>15</title>\r\n",
       "<path fill=\"#f9e1cf\" stroke=\"black\" d=\"M631,-298.5C631,-298.5 542,-298.5 542,-298.5 536,-298.5 530,-292.5 530,-286.5 530,-286.5 530,-242.5 530,-242.5 530,-236.5 536,-230.5 542,-230.5 542,-230.5 631,-230.5 631,-230.5 637,-230.5 643,-236.5 643,-242.5 643,-242.5 643,-286.5 643,-286.5 643,-292.5 637,-298.5 631,-298.5\"/>\r\n",
       "<text text-anchor=\"middle\" x=\"586.5\" y=\"-283.3\" font-family=\"Helvetica,sans-Serif\" font-size=\"14.00\">gini = 0.491</text>\r\n",
       "<text text-anchor=\"middle\" x=\"586.5\" y=\"-268.3\" font-family=\"Helvetica,sans-Serif\" font-size=\"14.00\">samples = 44</text>\r\n",
       "<text text-anchor=\"middle\" x=\"586.5\" y=\"-253.3\" font-family=\"Helvetica,sans-Serif\" font-size=\"14.00\">value = [25, 19]</text>\r\n",
       "<text text-anchor=\"middle\" x=\"586.5\" y=\"-238.3\" font-family=\"Helvetica,sans-Serif\" font-size=\"14.00\">class = 死</text>\r\n",
       "</g>\r\n",
       "<!-- 14&#45;&gt;15 -->\r\n",
       "<g id=\"edge15\" class=\"edge\"><title>14&#45;&gt;15</title>\r\n",
       "<path fill=\"none\" stroke=\"black\" d=\"M660.295,-341.907C649.105,-330.321 636.913,-317.698 625.722,-306.111\"/>\r\n",
       "<polygon fill=\"black\" stroke=\"black\" points=\"627.998,-303.428 618.533,-298.667 622.963,-308.291 627.998,-303.428\"/>\r\n",
       "</g>\r\n",
       "<!-- 16 -->\r\n",
       "<g id=\"node17\" class=\"node\"><title>16</title>\r\n",
       "<path fill=\"#efb184\" stroke=\"black\" d=\"M762,-298.5C762,-298.5 673,-298.5 673,-298.5 667,-298.5 661,-292.5 661,-286.5 661,-286.5 661,-242.5 661,-242.5 661,-236.5 667,-230.5 673,-230.5 673,-230.5 762,-230.5 762,-230.5 768,-230.5 774,-236.5 774,-242.5 774,-242.5 774,-286.5 774,-286.5 774,-292.5 768,-298.5 762,-298.5\"/>\r\n",
       "<text text-anchor=\"middle\" x=\"717.5\" y=\"-283.3\" font-family=\"Helvetica,sans-Serif\" font-size=\"14.00\">gini = 0.399</text>\r\n",
       "<text text-anchor=\"middle\" x=\"717.5\" y=\"-268.3\" font-family=\"Helvetica,sans-Serif\" font-size=\"14.00\">samples = 40</text>\r\n",
       "<text text-anchor=\"middle\" x=\"717.5\" y=\"-253.3\" font-family=\"Helvetica,sans-Serif\" font-size=\"14.00\">value = [29, 11]</text>\r\n",
       "<text text-anchor=\"middle\" x=\"717.5\" y=\"-238.3\" font-family=\"Helvetica,sans-Serif\" font-size=\"14.00\">class = 死</text>\r\n",
       "</g>\r\n",
       "<!-- 14&#45;&gt;16 -->\r\n",
       "<g id=\"edge16\" class=\"edge\"><title>14&#45;&gt;16</title>\r\n",
       "<path fill=\"none\" stroke=\"black\" d=\"M705.745,-341.907C707.392,-331.204 709.175,-319.615 710.842,-308.776\"/>\r\n",
       "<polygon fill=\"black\" stroke=\"black\" points=\"714.336,-309.083 712.397,-298.667 707.417,-308.018 714.336,-309.083\"/>\r\n",
       "</g>\r\n",
       "<!-- 18 -->\r\n",
       "<g id=\"node19\" class=\"node\"><title>18</title>\r\n",
       "<path fill=\"#ea9b62\" stroke=\"black\" d=\"M885,-298.5C885,-298.5 804,-298.5 804,-298.5 798,-298.5 792,-292.5 792,-286.5 792,-286.5 792,-242.5 792,-242.5 792,-236.5 798,-230.5 804,-230.5 804,-230.5 885,-230.5 885,-230.5 891,-230.5 897,-236.5 897,-242.5 897,-242.5 897,-286.5 897,-286.5 897,-292.5 891,-298.5 885,-298.5\"/>\r\n",
       "<text text-anchor=\"middle\" x=\"844.5\" y=\"-283.3\" font-family=\"Helvetica,sans-Serif\" font-size=\"14.00\">gini = 0.284</text>\r\n",
       "<text text-anchor=\"middle\" x=\"844.5\" y=\"-268.3\" font-family=\"Helvetica,sans-Serif\" font-size=\"14.00\">samples = 35</text>\r\n",
       "<text text-anchor=\"middle\" x=\"844.5\" y=\"-253.3\" font-family=\"Helvetica,sans-Serif\" font-size=\"14.00\">value = [29, 6]</text>\r\n",
       "<text text-anchor=\"middle\" x=\"844.5\" y=\"-238.3\" font-family=\"Helvetica,sans-Serif\" font-size=\"14.00\">class = 死</text>\r\n",
       "</g>\r\n",
       "<!-- 17&#45;&gt;18 -->\r\n",
       "<g id=\"edge18\" class=\"edge\"><title>17&#45;&gt;18</title>\r\n",
       "<path fill=\"none\" stroke=\"black\" d=\"M856.255,-341.907C854.608,-331.204 852.825,-319.615 851.158,-308.776\"/>\r\n",
       "<polygon fill=\"black\" stroke=\"black\" points=\"854.583,-308.018 849.603,-298.667 847.664,-309.083 854.583,-308.018\"/>\r\n",
       "</g>\r\n",
       "<!-- 19 -->\r\n",
       "<g id=\"node20\" class=\"node\"><title>19</title>\r\n",
       "<path fill=\"#e78b48\" stroke=\"black\" d=\"M1008,-298.5C1008,-298.5 927,-298.5 927,-298.5 921,-298.5 915,-292.5 915,-286.5 915,-286.5 915,-242.5 915,-242.5 915,-236.5 921,-230.5 927,-230.5 927,-230.5 1008,-230.5 1008,-230.5 1014,-230.5 1020,-236.5 1020,-242.5 1020,-242.5 1020,-286.5 1020,-286.5 1020,-292.5 1014,-298.5 1008,-298.5\"/>\r\n",
       "<text text-anchor=\"middle\" x=\"967.5\" y=\"-283.3\" font-family=\"Helvetica,sans-Serif\" font-size=\"14.00\">gini = 0.133</text>\r\n",
       "<text text-anchor=\"middle\" x=\"967.5\" y=\"-268.3\" font-family=\"Helvetica,sans-Serif\" font-size=\"14.00\">samples = 42</text>\r\n",
       "<text text-anchor=\"middle\" x=\"967.5\" y=\"-253.3\" font-family=\"Helvetica,sans-Serif\" font-size=\"14.00\">value = [39, 3]</text>\r\n",
       "<text text-anchor=\"middle\" x=\"967.5\" y=\"-238.3\" font-family=\"Helvetica,sans-Serif\" font-size=\"14.00\">class = 死</text>\r\n",
       "</g>\r\n",
       "<!-- 17&#45;&gt;19 -->\r\n",
       "<g id=\"edge19\" class=\"edge\"><title>17&#45;&gt;19</title>\r\n",
       "<path fill=\"none\" stroke=\"black\" d=\"M898.929,-341.907C909.327,-330.321 920.656,-317.698 931.055,-306.111\"/>\r\n",
       "<polygon fill=\"black\" stroke=\"black\" points=\"933.661,-308.447 937.735,-298.667 928.451,-303.772 933.661,-308.447\"/>\r\n",
       "</g>\r\n",
       "<!-- 21 -->\r\n",
       "<g id=\"node22\" class=\"node\"><title>21</title>\r\n",
       "<path fill=\"#e89051\" stroke=\"black\" d=\"M1166.5,-425C1166.5,-425 1014.5,-425 1014.5,-425 1008.5,-425 1002.5,-419 1002.5,-413 1002.5,-413 1002.5,-354 1002.5,-354 1002.5,-348 1008.5,-342 1014.5,-342 1014.5,-342 1166.5,-342 1166.5,-342 1172.5,-342 1178.5,-348 1178.5,-354 1178.5,-354 1178.5,-413 1178.5,-413 1178.5,-419 1172.5,-425 1166.5,-425\"/>\r\n",
       "<text text-anchor=\"middle\" x=\"1090.5\" y=\"-409.8\" font-family=\"Helvetica,sans-Serif\" font-size=\"14.00\">PassengerId &lt;= 253.758</text>\r\n",
       "<text text-anchor=\"middle\" x=\"1090.5\" y=\"-394.8\" font-family=\"Helvetica,sans-Serif\" font-size=\"14.00\">gini = 0.195</text>\r\n",
       "<text text-anchor=\"middle\" x=\"1090.5\" y=\"-379.8\" font-family=\"Helvetica,sans-Serif\" font-size=\"14.00\">samples = 210</text>\r\n",
       "<text text-anchor=\"middle\" x=\"1090.5\" y=\"-364.8\" font-family=\"Helvetica,sans-Serif\" font-size=\"14.00\">value = [187, 23]</text>\r\n",
       "<text text-anchor=\"middle\" x=\"1090.5\" y=\"-349.8\" font-family=\"Helvetica,sans-Serif\" font-size=\"14.00\">class = 死</text>\r\n",
       "</g>\r\n",
       "<!-- 20&#45;&gt;21 -->\r\n",
       "<g id=\"edge21\" class=\"edge\"><title>20&#45;&gt;21</title>\r\n",
       "<path fill=\"none\" stroke=\"black\" d=\"M1090.5,-460.907C1090.5,-452.649 1090.5,-443.864 1090.5,-435.302\"/>\r\n",
       "<polygon fill=\"black\" stroke=\"black\" points=\"1094,-435.021 1090.5,-425.021 1087,-435.021 1094,-435.021\"/>\r\n",
       "</g>\r\n",
       "<!-- 28 -->\r\n",
       "<g id=\"node29\" class=\"node\"><title>28</title>\r\n",
       "<path fill=\"#efb082\" stroke=\"black\" d=\"M1298,-417.5C1298,-417.5 1209,-417.5 1209,-417.5 1203,-417.5 1197,-411.5 1197,-405.5 1197,-405.5 1197,-361.5 1197,-361.5 1197,-355.5 1203,-349.5 1209,-349.5 1209,-349.5 1298,-349.5 1298,-349.5 1304,-349.5 1310,-355.5 1310,-361.5 1310,-361.5 1310,-405.5 1310,-405.5 1310,-411.5 1304,-417.5 1298,-417.5\"/>\r\n",
       "<text text-anchor=\"middle\" x=\"1253.5\" y=\"-402.3\" font-family=\"Helvetica,sans-Serif\" font-size=\"14.00\">gini = 0.394</text>\r\n",
       "<text text-anchor=\"middle\" x=\"1253.5\" y=\"-387.3\" font-family=\"Helvetica,sans-Serif\" font-size=\"14.00\">samples = 37</text>\r\n",
       "<text text-anchor=\"middle\" x=\"1253.5\" y=\"-372.3\" font-family=\"Helvetica,sans-Serif\" font-size=\"14.00\">value = [27, 10]</text>\r\n",
       "<text text-anchor=\"middle\" x=\"1253.5\" y=\"-357.3\" font-family=\"Helvetica,sans-Serif\" font-size=\"14.00\">class = 死</text>\r\n",
       "</g>\r\n",
       "<!-- 20&#45;&gt;28 -->\r\n",
       "<g id=\"edge28\" class=\"edge\"><title>20&#45;&gt;28</title>\r\n",
       "<path fill=\"none\" stroke=\"black\" d=\"M1147.05,-460.907C1163.81,-448.88 1182.12,-435.735 1198.76,-423.791\"/>\r\n",
       "<polygon fill=\"black\" stroke=\"black\" points=\"1201.21,-426.342 1207.29,-417.667 1197.13,-420.655 1201.21,-426.342\"/>\r\n",
       "</g>\r\n",
       "<!-- 22 -->\r\n",
       "<g id=\"node23\" class=\"node\"><title>22</title>\r\n",
       "<path fill=\"#ea985d\" stroke=\"black\" d=\"M1131,-298.5C1131,-298.5 1050,-298.5 1050,-298.5 1044,-298.5 1038,-292.5 1038,-286.5 1038,-286.5 1038,-242.5 1038,-242.5 1038,-236.5 1044,-230.5 1050,-230.5 1050,-230.5 1131,-230.5 1131,-230.5 1137,-230.5 1143,-236.5 1143,-242.5 1143,-242.5 1143,-286.5 1143,-286.5 1143,-292.5 1137,-298.5 1131,-298.5\"/>\r\n",
       "<text text-anchor=\"middle\" x=\"1090.5\" y=\"-283.3\" font-family=\"Helvetica,sans-Serif\" font-size=\"14.00\">gini = 0.259</text>\r\n",
       "<text text-anchor=\"middle\" x=\"1090.5\" y=\"-268.3\" font-family=\"Helvetica,sans-Serif\" font-size=\"14.00\">samples = 59</text>\r\n",
       "<text text-anchor=\"middle\" x=\"1090.5\" y=\"-253.3\" font-family=\"Helvetica,sans-Serif\" font-size=\"14.00\">value = [50, 9]</text>\r\n",
       "<text text-anchor=\"middle\" x=\"1090.5\" y=\"-238.3\" font-family=\"Helvetica,sans-Serif\" font-size=\"14.00\">class = 死</text>\r\n",
       "</g>\r\n",
       "<!-- 21&#45;&gt;22 -->\r\n",
       "<g id=\"edge22\" class=\"edge\"><title>21&#45;&gt;22</title>\r\n",
       "<path fill=\"none\" stroke=\"black\" d=\"M1090.5,-341.907C1090.5,-331.204 1090.5,-319.615 1090.5,-308.776\"/>\r\n",
       "<polygon fill=\"black\" stroke=\"black\" points=\"1094,-308.667 1090.5,-298.667 1087,-308.667 1094,-308.667\"/>\r\n",
       "</g>\r\n",
       "<!-- 23 -->\r\n",
       "<g id=\"node24\" class=\"node\"><title>23</title>\r\n",
       "<path fill=\"#e88e4d\" stroke=\"black\" d=\"M1316,-306C1316,-306 1173,-306 1173,-306 1167,-306 1161,-300 1161,-294 1161,-294 1161,-235 1161,-235 1161,-229 1167,-223 1173,-223 1173,-223 1316,-223 1316,-223 1322,-223 1328,-229 1328,-235 1328,-235 1328,-294 1328,-294 1328,-300 1322,-306 1316,-306\"/>\r\n",
       "<text text-anchor=\"middle\" x=\"1244.5\" y=\"-290.8\" font-family=\"Helvetica,sans-Serif\" font-size=\"14.00\">PassengerId &lt;= 617.55</text>\r\n",
       "<text text-anchor=\"middle\" x=\"1244.5\" y=\"-275.8\" font-family=\"Helvetica,sans-Serif\" font-size=\"14.00\">gini = 0.168</text>\r\n",
       "<text text-anchor=\"middle\" x=\"1244.5\" y=\"-260.8\" font-family=\"Helvetica,sans-Serif\" font-size=\"14.00\">samples = 151</text>\r\n",
       "<text text-anchor=\"middle\" x=\"1244.5\" y=\"-245.8\" font-family=\"Helvetica,sans-Serif\" font-size=\"14.00\">value = [137, 14]</text>\r\n",
       "<text text-anchor=\"middle\" x=\"1244.5\" y=\"-230.8\" font-family=\"Helvetica,sans-Serif\" font-size=\"14.00\">class = 死</text>\r\n",
       "</g>\r\n",
       "<!-- 21&#45;&gt;23 -->\r\n",
       "<g id=\"edge23\" class=\"edge\"><title>21&#45;&gt;23</title>\r\n",
       "<path fill=\"none\" stroke=\"black\" d=\"M1143.93,-341.907C1156.59,-332.288 1170.19,-321.953 1183.18,-312.09\"/>\r\n",
       "<polygon fill=\"black\" stroke=\"black\" points=\"1185.32,-314.857 1191.16,-306.021 1181.08,-309.283 1185.32,-314.857\"/>\r\n",
       "</g>\r\n",
       "<!-- 24 -->\r\n",
       "<g id=\"node25\" class=\"node\"><title>24</title>\r\n",
       "<path fill=\"#e99355\" stroke=\"black\" d=\"M1233,-187C1233,-187 1114,-187 1114,-187 1108,-187 1102,-181 1102,-175 1102,-175 1102,-116 1102,-116 1102,-110 1108,-104 1114,-104 1114,-104 1233,-104 1233,-104 1239,-104 1245,-110 1245,-116 1245,-116 1245,-175 1245,-175 1245,-181 1239,-187 1233,-187\"/>\r\n",
       "<text text-anchor=\"middle\" x=\"1173.5\" y=\"-171.8\" font-family=\"Helvetica,sans-Serif\" font-size=\"14.00\">Embarked &lt;= 0.062</text>\r\n",
       "<text text-anchor=\"middle\" x=\"1173.5\" y=\"-156.8\" font-family=\"Helvetica,sans-Serif\" font-size=\"14.00\">gini = 0.216</text>\r\n",
       "<text text-anchor=\"middle\" x=\"1173.5\" y=\"-141.8\" font-family=\"Helvetica,sans-Serif\" font-size=\"14.00\">samples = 81</text>\r\n",
       "<text text-anchor=\"middle\" x=\"1173.5\" y=\"-126.8\" font-family=\"Helvetica,sans-Serif\" font-size=\"14.00\">value = [71, 10]</text>\r\n",
       "<text text-anchor=\"middle\" x=\"1173.5\" y=\"-111.8\" font-family=\"Helvetica,sans-Serif\" font-size=\"14.00\">class = 死</text>\r\n",
       "</g>\r\n",
       "<!-- 23&#45;&gt;24 -->\r\n",
       "<g id=\"edge24\" class=\"edge\"><title>23&#45;&gt;24</title>\r\n",
       "<path fill=\"none\" stroke=\"black\" d=\"M1219.87,-222.907C1214.53,-214.105 1208.82,-204.703 1203.3,-195.612\"/>\r\n",
       "<polygon fill=\"black\" stroke=\"black\" points=\"1206.27,-193.754 1198.09,-187.021 1200.29,-197.386 1206.27,-193.754\"/>\r\n",
       "</g>\r\n",
       "<!-- 27 -->\r\n",
       "<g id=\"node28\" class=\"node\"><title>27</title>\r\n",
       "<path fill=\"#e78945\" stroke=\"black\" d=\"M1356,-179.5C1356,-179.5 1275,-179.5 1275,-179.5 1269,-179.5 1263,-173.5 1263,-167.5 1263,-167.5 1263,-123.5 1263,-123.5 1263,-117.5 1269,-111.5 1275,-111.5 1275,-111.5 1356,-111.5 1356,-111.5 1362,-111.5 1368,-117.5 1368,-123.5 1368,-123.5 1368,-167.5 1368,-167.5 1368,-173.5 1362,-179.5 1356,-179.5\"/>\r\n",
       "<text text-anchor=\"middle\" x=\"1315.5\" y=\"-164.3\" font-family=\"Helvetica,sans-Serif\" font-size=\"14.00\">gini = 0.108</text>\r\n",
       "<text text-anchor=\"middle\" x=\"1315.5\" y=\"-149.3\" font-family=\"Helvetica,sans-Serif\" font-size=\"14.00\">samples = 70</text>\r\n",
       "<text text-anchor=\"middle\" x=\"1315.5\" y=\"-134.3\" font-family=\"Helvetica,sans-Serif\" font-size=\"14.00\">value = [66, 4]</text>\r\n",
       "<text text-anchor=\"middle\" x=\"1315.5\" y=\"-119.3\" font-family=\"Helvetica,sans-Serif\" font-size=\"14.00\">class = 死</text>\r\n",
       "</g>\r\n",
       "<!-- 23&#45;&gt;27 -->\r\n",
       "<g id=\"edge27\" class=\"edge\"><title>23&#45;&gt;27</title>\r\n",
       "<path fill=\"none\" stroke=\"black\" d=\"M1269.13,-222.907C1275.9,-211.763 1283.24,-199.658 1290.05,-188.439\"/>\r\n",
       "<polygon fill=\"black\" stroke=\"black\" points=\"1293.18,-190.032 1295.37,-179.667 1287.19,-186.4 1293.18,-190.032\"/>\r\n",
       "</g>\r\n",
       "<!-- 25 -->\r\n",
       "<g id=\"node26\" class=\"node\"><title>25</title>\r\n",
       "<path fill=\"#e88f4f\" stroke=\"black\" d=\"M1152,-68C1152,-68 1071,-68 1071,-68 1065,-68 1059,-62 1059,-56 1059,-56 1059,-12 1059,-12 1059,-6 1065,-0 1071,-0 1071,-0 1152,-0 1152,-0 1158,-0 1164,-6 1164,-12 1164,-12 1164,-56 1164,-56 1164,-62 1158,-68 1152,-68\"/>\r\n",
       "<text text-anchor=\"middle\" x=\"1111.5\" y=\"-52.8\" font-family=\"Helvetica,sans-Serif\" font-size=\"14.00\">gini = 0.183</text>\r\n",
       "<text text-anchor=\"middle\" x=\"1111.5\" y=\"-37.8\" font-family=\"Helvetica,sans-Serif\" font-size=\"14.00\">samples = 59</text>\r\n",
       "<text text-anchor=\"middle\" x=\"1111.5\" y=\"-22.8\" font-family=\"Helvetica,sans-Serif\" font-size=\"14.00\">value = [53, 6]</text>\r\n",
       "<text text-anchor=\"middle\" x=\"1111.5\" y=\"-7.8\" font-family=\"Helvetica,sans-Serif\" font-size=\"14.00\">class = 死</text>\r\n",
       "</g>\r\n",
       "<!-- 24&#45;&gt;25 -->\r\n",
       "<g id=\"edge25\" class=\"edge\"><title>24&#45;&gt;25</title>\r\n",
       "<path fill=\"none\" stroke=\"black\" d=\"M1150.41,-103.726C1145.51,-95.0615 1140.32,-85.8962 1135.38,-77.1802\"/>\r\n",
       "<polygon fill=\"black\" stroke=\"black\" points=\"1138.33,-75.277 1130.35,-68.2996 1132.24,-78.726 1138.33,-75.277\"/>\r\n",
       "</g>\r\n",
       "<!-- 26 -->\r\n",
       "<g id=\"node27\" class=\"node\"><title>26</title>\r\n",
       "<path fill=\"#eb9d65\" stroke=\"black\" d=\"M1275,-68C1275,-68 1194,-68 1194,-68 1188,-68 1182,-62 1182,-56 1182,-56 1182,-12 1182,-12 1182,-6 1188,-0 1194,-0 1194,-0 1275,-0 1275,-0 1281,-0 1287,-6 1287,-12 1287,-12 1287,-56 1287,-56 1287,-62 1281,-68 1275,-68\"/>\r\n",
       "<text text-anchor=\"middle\" x=\"1234.5\" y=\"-52.8\" font-family=\"Helvetica,sans-Serif\" font-size=\"14.00\">gini = 0.298</text>\r\n",
       "<text text-anchor=\"middle\" x=\"1234.5\" y=\"-37.8\" font-family=\"Helvetica,sans-Serif\" font-size=\"14.00\">samples = 22</text>\r\n",
       "<text text-anchor=\"middle\" x=\"1234.5\" y=\"-22.8\" font-family=\"Helvetica,sans-Serif\" font-size=\"14.00\">value = [18, 4]</text>\r\n",
       "<text text-anchor=\"middle\" x=\"1234.5\" y=\"-7.8\" font-family=\"Helvetica,sans-Serif\" font-size=\"14.00\">class = 死</text>\r\n",
       "</g>\r\n",
       "<!-- 24&#45;&gt;26 -->\r\n",
       "<g id=\"edge26\" class=\"edge\"><title>24&#45;&gt;26</title>\r\n",
       "<path fill=\"none\" stroke=\"black\" d=\"M1196.21,-103.726C1201.04,-95.0615 1206.15,-85.8962 1211,-77.1802\"/>\r\n",
       "<polygon fill=\"black\" stroke=\"black\" points=\"1214.14,-78.7389 1215.95,-68.2996 1208.03,-75.3322 1214.14,-78.7389\"/>\r\n",
       "</g>\r\n",
       "</g>\r\n",
       "</svg>\r\n"
      ],
      "text/plain": [
       "<graphviz.files.Source at 0x2ad5a77ca30>"
      ]
     },
     "execution_count": 23,
     "metadata": {},
     "output_type": "execute_result"
    }
   ],
   "source": [
    "#画决策树流程图\n",
    "feature_name=x_train.columns.tolist()\n",
    "\n",
    "dot_data=tree.export_graphviz(clf\n",
    "                             ,feature_names=feature_name\n",
    "                              ,class_names=['死','活']\n",
    "                             ,filled=True\n",
    "                             ,rounded=True)\n",
    "\n",
    "graph=graphviz.Source(dot_data)\n",
    "\n",
    "graph"
   ]
  },
  {
   "cell_type": "markdown",
   "metadata": {
    "execution": {
     "iopub.execute_input": "2021-03-10T14:35:51.114329Z",
     "iopub.status.busy": "2021-03-10T14:35:51.114329Z",
     "iopub.status.idle": "2021-03-10T14:35:51.119313Z",
     "shell.execute_reply": "2021-03-10T14:35:51.117322Z",
     "shell.execute_reply.started": "2021-03-10T14:35:51.114329Z"
    }
   },
   "source": [
    "# 使用随机森林（学完第二章回头再来做这个）"
   ]
  },
  {
   "cell_type": "code",
   "execution_count": 62,
   "metadata": {
    "execution": {
     "iopub.execute_input": "2021-03-10T14:47:59.515527Z",
     "iopub.status.busy": "2021-03-10T14:47:59.514529Z",
     "iopub.status.idle": "2021-03-10T14:47:59.574370Z",
     "shell.execute_reply": "2021-03-10T14:47:59.573372Z",
     "shell.execute_reply.started": "2021-03-10T14:47:59.515527Z"
    }
   },
   "outputs": [],
   "source": [
    "#导入包\n",
    "%matplotlib inline\n",
    "import matplotlib.pyplot as plt\n",
    "from sklearn.ensemble import RandomForestClassifier"
   ]
  },
  {
   "cell_type": "code",
   "execution_count": 143,
   "metadata": {
    "execution": {
     "iopub.execute_input": "2021-03-10T15:21:54.544659Z",
     "iopub.status.busy": "2021-03-10T15:21:54.544659Z",
     "iopub.status.idle": "2021-03-10T15:22:12.772267Z",
     "shell.execute_reply": "2021-03-10T15:22:12.771271Z",
     "shell.execute_reply.started": "2021-03-10T15:21:54.544659Z"
    }
   },
   "outputs": [
    {
     "name": "stdout",
     "output_type": "stream",
     "text": [
      "0.8324055158324821 23\n"
     ]
    },
    {
     "data": {
      "text/plain": [
       "[<matplotlib.lines.Line2D at 0x2ad5dfcaa90>]"
      ]
     },
     "execution_count": 143,
     "metadata": {},
     "output_type": "execute_result"
    },
    {
     "data": {
      "image/png": "[encoded data removed]",
      "text/plain": [
       "<Figure size 432x288 with 1 Axes>"
      ]
     },
     "metadata": {
      "needs_background": "light"
     },
     "output_type": "display_data"
    }
   ],
   "source": [
    "# 绘制学习曲线\n",
    "superpa = []\n",
    "for i in range(50):\n",
    "    rfc = RandomForestClassifier(n_estimators=i+1\n",
    "                                 ,criterion='entropy'\n",
    "                                 ,max_depth=6\n",
    "                                 ,min_impurity_decrease=0.0\n",
    "                                 ,min_samples_leaf=1\n",
    "                                )\n",
    "    rfc_s = cross_val_score(rfc,x,y,cv=10,n_jobs=-1).mean()\n",
    "    superpa.append(rfc_s)\n",
    "print(max(superpa),superpa.index(max(superpa))+1) #注意，python中index从0开始算，index后要加1才是estimator的数量\n",
    "#plt.figure(figsize=[20,5]) # 画布的长、宽\n",
    "plt.plot(range(1,51),superpa)"
   ]
  },
  {
   "cell_type": "code",
   "execution_count": 162,
   "metadata": {
    "execution": {
     "iopub.execute_input": "2021-03-10T15:30:00.962123Z",
     "iopub.status.busy": "2021-03-10T15:30:00.961130Z",
     "iopub.status.idle": "2021-03-10T15:30:09.826618Z",
     "shell.execute_reply": "2021-03-10T15:30:09.825620Z",
     "shell.execute_reply.started": "2021-03-10T15:30:00.962123Z"
    }
   },
   "outputs": [
    {
     "name": "stdout",
     "output_type": "stream",
     "text": [
      "0.8324055158324821\n"
     ]
    }
   ],
   "source": [
    "rfc = RandomForestClassifier(n_estimators=100\n",
    "                             ,criterion='entropy'\n",
    "                             ,max_depth=6\n",
    "                             ,min_impurity_decrease=0.0\n",
    "                             ,min_samples_leaf=1\n",
    "                             ,n_jobs=-1\n",
    "                             ,oob_score=True\n",
    "                            )\n",
    "rfc_s = cross_val_score(rfc,x,y,cv=10,n_jobs=-1).mean()\n",
    "print(rfc_s)"
   ]
  },
  {
   "cell_type": "code",
   "execution_count": 181,
   "metadata": {
    "execution": {
     "iopub.execute_input": "2021-03-10T15:37:29.581726Z",
     "iopub.status.busy": "2021-03-10T15:37:29.580729Z",
     "iopub.status.idle": "2021-03-10T15:37:29.593693Z",
     "shell.execute_reply": "2021-03-10T15:37:29.592695Z",
     "shell.execute_reply.started": "2021-03-10T15:37:29.581726Z"
    }
   },
   "outputs": [],
   "source": [
    "data_test=pd.read_csv('test.csv')"
   ]
  },
  {
   "cell_type": "code",
   "execution_count": 170,
   "metadata": {
    "execution": {
     "iopub.execute_input": "2021-03-10T15:34:36.049052Z",
     "iopub.status.busy": "2021-03-10T15:34:36.048053Z",
     "iopub.status.idle": "2021-03-10T15:34:36.085954Z",
     "shell.execute_reply": "2021-03-10T15:34:36.083960Z",
     "shell.execute_reply.started": "2021-03-10T15:34:36.049052Z"
    }
   },
   "outputs": [
    {
     "data": {
      "text/html": [
       "<div>\n",
       "<style scoped>\n",
       "    .dataframe tbody tr th:only-of-type {\n",
       "        vertical-align: middle;\n",
       "    }\n",
       "\n",
       "    .dataframe tbody tr th {\n",
       "        vertical-align: top;\n",
       "    }\n",
       "\n",
       "    .dataframe thead th {\n",
       "        text-align: right;\n",
       "    }\n",
       "</style>\n",
       "<table border=\"1\" class=\"dataframe\">\n",
       "  <thead>\n",
       "    <tr style=\"text-align: right;\">\n",
       "      <th></th>\n",
       "      <th>PassengerId</th>\n",
       "      <th>Pclass</th>\n",
       "      <th>Name</th>\n",
       "      <th>Sex</th>\n",
       "      <th>Age</th>\n",
       "      <th>SibSp</th>\n",
       "      <th>Parch</th>\n",
       "      <th>Ticket</th>\n",
       "      <th>Fare</th>\n",
       "      <th>Cabin</th>\n",
       "      <th>Embarked</th>\n",
       "    </tr>\n",
       "  </thead>\n",
       "  <tbody>\n",
       "    <tr>\n",
       "      <th>0</th>\n",
       "      <td>892</td>\n",
       "      <td>3</td>\n",
       "      <td>Kelly, Mr. James</td>\n",
       "      <td>male</td>\n",
       "      <td>34.5</td>\n",
       "      <td>0</td>\n",
       "      <td>0</td>\n",
       "      <td>330911</td>\n",
       "      <td>7.8292</td>\n",
       "      <td>NaN</td>\n",
       "      <td>Q</td>\n",
       "    </tr>\n",
       "    <tr>\n",
       "      <th>1</th>\n",
       "      <td>893</td>\n",
       "      <td>3</td>\n",
       "      <td>Wilkes, Mrs. James (Ellen Needs)</td>\n",
       "      <td>female</td>\n",
       "      <td>47.0</td>\n",
       "      <td>1</td>\n",
       "      <td>0</td>\n",
       "      <td>363272</td>\n",
       "      <td>7.0000</td>\n",
       "      <td>NaN</td>\n",
       "      <td>S</td>\n",
       "    </tr>\n",
       "    <tr>\n",
       "      <th>2</th>\n",
       "      <td>894</td>\n",
       "      <td>2</td>\n",
       "      <td>Myles, Mr. Thomas Francis</td>\n",
       "      <td>male</td>\n",
       "      <td>62.0</td>\n",
       "      <td>0</td>\n",
       "      <td>0</td>\n",
       "      <td>240276</td>\n",
       "      <td>9.6875</td>\n",
       "      <td>NaN</td>\n",
       "      <td>Q</td>\n",
       "    </tr>\n",
       "    <tr>\n",
       "      <th>3</th>\n",
       "      <td>895</td>\n",
       "      <td>3</td>\n",
       "      <td>Wirz, Mr. Albert</td>\n",
       "      <td>male</td>\n",
       "      <td>27.0</td>\n",
       "      <td>0</td>\n",
       "      <td>0</td>\n",
       "      <td>315154</td>\n",
       "      <td>8.6625</td>\n",
       "      <td>NaN</td>\n",
       "      <td>S</td>\n",
       "    </tr>\n",
       "    <tr>\n",
       "      <th>4</th>\n",
       "      <td>896</td>\n",
       "      <td>3</td>\n",
       "      <td>Hirvonen, Mrs. Alexander (Helga E Lindqvist)</td>\n",
       "      <td>female</td>\n",
       "      <td>22.0</td>\n",
       "      <td>1</td>\n",
       "      <td>1</td>\n",
       "      <td>3101298</td>\n",
       "      <td>12.2875</td>\n",
       "      <td>NaN</td>\n",
       "      <td>S</td>\n",
       "    </tr>\n",
       "    <tr>\n",
       "      <th>...</th>\n",
       "      <td>...</td>\n",
       "      <td>...</td>\n",
       "      <td>...</td>\n",
       "      <td>...</td>\n",
       "      <td>...</td>\n",
       "      <td>...</td>\n",
       "      <td>...</td>\n",
       "      <td>...</td>\n",
       "      <td>...</td>\n",
       "      <td>...</td>\n",
       "      <td>...</td>\n",
       "    </tr>\n",
       "    <tr>\n",
       "      <th>413</th>\n",
       "      <td>1305</td>\n",
       "      <td>3</td>\n",
       "      <td>Spector, Mr. Woolf</td>\n",
       "      <td>male</td>\n",
       "      <td>NaN</td>\n",
       "      <td>0</td>\n",
       "      <td>0</td>\n",
       "      <td>A.5. 3236</td>\n",
       "      <td>8.0500</td>\n",
       "      <td>NaN</td>\n",
       "      <td>S</td>\n",
       "    </tr>\n",
       "    <tr>\n",
       "      <th>414</th>\n",
       "      <td>1306</td>\n",
       "      <td>1</td>\n",
       "      <td>Oliva y Ocana, Dona. Fermina</td>\n",
       "      <td>female</td>\n",
       "      <td>39.0</td>\n",
       "      <td>0</td>\n",
       "      <td>0</td>\n",
       "      <td>PC 17758</td>\n",
       "      <td>108.9000</td>\n",
       "      <td>C105</td>\n",
       "      <td>C</td>\n",
       "    </tr>\n",
       "    <tr>\n",
       "      <th>415</th>\n",
       "      <td>1307</td>\n",
       "      <td>3</td>\n",
       "      <td>Saether, Mr. Simon Sivertsen</td>\n",
       "      <td>male</td>\n",
       "      <td>38.5</td>\n",
       "      <td>0</td>\n",
       "      <td>0</td>\n",
       "      <td>SOTON/O.Q. 3101262</td>\n",
       "      <td>7.2500</td>\n",
       "      <td>NaN</td>\n",
       "      <td>S</td>\n",
       "    </tr>\n",
       "    <tr>\n",
       "      <th>416</th>\n",
       "      <td>1308</td>\n",
       "      <td>3</td>\n",
       "      <td>Ware, Mr. Frederick</td>\n",
       "      <td>male</td>\n",
       "      <td>NaN</td>\n",
       "      <td>0</td>\n",
       "      <td>0</td>\n",
       "      <td>359309</td>\n",
       "      <td>8.0500</td>\n",
       "      <td>NaN</td>\n",
       "      <td>S</td>\n",
       "    </tr>\n",
       "    <tr>\n",
       "      <th>417</th>\n",
       "      <td>1309</td>\n",
       "      <td>3</td>\n",
       "      <td>Peter, Master. Michael J</td>\n",
       "      <td>male</td>\n",
       "      <td>NaN</td>\n",
       "      <td>1</td>\n",
       "      <td>1</td>\n",
       "      <td>2668</td>\n",
       "      <td>22.3583</td>\n",
       "      <td>NaN</td>\n",
       "      <td>C</td>\n",
       "    </tr>\n",
       "  </tbody>\n",
       "</table>\n",
       "<p>418 rows × 11 columns</p>\n",
       "</div>"
      ],
      "text/plain": [
       "     PassengerId  Pclass                                          Name  \\\n",
       "0            892       3                              Kelly, Mr. James   \n",
       "1            893       3              Wilkes, Mrs. James (Ellen Needs)   \n",
       "2            894       2                     Myles, Mr. Thomas Francis   \n",
       "3            895       3                              Wirz, Mr. Albert   \n",
       "4            896       3  Hirvonen, Mrs. Alexander (Helga E Lindqvist)   \n",
       "..           ...     ...                                           ...   \n",
       "413         1305       3                            Spector, Mr. Woolf   \n",
       "414         1306       1                  Oliva y Ocana, Dona. Fermina   \n",
       "415         1307       3                  Saether, Mr. Simon Sivertsen   \n",
       "416         1308       3                           Ware, Mr. Frederick   \n",
       "417         1309       3                      Peter, Master. Michael J   \n",
       "\n",
       "        Sex   Age  SibSp  Parch              Ticket      Fare Cabin Embarked  \n",
       "0      male  34.5      0      0              330911    7.8292   NaN        Q  \n",
       "1    female  47.0      1      0              363272    7.0000   NaN        S  \n",
       "2      male  62.0      0      0              240276    9.6875   NaN        Q  \n",
       "3      male  27.0      0      0              315154    8.6625   NaN        S  \n",
       "4    female  22.0      1      1             3101298   12.2875   NaN        S  \n",
       "..      ...   ...    ...    ...                 ...       ...   ...      ...  \n",
       "413    male   NaN      0      0           A.5. 3236    8.0500   NaN        S  \n",
       "414  female  39.0      0      0            PC 17758  108.9000  C105        C  \n",
       "415    male  38.5      0      0  SOTON/O.Q. 3101262    7.2500   NaN        S  \n",
       "416    male   NaN      0      0              359309    8.0500   NaN        S  \n",
       "417    male   NaN      1      1                2668   22.3583   NaN        C  \n",
       "\n",
       "[418 rows x 11 columns]"
      ]
     },
     "execution_count": 170,
     "metadata": {},
     "output_type": "execute_result"
    }
   ],
   "source": [
    "data_test"
   ]
  },
  {
   "cell_type": "code",
   "execution_count": 182,
   "metadata": {
    "execution": {
     "iopub.execute_input": "2021-03-10T15:37:32.885048Z",
     "iopub.status.busy": "2021-03-10T15:37:32.884052Z",
     "iopub.status.idle": "2021-03-10T15:37:32.891034Z",
     "shell.execute_reply": "2021-03-10T15:37:32.890035Z",
     "shell.execute_reply.started": "2021-03-10T15:37:32.884052Z"
    }
   },
   "outputs": [],
   "source": [
    "passengerid=data_test.loc[:,\"PassengerId\"]"
   ]
  },
  {
   "cell_type": "code",
   "execution_count": 183,
   "metadata": {
    "execution": {
     "iopub.execute_input": "2021-03-10T15:37:33.726352Z",
     "iopub.status.busy": "2021-03-10T15:37:33.725357Z",
     "iopub.status.idle": "2021-03-10T15:37:33.732337Z",
     "shell.execute_reply": "2021-03-10T15:37:33.731341Z",
     "shell.execute_reply.started": "2021-03-10T15:37:33.726352Z"
    }
   },
   "outputs": [],
   "source": [
    "##去除明显不必要的特征\n",
    "data_test.drop([\"PassengerId\",'Cabin','Name','Ticket'],inplace=True,axis=1)\n",
    "\n",
    "##补齐缺失值\n",
    "data_test.loc[:,'Age']=data_test.loc[:,'Age'].fillna(data_test.loc[:,'Age'].mean())\n",
    "\n",
    "data_test.loc[:,'Fare']=data_test.loc[:,'Fare'].fillna(data_test.loc[:,'Fare'].mean())\n",
    "\n",
    "##将分类变量Sex编码\n",
    "data_test.loc[:,'Sex']=(data_test.loc[:,'Sex']=='male').astype('int')\n",
    "\n",
    "##将分类变量Embarked编码\n",
    "labels=data_test.loc[:,'Embarked'].unique().tolist() \n",
    "data_test.loc[:,'Embarked']=data_test.loc[:,'Embarked'].apply(lambda x:labels.index(x))"
   ]
  },
  {
   "cell_type": "code",
   "execution_count": 186,
   "metadata": {
    "execution": {
     "iopub.execute_input": "2021-03-10T15:37:36.441849Z",
     "iopub.status.busy": "2021-03-10T15:37:36.441849Z",
     "iopub.status.idle": "2021-03-10T15:37:36.781579Z",
     "shell.execute_reply": "2021-03-10T15:37:36.780580Z",
     "shell.execute_reply.started": "2021-03-10T15:37:36.441849Z"
    }
   },
   "outputs": [
    {
     "name": "stderr",
     "output_type": "stream",
     "text": [
      "<ipython-input-186-7f72057e0025>:1: DataConversionWarning: A column-vector y was passed when a 1d array was expected. Please change the shape of y to (n_samples,), for example using ravel().\n",
      "  rfc.fit(x,y)\n"
     ]
    },
    {
     "data": {
      "text/plain": [
       "RandomForestClassifier(criterion='entropy', max_depth=6, n_jobs=-1,\n",
       "                       oob_score=True)"
      ]
     },
     "execution_count": 186,
     "metadata": {},
     "output_type": "execute_result"
    }
   ],
   "source": [
    "rfc.fit(x,y)"
   ]
  },
  {
   "cell_type": "code",
   "execution_count": 187,
   "metadata": {
    "execution": {
     "iopub.execute_input": "2021-03-10T15:37:38.705017Z",
     "iopub.status.busy": "2021-03-10T15:37:38.704024Z",
     "iopub.status.idle": "2021-03-10T15:37:38.711999Z",
     "shell.execute_reply": "2021-03-10T15:37:38.711003Z",
     "shell.execute_reply.started": "2021-03-10T15:37:38.704024Z"
    }
   },
   "outputs": [
    {
     "data": {
      "text/plain": [
       "0.829021372328459"
      ]
     },
     "execution_count": 187,
     "metadata": {},
     "output_type": "execute_result"
    }
   ],
   "source": [
    "rfc.oob_score_"
   ]
  },
  {
   "cell_type": "code",
   "execution_count": 188,
   "metadata": {
    "execution": {
     "iopub.execute_input": "2021-03-10T15:37:42.257871Z",
     "iopub.status.busy": "2021-03-10T15:37:42.256868Z",
     "iopub.status.idle": "2021-03-10T15:37:42.306739Z",
     "shell.execute_reply": "2021-03-10T15:37:42.305740Z",
     "shell.execute_reply.started": "2021-03-10T15:37:42.257871Z"
    }
   },
   "outputs": [],
   "source": [
    "pre=rfc.predict(data_test)"
   ]
  },
  {
   "cell_type": "code",
   "execution_count": 189,
   "metadata": {
    "execution": {
     "iopub.execute_input": "2021-03-10T15:39:39.231478Z",
     "iopub.status.busy": "2021-03-10T15:39:39.230480Z",
     "iopub.status.idle": "2021-03-10T15:39:39.245439Z",
     "shell.execute_reply": "2021-03-10T15:39:39.244442Z",
     "shell.execute_reply.started": "2021-03-10T15:39:39.231478Z"
    }
   },
   "outputs": [],
   "source": [
    "file=pd.DataFrame(data={\"PassengerId\":passengerid,\"Survived\":pre})"
   ]
  },
  {
   "cell_type": "code",
   "execution_count": 193,
   "metadata": {
    "execution": {
     "iopub.execute_input": "2021-03-10T15:42:09.925176Z",
     "iopub.status.busy": "2021-03-10T15:42:09.924179Z",
     "iopub.status.idle": "2021-03-10T15:42:09.940136Z",
     "shell.execute_reply": "2021-03-10T15:42:09.939140Z",
     "shell.execute_reply.started": "2021-03-10T15:42:09.925176Z"
    }
   },
   "outputs": [],
   "source": [
    "file.to_csv(\"result.csv\")"
   ]
  }
 ],
 "metadata": {
  "kernelspec": {
   "display_name": "Python 3",
   "language": "python",
   "name": "python3"
  },
  "language_info": {
   "codemirror_mode": {
    "name": "ipython",
    "version": 3
   },
   "file_extension": ".py",
   "mimetype": "text/x-python",
   "name": "python",
   "nbconvert_exporter": "python",
   "pygments_lexer": "ipython3",
   "version": "3.8.5"
  }
 },
 "nbformat": 4,
 "nbformat_minor": 4
}
