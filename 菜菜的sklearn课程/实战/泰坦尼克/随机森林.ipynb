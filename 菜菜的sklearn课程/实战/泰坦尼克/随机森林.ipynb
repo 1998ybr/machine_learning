{
 "cells": [
  {
   "cell_type": "code",
   "execution_count": 1,
   "id": "eae1bad2-255c-4cf4-94af-f7f9b9a09051",
   "metadata": {
    "execution": {
     "iopub.execute_input": "2021-05-19T03:22:31.052518Z",
     "iopub.status.busy": "2021-05-19T03:22:31.051520Z",
     "iopub.status.idle": "2021-05-19T03:22:31.511985Z",
     "shell.execute_reply": "2021-05-19T03:22:31.511054Z",
     "shell.execute_reply.started": "2021-05-19T03:22:31.051520Z"
    },
    "tags": []
   },
   "outputs": [],
   "source": [
    "import pandas as pd\n",
    "\n",
    "data = pd.read_csv('data/train.csv')\n",
    "\n",
    "data = data.drop([\"Name\", \"Ticket\",\"Cabin\"], axis=\"columns\")\n",
    "\n",
    "data = data.dropna(axis = \"index\", how = \"any\")\n",
    "data = data.reset_index(drop = True)"
   ]
  },
  {
   "cell_type": "code",
   "execution_count": 3,
   "id": "5a570e0e-5fdd-461f-8330-220adedd4d31",
   "metadata": {
    "execution": {
     "iopub.execute_input": "2021-05-19T03:22:00.396858Z",
     "iopub.status.busy": "2021-05-19T03:22:00.395860Z",
     "iopub.status.idle": "2021-05-19T03:22:00.440740Z",
     "shell.execute_reply": "2021-05-19T03:22:00.440010Z",
     "shell.execute_reply.started": "2021-05-19T03:22:00.396858Z"
    },
    "tags": []
   },
   "outputs": [
    {
     "data": {
      "text/html": [
       "<div>\n",
       "<style scoped>\n",
       "    .dataframe tbody tr th:only-of-type {\n",
       "        vertical-align: middle;\n",
       "    }\n",
       "\n",
       "    .dataframe tbody tr th {\n",
       "        vertical-align: top;\n",
       "    }\n",
       "\n",
       "    .dataframe thead th {\n",
       "        text-align: right;\n",
       "    }\n",
       "</style>\n",
       "<table border=\"1\" class=\"dataframe\">\n",
       "  <thead>\n",
       "    <tr style=\"text-align: right;\">\n",
       "      <th></th>\n",
       "      <th>PassengerId</th>\n",
       "      <th>Survived</th>\n",
       "      <th>Pclass</th>\n",
       "      <th>Sex</th>\n",
       "      <th>Age</th>\n",
       "      <th>SibSp</th>\n",
       "      <th>Parch</th>\n",
       "      <th>Fare</th>\n",
       "      <th>Embarked</th>\n",
       "    </tr>\n",
       "  </thead>\n",
       "  <tbody>\n",
       "    <tr>\n",
       "      <th>0</th>\n",
       "      <td>1</td>\n",
       "      <td>0</td>\n",
       "      <td>3</td>\n",
       "      <td>male</td>\n",
       "      <td>22.0</td>\n",
       "      <td>1</td>\n",
       "      <td>0</td>\n",
       "      <td>7.2500</td>\n",
       "      <td>S</td>\n",
       "    </tr>\n",
       "    <tr>\n",
       "      <th>1</th>\n",
       "      <td>2</td>\n",
       "      <td>1</td>\n",
       "      <td>1</td>\n",
       "      <td>female</td>\n",
       "      <td>38.0</td>\n",
       "      <td>1</td>\n",
       "      <td>0</td>\n",
       "      <td>71.2833</td>\n",
       "      <td>C</td>\n",
       "    </tr>\n",
       "    <tr>\n",
       "      <th>2</th>\n",
       "      <td>3</td>\n",
       "      <td>1</td>\n",
       "      <td>3</td>\n",
       "      <td>female</td>\n",
       "      <td>26.0</td>\n",
       "      <td>0</td>\n",
       "      <td>0</td>\n",
       "      <td>7.9250</td>\n",
       "      <td>S</td>\n",
       "    </tr>\n",
       "    <tr>\n",
       "      <th>3</th>\n",
       "      <td>4</td>\n",
       "      <td>1</td>\n",
       "      <td>1</td>\n",
       "      <td>female</td>\n",
       "      <td>35.0</td>\n",
       "      <td>1</td>\n",
       "      <td>0</td>\n",
       "      <td>53.1000</td>\n",
       "      <td>S</td>\n",
       "    </tr>\n",
       "    <tr>\n",
       "      <th>4</th>\n",
       "      <td>5</td>\n",
       "      <td>0</td>\n",
       "      <td>3</td>\n",
       "      <td>male</td>\n",
       "      <td>35.0</td>\n",
       "      <td>0</td>\n",
       "      <td>0</td>\n",
       "      <td>8.0500</td>\n",
       "      <td>S</td>\n",
       "    </tr>\n",
       "    <tr>\n",
       "      <th>...</th>\n",
       "      <td>...</td>\n",
       "      <td>...</td>\n",
       "      <td>...</td>\n",
       "      <td>...</td>\n",
       "      <td>...</td>\n",
       "      <td>...</td>\n",
       "      <td>...</td>\n",
       "      <td>...</td>\n",
       "      <td>...</td>\n",
       "    </tr>\n",
       "    <tr>\n",
       "      <th>707</th>\n",
       "      <td>886</td>\n",
       "      <td>0</td>\n",
       "      <td>3</td>\n",
       "      <td>female</td>\n",
       "      <td>39.0</td>\n",
       "      <td>0</td>\n",
       "      <td>5</td>\n",
       "      <td>29.1250</td>\n",
       "      <td>Q</td>\n",
       "    </tr>\n",
       "    <tr>\n",
       "      <th>708</th>\n",
       "      <td>887</td>\n",
       "      <td>0</td>\n",
       "      <td>2</td>\n",
       "      <td>male</td>\n",
       "      <td>27.0</td>\n",
       "      <td>0</td>\n",
       "      <td>0</td>\n",
       "      <td>13.0000</td>\n",
       "      <td>S</td>\n",
       "    </tr>\n",
       "    <tr>\n",
       "      <th>709</th>\n",
       "      <td>888</td>\n",
       "      <td>1</td>\n",
       "      <td>1</td>\n",
       "      <td>female</td>\n",
       "      <td>19.0</td>\n",
       "      <td>0</td>\n",
       "      <td>0</td>\n",
       "      <td>30.0000</td>\n",
       "      <td>S</td>\n",
       "    </tr>\n",
       "    <tr>\n",
       "      <th>710</th>\n",
       "      <td>890</td>\n",
       "      <td>1</td>\n",
       "      <td>1</td>\n",
       "      <td>male</td>\n",
       "      <td>26.0</td>\n",
       "      <td>0</td>\n",
       "      <td>0</td>\n",
       "      <td>30.0000</td>\n",
       "      <td>C</td>\n",
       "    </tr>\n",
       "    <tr>\n",
       "      <th>711</th>\n",
       "      <td>891</td>\n",
       "      <td>0</td>\n",
       "      <td>3</td>\n",
       "      <td>male</td>\n",
       "      <td>32.0</td>\n",
       "      <td>0</td>\n",
       "      <td>0</td>\n",
       "      <td>7.7500</td>\n",
       "      <td>Q</td>\n",
       "    </tr>\n",
       "  </tbody>\n",
       "</table>\n",
       "<p>712 rows × 9 columns</p>\n",
       "</div>"
      ],
      "text/plain": [
       "     PassengerId  Survived  Pclass     Sex   Age  SibSp  Parch     Fare  \\\n",
       "0              1         0       3    male  22.0      1      0   7.2500   \n",
       "1              2         1       1  female  38.0      1      0  71.2833   \n",
       "2              3         1       3  female  26.0      0      0   7.9250   \n",
       "3              4         1       1  female  35.0      1      0  53.1000   \n",
       "4              5         0       3    male  35.0      0      0   8.0500   \n",
       "..           ...       ...     ...     ...   ...    ...    ...      ...   \n",
       "707          886         0       3  female  39.0      0      5  29.1250   \n",
       "708          887         0       2    male  27.0      0      0  13.0000   \n",
       "709          888         1       1  female  19.0      0      0  30.0000   \n",
       "710          890         1       1    male  26.0      0      0  30.0000   \n",
       "711          891         0       3    male  32.0      0      0   7.7500   \n",
       "\n",
       "    Embarked  \n",
       "0          S  \n",
       "1          C  \n",
       "2          S  \n",
       "3          S  \n",
       "4          S  \n",
       "..       ...  \n",
       "707        Q  \n",
       "708        S  \n",
       "709        S  \n",
       "710        C  \n",
       "711        Q  \n",
       "\n",
       "[712 rows x 9 columns]"
      ]
     },
     "execution_count": 3,
     "metadata": {},
     "output_type": "execute_result"
    }
   ],
   "source": [
    "data"
   ]
  },
  {
   "cell_type": "code",
   "execution_count": 8,
   "id": "a6138cec-ddbe-4360-b45f-9d6bb8c8b448",
   "metadata": {
    "execution": {
     "iopub.execute_input": "2021-05-19T02:08:30.988579Z",
     "iopub.status.busy": "2021-05-19T02:08:30.988579Z",
     "iopub.status.idle": "2021-05-19T02:08:32.029615Z",
     "shell.execute_reply": "2021-05-19T02:08:32.029615Z",
     "shell.execute_reply.started": "2021-05-19T02:08:30.988579Z"
    },
    "tags": []
   },
   "outputs": [],
   "source": [
    "from sklearn import preprocessing"
   ]
  },
  {
   "cell_type": "code",
   "execution_count": 9,
   "id": "eaa8df3e-6811-4a62-bd39-53d0bb36bd68",
   "metadata": {
    "execution": {
     "iopub.execute_input": "2021-05-19T02:08:40.256962Z",
     "iopub.status.busy": "2021-05-19T02:08:40.256962Z",
     "iopub.status.idle": "2021-05-19T02:08:40.264956Z",
     "shell.execute_reply": "2021-05-19T02:08:40.264956Z",
     "shell.execute_reply.started": "2021-05-19T02:08:40.256962Z"
    },
    "tags": []
   },
   "outputs": [],
   "source": [
    "def transform_dummy(data):\n",
    "    enc = preprocessing.OneHotEncoder()\n",
    "    enc.fit(data)\n",
    "    encdata = enc.transform(data).toarray()\n",
    "    encdata = pd.DataFrame(encdata)\n",
    "    columns=[]\n",
    "    for i in range(data.shape[1]):\n",
    "        columns = columns + enc.categories_[i].tolist()\n",
    "    encdata.columns = columns\n",
    "    encdata.index = data.index\n",
    "    return encdata"
   ]
  },
  {
   "cell_type": "code",
   "execution_count": 10,
   "id": "3e112c21-2979-4833-bd26-5080d98b418b",
   "metadata": {
    "execution": {
     "iopub.execute_input": "2021-05-19T02:08:41.148541Z",
     "iopub.status.busy": "2021-05-19T02:08:41.147510Z",
     "iopub.status.idle": "2021-05-19T02:08:41.180829Z",
     "shell.execute_reply": "2021-05-19T02:08:41.178881Z",
     "shell.execute_reply.started": "2021-05-19T02:08:41.148541Z"
    },
    "tags": []
   },
   "outputs": [
    {
     "data": {
      "text/html": [
       "<div>\n",
       "<style scoped>\n",
       "    .dataframe tbody tr th:only-of-type {\n",
       "        vertical-align: middle;\n",
       "    }\n",
       "\n",
       "    .dataframe tbody tr th {\n",
       "        vertical-align: top;\n",
       "    }\n",
       "\n",
       "    .dataframe thead th {\n",
       "        text-align: right;\n",
       "    }\n",
       "</style>\n",
       "<table border=\"1\" class=\"dataframe\">\n",
       "  <thead>\n",
       "    <tr style=\"text-align: right;\">\n",
       "      <th></th>\n",
       "      <th>female</th>\n",
       "      <th>male</th>\n",
       "      <th>C</th>\n",
       "      <th>Q</th>\n",
       "      <th>S</th>\n",
       "    </tr>\n",
       "  </thead>\n",
       "  <tbody>\n",
       "    <tr>\n",
       "      <th>0</th>\n",
       "      <td>0.0</td>\n",
       "      <td>1.0</td>\n",
       "      <td>0.0</td>\n",
       "      <td>0.0</td>\n",
       "      <td>1.0</td>\n",
       "    </tr>\n",
       "    <tr>\n",
       "      <th>1</th>\n",
       "      <td>1.0</td>\n",
       "      <td>0.0</td>\n",
       "      <td>1.0</td>\n",
       "      <td>0.0</td>\n",
       "      <td>0.0</td>\n",
       "    </tr>\n",
       "    <tr>\n",
       "      <th>2</th>\n",
       "      <td>1.0</td>\n",
       "      <td>0.0</td>\n",
       "      <td>0.0</td>\n",
       "      <td>0.0</td>\n",
       "      <td>1.0</td>\n",
       "    </tr>\n",
       "    <tr>\n",
       "      <th>3</th>\n",
       "      <td>1.0</td>\n",
       "      <td>0.0</td>\n",
       "      <td>0.0</td>\n",
       "      <td>0.0</td>\n",
       "      <td>1.0</td>\n",
       "    </tr>\n",
       "    <tr>\n",
       "      <th>4</th>\n",
       "      <td>0.0</td>\n",
       "      <td>1.0</td>\n",
       "      <td>0.0</td>\n",
       "      <td>0.0</td>\n",
       "      <td>1.0</td>\n",
       "    </tr>\n",
       "    <tr>\n",
       "      <th>...</th>\n",
       "      <td>...</td>\n",
       "      <td>...</td>\n",
       "      <td>...</td>\n",
       "      <td>...</td>\n",
       "      <td>...</td>\n",
       "    </tr>\n",
       "    <tr>\n",
       "      <th>707</th>\n",
       "      <td>1.0</td>\n",
       "      <td>0.0</td>\n",
       "      <td>0.0</td>\n",
       "      <td>1.0</td>\n",
       "      <td>0.0</td>\n",
       "    </tr>\n",
       "    <tr>\n",
       "      <th>708</th>\n",
       "      <td>0.0</td>\n",
       "      <td>1.0</td>\n",
       "      <td>0.0</td>\n",
       "      <td>0.0</td>\n",
       "      <td>1.0</td>\n",
       "    </tr>\n",
       "    <tr>\n",
       "      <th>709</th>\n",
       "      <td>1.0</td>\n",
       "      <td>0.0</td>\n",
       "      <td>0.0</td>\n",
       "      <td>0.0</td>\n",
       "      <td>1.0</td>\n",
       "    </tr>\n",
       "    <tr>\n",
       "      <th>710</th>\n",
       "      <td>0.0</td>\n",
       "      <td>1.0</td>\n",
       "      <td>1.0</td>\n",
       "      <td>0.0</td>\n",
       "      <td>0.0</td>\n",
       "    </tr>\n",
       "    <tr>\n",
       "      <th>711</th>\n",
       "      <td>0.0</td>\n",
       "      <td>1.0</td>\n",
       "      <td>0.0</td>\n",
       "      <td>1.0</td>\n",
       "      <td>0.0</td>\n",
       "    </tr>\n",
       "  </tbody>\n",
       "</table>\n",
       "<p>712 rows × 5 columns</p>\n",
       "</div>"
      ],
      "text/plain": [
       "     female  male    C    Q    S\n",
       "0       0.0   1.0  0.0  0.0  1.0\n",
       "1       1.0   0.0  1.0  0.0  0.0\n",
       "2       1.0   0.0  0.0  0.0  1.0\n",
       "3       1.0   0.0  0.0  0.0  1.0\n",
       "4       0.0   1.0  0.0  0.0  1.0\n",
       "..      ...   ...  ...  ...  ...\n",
       "707     1.0   0.0  0.0  1.0  0.0\n",
       "708     0.0   1.0  0.0  0.0  1.0\n",
       "709     1.0   0.0  0.0  0.0  1.0\n",
       "710     0.0   1.0  1.0  0.0  0.0\n",
       "711     0.0   1.0  0.0  1.0  0.0\n",
       "\n",
       "[712 rows x 5 columns]"
      ]
     },
     "execution_count": 10,
     "metadata": {},
     "output_type": "execute_result"
    }
   ],
   "source": [
    "transform_dummy(data.loc[:,(\"Sex\",\"Embarked\")])"
   ]
  },
  {
   "cell_type": "code",
   "execution_count": 15,
   "id": "6372f551-a34c-4ba9-978c-9dca0d2846b9",
   "metadata": {
    "execution": {
     "iopub.execute_input": "2021-05-19T02:12:12.452291Z",
     "iopub.status.busy": "2021-05-19T02:12:12.452291Z",
     "iopub.status.idle": "2021-05-19T02:12:12.484591Z",
     "shell.execute_reply": "2021-05-19T02:12:12.483597Z",
     "shell.execute_reply.started": "2021-05-19T02:12:12.452291Z"
    },
    "tags": []
   },
   "outputs": [],
   "source": [
    "data = pd.concat([data.drop([\"Sex\", \"Embarked\"], axis = \"columns\"), transform_dummy(data.loc[:,(\"Sex\",\"Embarked\")])], axis = \"columns\")"
   ]
  },
  {
   "cell_type": "code",
   "execution_count": 16,
   "id": "1d55b912-309b-44f2-8a44-3c26e1b607d3",
   "metadata": {
    "execution": {
     "iopub.execute_input": "2021-05-19T02:17:48.303714Z",
     "iopub.status.busy": "2021-05-19T02:17:48.303714Z",
     "iopub.status.idle": "2021-05-19T02:17:48.320182Z",
     "shell.execute_reply": "2021-05-19T02:17:48.319183Z",
     "shell.execute_reply.started": "2021-05-19T02:17:48.303714Z"
    },
    "tags": []
   },
   "outputs": [
    {
     "data": {
      "text/plain": [
       "Index(['PassengerId', 'Survived', 'Pclass', 'Age', 'SibSp', 'Parch', 'Fare',\n",
       "       'female', 'male', 'C', 'Q', 'S'],\n",
       "      dtype='object')"
      ]
     },
     "execution_count": 16,
     "metadata": {},
     "output_type": "execute_result"
    }
   ],
   "source": [
    "data.columns"
   ]
  },
  {
   "cell_type": "code",
   "execution_count": 17,
   "id": "7df1fb98-50e3-437e-acc0-0ed3821d03af",
   "metadata": {
    "execution": {
     "iopub.execute_input": "2021-05-19T02:18:27.499937Z",
     "iopub.status.busy": "2021-05-19T02:18:27.499937Z",
     "iopub.status.idle": "2021-05-19T02:18:27.599954Z",
     "shell.execute_reply": "2021-05-19T02:18:27.599954Z",
     "shell.execute_reply.started": "2021-05-19T02:18:27.499937Z"
    },
    "tags": []
   },
   "outputs": [],
   "source": [
    "from sklearn.model_selection import train_test_split"
   ]
  },
  {
   "cell_type": "code",
   "execution_count": 18,
   "id": "c47757ad-0e78-4d74-ae18-01a0dc47de86",
   "metadata": {
    "execution": {
     "iopub.execute_input": "2021-05-19T02:18:29.863155Z",
     "iopub.status.busy": "2021-05-19T02:18:29.863155Z",
     "iopub.status.idle": "2021-05-19T02:18:29.887535Z",
     "shell.execute_reply": "2021-05-19T02:18:29.886540Z",
     "shell.execute_reply.started": "2021-05-19T02:18:29.863155Z"
    },
    "tags": []
   },
   "outputs": [],
   "source": [
    "X ,y= data.drop([\"PassengerId\", \"Survived\"], axis = \"columns\"), data[\"Survived\"]"
   ]
  },
  {
   "cell_type": "code",
   "execution_count": 19,
   "id": "ece34fb3-d87c-4a52-9f98-411245faa16b",
   "metadata": {
    "execution": {
     "iopub.execute_input": "2021-05-19T02:18:31.849419Z",
     "iopub.status.busy": "2021-05-19T02:18:31.849419Z",
     "iopub.status.idle": "2021-05-19T02:18:31.865914Z",
     "shell.execute_reply": "2021-05-19T02:18:31.864917Z",
     "shell.execute_reply.started": "2021-05-19T02:18:31.849419Z"
    },
    "tags": []
   },
   "outputs": [],
   "source": [
    "train_X, test_X, train_y, test_y =train_test_split(X, y, test_size=0.3)"
   ]
  },
  {
   "cell_type": "code",
   "execution_count": 20,
   "id": "a13cd428-5248-4a85-bba2-8b94a4597a0f",
   "metadata": {
    "execution": {
     "iopub.execute_input": "2021-05-19T02:18:35.098361Z",
     "iopub.status.busy": "2021-05-19T02:18:35.098361Z",
     "iopub.status.idle": "2021-05-19T02:18:35.324289Z",
     "shell.execute_reply": "2021-05-19T02:18:35.324289Z",
     "shell.execute_reply.started": "2021-05-19T02:18:35.098361Z"
    },
    "tags": []
   },
   "outputs": [],
   "source": [
    "from sklearn.ensemble import RandomForestClassifier"
   ]
  },
  {
   "cell_type": "code",
   "execution_count": 21,
   "id": "04e4c84b-f7f3-4077-959c-296bc86e92f6",
   "metadata": {
    "execution": {
     "iopub.execute_input": "2021-05-19T02:18:38.890733Z",
     "iopub.status.busy": "2021-05-19T02:18:38.890733Z",
     "iopub.status.idle": "2021-05-19T02:18:38.906701Z",
     "shell.execute_reply": "2021-05-19T02:18:38.906195Z",
     "shell.execute_reply.started": "2021-05-19T02:18:38.890733Z"
    },
    "tags": []
   },
   "outputs": [],
   "source": [
    "from sklearn.model_selection import GridSearchCV"
   ]
  },
  {
   "cell_type": "code",
   "execution_count": 22,
   "id": "b3474420-cf4c-49b9-a3fb-89a9b19d32cc",
   "metadata": {
    "execution": {
     "iopub.execute_input": "2021-05-19T02:18:39.561921Z",
     "iopub.status.busy": "2021-05-19T02:18:39.561921Z",
     "iopub.status.idle": "2021-05-19T02:18:39.578499Z",
     "shell.execute_reply": "2021-05-19T02:18:39.577499Z",
     "shell.execute_reply.started": "2021-05-19T02:18:39.561921Z"
    },
    "tags": []
   },
   "outputs": [],
   "source": [
    "import numpy as np"
   ]
  },
  {
   "cell_type": "code",
   "execution_count": 28,
   "id": "7a19dbe8-7164-45b7-8588-41304ac6633f",
   "metadata": {
    "execution": {
     "iopub.execute_input": "2021-05-19T02:23:11.553791Z",
     "iopub.status.busy": "2021-05-19T02:23:11.553791Z",
     "iopub.status.idle": "2021-05-19T02:23:11.560003Z",
     "shell.execute_reply": "2021-05-19T02:23:11.559005Z",
     "shell.execute_reply.started": "2021-05-19T02:23:11.553791Z"
    },
    "tags": []
   },
   "outputs": [],
   "source": [
    "params = {\"n_estimators\":[*range(1,11)]\n",
    "         ,\"criterion\":(\"gini\",\"entropy\")\n",
    "         ,\"max_depth\":[*range(1,11)]\n",
    "         ,\"min_samples_leaf\":[*range(1,51,5)]\n",
    "         ,\"min_impurity_decrease\":[*np.linspace(0,1,11)]\n",
    "         }"
   ]
  },
  {
   "cell_type": "code",
   "execution_count": 29,
   "id": "c22fe284-f31b-44b9-9063-faf6ee7c2565",
   "metadata": {
    "execution": {
     "iopub.execute_input": "2021-05-19T02:23:12.026218Z",
     "iopub.status.busy": "2021-05-19T02:23:12.026218Z",
     "iopub.status.idle": "2021-05-19T02:23:12.034209Z",
     "shell.execute_reply": "2021-05-19T02:23:12.034209Z",
     "shell.execute_reply.started": "2021-05-19T02:23:12.026218Z"
    },
    "tags": []
   },
   "outputs": [],
   "source": [
    "clf = RandomForestClassifier(random_state=0,verbose=1,bootstrap=False)"
   ]
  },
  {
   "cell_type": "code",
   "execution_count": 30,
   "id": "e313cfd9-6d95-4e50-9bb7-02b06ff0775a",
   "metadata": {
    "execution": {
     "iopub.execute_input": "2021-05-19T02:23:12.513044Z",
     "iopub.status.busy": "2021-05-19T02:23:12.513044Z",
     "iopub.status.idle": "2021-05-19T02:23:12.538169Z",
     "shell.execute_reply": "2021-05-19T02:23:12.536173Z",
     "shell.execute_reply.started": "2021-05-19T02:23:12.513044Z"
    },
    "tags": []
   },
   "outputs": [],
   "source": [
    "gs = GridSearchCV(clf, params,n_jobs=-1,cv = 3, verbose=1\n",
    "                 ,return_train_score=True)"
   ]
  },
  {
   "cell_type": "code",
   "execution_count": 31,
   "id": "62d881fd-e1e9-4304-bac5-423a252938b1",
   "metadata": {
    "execution": {
     "iopub.execute_input": "2021-05-19T02:23:13.016665Z",
     "iopub.status.busy": "2021-05-19T02:23:13.016665Z",
     "iopub.status.idle": "2021-05-19T02:30:51.231819Z",
     "shell.execute_reply": "2021-05-19T02:30:51.230823Z",
     "shell.execute_reply.started": "2021-05-19T02:23:13.016665Z"
    },
    "tags": []
   },
   "outputs": [
    {
     "name": "stdout",
     "output_type": "stream",
     "text": [
      "Fitting 3 folds for each of 22000 candidates, totalling 66000 fits\n"
     ]
    },
    {
     "name": "stderr",
     "output_type": "stream",
     "text": [
      "[Parallel(n_jobs=1)]: Using backend SequentialBackend with 1 concurrent workers.\n",
      "[Parallel(n_jobs=1)]: Done   4 out of   4 | elapsed:    0.0s finished\n"
     ]
    }
   ],
   "source": [
    "gs = gs.fit(X, y)"
   ]
  },
  {
   "cell_type": "code",
   "execution_count": 32,
   "id": "250daf6b-4d51-4ddd-8f85-7e644282a583",
   "metadata": {
    "execution": {
     "iopub.execute_input": "2021-05-19T02:31:21.660638Z",
     "iopub.status.busy": "2021-05-19T02:31:21.660638Z",
     "iopub.status.idle": "2021-05-19T02:31:21.676972Z",
     "shell.execute_reply": "2021-05-19T02:31:21.675978Z",
     "shell.execute_reply.started": "2021-05-19T02:31:21.660638Z"
    },
    "tags": []
   },
   "outputs": [
    {
     "name": "stdout",
     "output_type": "stream",
     "text": [
      "{'criterion': 'entropy', 'max_depth': 10, 'min_impurity_decrease': 0.0, 'min_samples_leaf': 6, 'n_estimators': 4}\n",
      "0.8188904253684597\n"
     ]
    }
   ],
   "source": [
    "print(gs.best_params_)#返回最佳组合\n",
    "print(gs.best_score_)"
   ]
  },
  {
   "cell_type": "code",
   "execution_count": 41,
   "id": "19ad06d7-e8b2-4bb2-ad11-a1df453f77a3",
   "metadata": {
    "execution": {
     "iopub.execute_input": "2021-05-19T02:33:50.023142Z",
     "iopub.status.busy": "2021-05-19T02:33:50.023142Z",
     "iopub.status.idle": "2021-05-19T02:33:50.040060Z",
     "shell.execute_reply": "2021-05-19T02:33:50.039063Z",
     "shell.execute_reply.started": "2021-05-19T02:33:50.023142Z"
    },
    "tags": []
   },
   "outputs": [],
   "source": [
    "from sklearn.model_selection import cross_val_score"
   ]
  },
  {
   "cell_type": "code",
   "execution_count": 91,
   "id": "7e97015d-e632-481d-bc24-ae90d3e65a21",
   "metadata": {
    "execution": {
     "iopub.execute_input": "2021-05-19T03:12:58.210849Z",
     "iopub.status.busy": "2021-05-19T03:12:58.209851Z",
     "iopub.status.idle": "2021-05-19T03:13:16.110909Z",
     "shell.execute_reply": "2021-05-19T03:13:16.108913Z",
     "shell.execute_reply.started": "2021-05-19T03:12:58.210849Z"
    },
    "tags": []
   },
   "outputs": [
    {
     "name": "stderr",
     "output_type": "stream",
     "text": [
      "[Parallel(n_jobs=-1)]: Using backend ThreadingBackend with 4 concurrent workers.\n",
      "[Parallel(n_jobs=-1)]: Done  42 tasks      | elapsed:    0.0s\n",
      "[Parallel(n_jobs=-1)]: Done 192 tasks      | elapsed:    0.2s\n",
      "[Parallel(n_jobs=-1)]: Done 442 tasks      | elapsed:    0.5s\n",
      "[Parallel(n_jobs=-1)]: Done 792 tasks      | elapsed:    0.9s\n",
      "[Parallel(n_jobs=-1)]: Done 1242 tasks      | elapsed:    1.4s\n",
      "[Parallel(n_jobs=-1)]: Done 1792 tasks      | elapsed:    2.1s\n",
      "[Parallel(n_jobs=-1)]: Done 2442 tasks      | elapsed:    2.9s\n",
      "[Parallel(n_jobs=-1)]: Done 3192 tasks      | elapsed:    3.7s\n",
      "[Parallel(n_jobs=-1)]: Done 4042 tasks      | elapsed:    4.8s\n",
      "[Parallel(n_jobs=-1)]: Done 4992 tasks      | elapsed:    5.9s\n",
      "[Parallel(n_jobs=-1)]: Done 6042 tasks      | elapsed:    7.1s\n",
      "[Parallel(n_jobs=-1)]: Done 7192 tasks      | elapsed:    8.4s\n",
      "[Parallel(n_jobs=-1)]: Done 8442 tasks      | elapsed:    9.9s\n",
      "[Parallel(n_jobs=-1)]: Done 9792 tasks      | elapsed:   11.8s\n",
      "[Parallel(n_jobs=-1)]: Done 10000 out of 10000 | elapsed:   12.1s finished\n",
      "[Parallel(n_jobs=4)]: Using backend ThreadingBackend with 4 concurrent workers.\n",
      "[Parallel(n_jobs=4)]: Done  42 tasks      | elapsed:    0.0s\n",
      "[Parallel(n_jobs=4)]: Done 192 tasks      | elapsed:    0.0s\n",
      "[Parallel(n_jobs=4)]: Done 442 tasks      | elapsed:    0.0s\n",
      "[Parallel(n_jobs=4)]: Done 792 tasks      | elapsed:    0.0s\n",
      "[Parallel(n_jobs=4)]: Done 1242 tasks      | elapsed:    0.1s\n",
      "[Parallel(n_jobs=4)]: Done 1792 tasks      | elapsed:    0.2s\n",
      "[Parallel(n_jobs=4)]: Done 2442 tasks      | elapsed:    0.3s\n",
      "[Parallel(n_jobs=4)]: Done 3192 tasks      | elapsed:    0.5s\n",
      "[Parallel(n_jobs=4)]: Done 4042 tasks      | elapsed:    0.6s\n",
      "[Parallel(n_jobs=4)]: Done 4992 tasks      | elapsed:    0.8s\n",
      "[Parallel(n_jobs=4)]: Done 6042 tasks      | elapsed:    1.1s\n",
      "[Parallel(n_jobs=4)]: Done 7192 tasks      | elapsed:    1.3s\n",
      "[Parallel(n_jobs=4)]: Done 8442 tasks      | elapsed:    1.5s\n",
      "[Parallel(n_jobs=4)]: Done 9792 tasks      | elapsed:    1.8s\n",
      "[Parallel(n_jobs=4)]: Done 10000 out of 10000 | elapsed:    1.8s finished\n"
     ]
    },
    {
     "data": {
      "text/plain": [
       "0.8084112149532711"
      ]
     },
     "execution_count": 91,
     "metadata": {},
     "output_type": "execute_result"
    }
   ],
   "source": [
    "clf = RandomForestClassifier(random_state=0,verbose=1\n",
    "                            ,criterion=\"entropy\"\n",
    "                            ,max_depth=10\n",
    "                            ,min_impurity_decrease=0\n",
    "                            ,min_samples_leaf=6\n",
    "                            ,n_estimators=10000\n",
    "                            ,n_jobs=-1)\n",
    "\n",
    "clf = clf.fit(train_X, train_y)\n",
    "\n",
    "clf.score(test_X,test_y)"
   ]
  },
  {
   "cell_type": "code",
   "execution_count": 62,
   "id": "94614f0d-0cc7-4b6e-8ce5-f20aa99b0498",
   "metadata": {
    "execution": {
     "iopub.execute_input": "2021-05-19T02:43:11.921731Z",
     "iopub.status.busy": "2021-05-19T02:43:11.921731Z",
     "iopub.status.idle": "2021-05-19T02:43:11.952933Z",
     "shell.execute_reply": "2021-05-19T02:43:11.951907Z",
     "shell.execute_reply.started": "2021-05-19T02:43:11.921731Z"
    },
    "tags": []
   },
   "outputs": [],
   "source": [
    "data_test = pd.read_csv(\"data/test.csv\")"
   ]
  },
  {
   "cell_type": "code",
   "execution_count": 63,
   "id": "5d301271-621d-4046-a567-bddfcbf9396c",
   "metadata": {
    "execution": {
     "iopub.execute_input": "2021-05-19T02:43:12.424992Z",
     "iopub.status.busy": "2021-05-19T02:43:12.424992Z",
     "iopub.status.idle": "2021-05-19T02:43:12.441990Z",
     "shell.execute_reply": "2021-05-19T02:43:12.440992Z",
     "shell.execute_reply.started": "2021-05-19T02:43:12.424992Z"
    },
    "tags": []
   },
   "outputs": [],
   "source": [
    "data_test = data_test.drop([\"Name\", \"Ticket\",\"Cabin\"], axis=\"columns\")"
   ]
  },
  {
   "cell_type": "code",
   "execution_count": 69,
   "id": "3f957058-3bcd-4b3f-934f-c5f4c77827ad",
   "metadata": {
    "execution": {
     "iopub.execute_input": "2021-05-19T02:45:53.353121Z",
     "iopub.status.busy": "2021-05-19T02:45:53.353121Z",
     "iopub.status.idle": "2021-05-19T02:45:53.369642Z",
     "shell.execute_reply": "2021-05-19T02:45:53.368643Z",
     "shell.execute_reply.started": "2021-05-19T02:45:53.353121Z"
    },
    "tags": []
   },
   "outputs": [
    {
     "data": {
      "text/plain": [
       "PassengerId     0\n",
       "Pclass          0\n",
       "Age            86\n",
       "SibSp           0\n",
       "Parch           0\n",
       "Fare            1\n",
       "female          0\n",
       "male            0\n",
       "C               0\n",
       "Q               0\n",
       "S               0\n",
       "dtype: int64"
      ]
     },
     "execution_count": 69,
     "metadata": {},
     "output_type": "execute_result"
    }
   ],
   "source": [
    "data_test.isnull().sum()"
   ]
  },
  {
   "cell_type": "code",
   "execution_count": 67,
   "id": "bc4abd16-cedc-4b2d-b560-e3ab0b3a8fb0",
   "metadata": {
    "execution": {
     "iopub.execute_input": "2021-05-19T02:45:43.174008Z",
     "iopub.status.busy": "2021-05-19T02:45:43.174008Z",
     "iopub.status.idle": "2021-05-19T02:45:43.201852Z",
     "shell.execute_reply": "2021-05-19T02:45:43.200857Z",
     "shell.execute_reply.started": "2021-05-19T02:45:43.174008Z"
    },
    "tags": []
   },
   "outputs": [],
   "source": [
    "data_test = pd.concat([data_test.drop([\"Sex\",\"Embarked\"],axis = \"columns\")\n",
    "                       ,transform_dummy(data_test.loc[:,[\"Sex\",\"Embarked\"]])], axis = \"columns\")"
   ]
  },
  {
   "cell_type": "code",
   "execution_count": 83,
   "id": "c288a4f6-c1c6-4a88-bdcc-d690bd9d52f1",
   "metadata": {
    "execution": {
     "iopub.execute_input": "2021-05-19T02:53:09.083284Z",
     "iopub.status.busy": "2021-05-19T02:53:09.083284Z",
     "iopub.status.idle": "2021-05-19T02:53:09.115817Z",
     "shell.execute_reply": "2021-05-19T02:53:09.114819Z",
     "shell.execute_reply.started": "2021-05-19T02:53:09.083284Z"
    },
    "tags": []
   },
   "outputs": [
    {
     "data": {
      "text/html": [
       "<div>\n",
       "<style scoped>\n",
       "    .dataframe tbody tr th:only-of-type {\n",
       "        vertical-align: middle;\n",
       "    }\n",
       "\n",
       "    .dataframe tbody tr th {\n",
       "        vertical-align: top;\n",
       "    }\n",
       "\n",
       "    .dataframe thead th {\n",
       "        text-align: right;\n",
       "    }\n",
       "</style>\n",
       "<table border=\"1\" class=\"dataframe\">\n",
       "  <thead>\n",
       "    <tr style=\"text-align: right;\">\n",
       "      <th></th>\n",
       "      <th>PassengerId</th>\n",
       "      <th>Pclass</th>\n",
       "      <th>Age</th>\n",
       "      <th>SibSp</th>\n",
       "      <th>Parch</th>\n",
       "      <th>Fare</th>\n",
       "      <th>female</th>\n",
       "      <th>male</th>\n",
       "      <th>C</th>\n",
       "      <th>Q</th>\n",
       "      <th>S</th>\n",
       "    </tr>\n",
       "  </thead>\n",
       "  <tbody>\n",
       "    <tr>\n",
       "      <th>0</th>\n",
       "      <td>892.0</td>\n",
       "      <td>3.0</td>\n",
       "      <td>34.5</td>\n",
       "      <td>0.0</td>\n",
       "      <td>0.0</td>\n",
       "      <td>7.8292</td>\n",
       "      <td>0.0</td>\n",
       "      <td>1.0</td>\n",
       "      <td>0.0</td>\n",
       "      <td>1.0</td>\n",
       "      <td>0.0</td>\n",
       "    </tr>\n",
       "    <tr>\n",
       "      <th>1</th>\n",
       "      <td>893.0</td>\n",
       "      <td>3.0</td>\n",
       "      <td>47.0</td>\n",
       "      <td>1.0</td>\n",
       "      <td>0.0</td>\n",
       "      <td>7.0000</td>\n",
       "      <td>1.0</td>\n",
       "      <td>0.0</td>\n",
       "      <td>0.0</td>\n",
       "      <td>0.0</td>\n",
       "      <td>1.0</td>\n",
       "    </tr>\n",
       "    <tr>\n",
       "      <th>2</th>\n",
       "      <td>894.0</td>\n",
       "      <td>2.0</td>\n",
       "      <td>62.0</td>\n",
       "      <td>0.0</td>\n",
       "      <td>0.0</td>\n",
       "      <td>9.6875</td>\n",
       "      <td>0.0</td>\n",
       "      <td>1.0</td>\n",
       "      <td>0.0</td>\n",
       "      <td>1.0</td>\n",
       "      <td>0.0</td>\n",
       "    </tr>\n",
       "    <tr>\n",
       "      <th>3</th>\n",
       "      <td>895.0</td>\n",
       "      <td>3.0</td>\n",
       "      <td>27.0</td>\n",
       "      <td>0.0</td>\n",
       "      <td>0.0</td>\n",
       "      <td>8.6625</td>\n",
       "      <td>0.0</td>\n",
       "      <td>1.0</td>\n",
       "      <td>0.0</td>\n",
       "      <td>0.0</td>\n",
       "      <td>1.0</td>\n",
       "    </tr>\n",
       "    <tr>\n",
       "      <th>4</th>\n",
       "      <td>896.0</td>\n",
       "      <td>3.0</td>\n",
       "      <td>22.0</td>\n",
       "      <td>1.0</td>\n",
       "      <td>1.0</td>\n",
       "      <td>12.2875</td>\n",
       "      <td>1.0</td>\n",
       "      <td>0.0</td>\n",
       "      <td>0.0</td>\n",
       "      <td>0.0</td>\n",
       "      <td>1.0</td>\n",
       "    </tr>\n",
       "  </tbody>\n",
       "</table>\n",
       "</div>"
      ],
      "text/plain": [
       "   PassengerId  Pclass   Age  SibSp  Parch     Fare  female  male    C    Q  \\\n",
       "0        892.0     3.0  34.5    0.0    0.0   7.8292     0.0   1.0  0.0  1.0   \n",
       "1        893.0     3.0  47.0    1.0    0.0   7.0000     1.0   0.0  0.0  0.0   \n",
       "2        894.0     2.0  62.0    0.0    0.0   9.6875     0.0   1.0  0.0  1.0   \n",
       "3        895.0     3.0  27.0    0.0    0.0   8.6625     0.0   1.0  0.0  0.0   \n",
       "4        896.0     3.0  22.0    1.0    1.0  12.2875     1.0   0.0  0.0  0.0   \n",
       "\n",
       "     S  \n",
       "0  0.0  \n",
       "1  1.0  \n",
       "2  0.0  \n",
       "3  1.0  \n",
       "4  1.0  "
      ]
     },
     "execution_count": 83,
     "metadata": {},
     "output_type": "execute_result"
    }
   ],
   "source": [
    "data_test.head()"
   ]
  },
  {
   "cell_type": "code",
   "execution_count": 84,
   "id": "9d1e52d3-5b58-4fac-93ce-932e4129c48b",
   "metadata": {
    "execution": {
     "iopub.execute_input": "2021-05-19T02:53:25.785247Z",
     "iopub.status.busy": "2021-05-19T02:53:25.785247Z",
     "iopub.status.idle": "2021-05-19T02:53:25.817992Z",
     "shell.execute_reply": "2021-05-19T02:53:25.817028Z",
     "shell.execute_reply.started": "2021-05-19T02:53:25.785247Z"
    },
    "tags": []
   },
   "outputs": [
    {
     "data": {
      "text/html": [
       "<div>\n",
       "<style scoped>\n",
       "    .dataframe tbody tr th:only-of-type {\n",
       "        vertical-align: middle;\n",
       "    }\n",
       "\n",
       "    .dataframe tbody tr th {\n",
       "        vertical-align: top;\n",
       "    }\n",
       "\n",
       "    .dataframe thead th {\n",
       "        text-align: right;\n",
       "    }\n",
       "</style>\n",
       "<table border=\"1\" class=\"dataframe\">\n",
       "  <thead>\n",
       "    <tr style=\"text-align: right;\">\n",
       "      <th></th>\n",
       "      <th>Pclass</th>\n",
       "      <th>Age</th>\n",
       "      <th>SibSp</th>\n",
       "      <th>Parch</th>\n",
       "      <th>Fare</th>\n",
       "      <th>female</th>\n",
       "      <th>male</th>\n",
       "      <th>C</th>\n",
       "      <th>Q</th>\n",
       "      <th>S</th>\n",
       "    </tr>\n",
       "  </thead>\n",
       "  <tbody>\n",
       "    <tr>\n",
       "      <th>0</th>\n",
       "      <td>3</td>\n",
       "      <td>22.0</td>\n",
       "      <td>1</td>\n",
       "      <td>0</td>\n",
       "      <td>7.2500</td>\n",
       "      <td>0.0</td>\n",
       "      <td>1.0</td>\n",
       "      <td>0.0</td>\n",
       "      <td>0.0</td>\n",
       "      <td>1.0</td>\n",
       "    </tr>\n",
       "    <tr>\n",
       "      <th>1</th>\n",
       "      <td>1</td>\n",
       "      <td>38.0</td>\n",
       "      <td>1</td>\n",
       "      <td>0</td>\n",
       "      <td>71.2833</td>\n",
       "      <td>1.0</td>\n",
       "      <td>0.0</td>\n",
       "      <td>1.0</td>\n",
       "      <td>0.0</td>\n",
       "      <td>0.0</td>\n",
       "    </tr>\n",
       "    <tr>\n",
       "      <th>2</th>\n",
       "      <td>3</td>\n",
       "      <td>26.0</td>\n",
       "      <td>0</td>\n",
       "      <td>0</td>\n",
       "      <td>7.9250</td>\n",
       "      <td>1.0</td>\n",
       "      <td>0.0</td>\n",
       "      <td>0.0</td>\n",
       "      <td>0.0</td>\n",
       "      <td>1.0</td>\n",
       "    </tr>\n",
       "    <tr>\n",
       "      <th>3</th>\n",
       "      <td>1</td>\n",
       "      <td>35.0</td>\n",
       "      <td>1</td>\n",
       "      <td>0</td>\n",
       "      <td>53.1000</td>\n",
       "      <td>1.0</td>\n",
       "      <td>0.0</td>\n",
       "      <td>0.0</td>\n",
       "      <td>0.0</td>\n",
       "      <td>1.0</td>\n",
       "    </tr>\n",
       "    <tr>\n",
       "      <th>4</th>\n",
       "      <td>3</td>\n",
       "      <td>35.0</td>\n",
       "      <td>0</td>\n",
       "      <td>0</td>\n",
       "      <td>8.0500</td>\n",
       "      <td>0.0</td>\n",
       "      <td>1.0</td>\n",
       "      <td>0.0</td>\n",
       "      <td>0.0</td>\n",
       "      <td>1.0</td>\n",
       "    </tr>\n",
       "  </tbody>\n",
       "</table>\n",
       "</div>"
      ],
      "text/plain": [
       "   Pclass   Age  SibSp  Parch     Fare  female  male    C    Q    S\n",
       "0       3  22.0      1      0   7.2500     0.0   1.0  0.0  0.0  1.0\n",
       "1       1  38.0      1      0  71.2833     1.0   0.0  1.0  0.0  0.0\n",
       "2       3  26.0      0      0   7.9250     1.0   0.0  0.0  0.0  1.0\n",
       "3       1  35.0      1      0  53.1000     1.0   0.0  0.0  0.0  1.0\n",
       "4       3  35.0      0      0   8.0500     0.0   1.0  0.0  0.0  1.0"
      ]
     },
     "execution_count": 84,
     "metadata": {},
     "output_type": "execute_result"
    }
   ],
   "source": [
    "X.head()"
   ]
  },
  {
   "cell_type": "code",
   "execution_count": 75,
   "id": "7904f0da-d6c7-40b0-b36c-f43afab10bb3",
   "metadata": {
    "execution": {
     "iopub.execute_input": "2021-05-19T02:50:07.663017Z",
     "iopub.status.busy": "2021-05-19T02:50:07.663017Z",
     "iopub.status.idle": "2021-05-19T02:50:07.679366Z",
     "shell.execute_reply": "2021-05-19T02:50:07.678400Z",
     "shell.execute_reply.started": "2021-05-19T02:50:07.663017Z"
    },
    "tags": []
   },
   "outputs": [],
   "source": [
    "from sklearn.impute import SimpleImputer\n",
    " \n",
    "imp = SimpleImputer(missing_values=np.nan, strategy='mean')"
   ]
  },
  {
   "cell_type": "code",
   "execution_count": 77,
   "id": "5f84d0ab-7680-4daa-8bea-979cf2d8f3a4",
   "metadata": {
    "execution": {
     "iopub.execute_input": "2021-05-19T02:50:17.462979Z",
     "iopub.status.busy": "2021-05-19T02:50:17.462979Z",
     "iopub.status.idle": "2021-05-19T02:50:17.486914Z",
     "shell.execute_reply": "2021-05-19T02:50:17.485917Z",
     "shell.execute_reply.started": "2021-05-19T02:50:17.462979Z"
    },
    "tags": []
   },
   "outputs": [
    {
     "data": {
      "text/plain": [
       "SimpleImputer()"
      ]
     },
     "execution_count": 77,
     "metadata": {},
     "output_type": "execute_result"
    }
   ],
   "source": [
    "imp.fit(data_test)"
   ]
  },
  {
   "cell_type": "code",
   "execution_count": 80,
   "id": "96b8e687-0b9e-4a3a-8b46-148b1f065a81",
   "metadata": {
    "execution": {
     "iopub.execute_input": "2021-05-19T02:52:22.937821Z",
     "iopub.status.busy": "2021-05-19T02:52:22.937821Z",
     "iopub.status.idle": "2021-05-19T02:52:22.946729Z",
     "shell.execute_reply": "2021-05-19T02:52:22.945694Z",
     "shell.execute_reply.started": "2021-05-19T02:52:22.937821Z"
    },
    "tags": []
   },
   "outputs": [],
   "source": [
    "data_test = pd.DataFrame(imp.transform(data_test), columns= data_test.columns)"
   ]
  },
  {
   "cell_type": "code",
   "execution_count": 92,
   "id": "18e8ec61-150b-42a2-a9c3-d97734549437",
   "metadata": {
    "execution": {
     "iopub.execute_input": "2021-05-19T03:13:37.842154Z",
     "iopub.status.busy": "2021-05-19T03:13:37.841154Z",
     "iopub.status.idle": "2021-05-19T03:13:40.120006Z",
     "shell.execute_reply": "2021-05-19T03:13:40.119008Z",
     "shell.execute_reply.started": "2021-05-19T03:13:37.842154Z"
    },
    "tags": []
   },
   "outputs": [
    {
     "name": "stderr",
     "output_type": "stream",
     "text": [
      "[Parallel(n_jobs=4)]: Using backend ThreadingBackend with 4 concurrent workers.\n",
      "[Parallel(n_jobs=4)]: Done  42 tasks      | elapsed:    0.0s\n",
      "[Parallel(n_jobs=4)]: Done 192 tasks      | elapsed:    0.0s\n",
      "[Parallel(n_jobs=4)]: Done 442 tasks      | elapsed:    0.0s\n",
      "[Parallel(n_jobs=4)]: Done 792 tasks      | elapsed:    0.1s\n",
      "[Parallel(n_jobs=4)]: Done 1242 tasks      | elapsed:    0.2s\n",
      "[Parallel(n_jobs=4)]: Done 1792 tasks      | elapsed:    0.3s\n",
      "[Parallel(n_jobs=4)]: Done 2442 tasks      | elapsed:    0.5s\n",
      "[Parallel(n_jobs=4)]: Done 3192 tasks      | elapsed:    0.6s\n",
      "[Parallel(n_jobs=4)]: Done 4042 tasks      | elapsed:    0.9s\n",
      "[Parallel(n_jobs=4)]: Done 4992 tasks      | elapsed:    1.1s\n",
      "[Parallel(n_jobs=4)]: Done 6042 tasks      | elapsed:    1.3s\n",
      "[Parallel(n_jobs=4)]: Done 7192 tasks      | elapsed:    1.6s\n",
      "[Parallel(n_jobs=4)]: Done 8442 tasks      | elapsed:    1.8s\n",
      "[Parallel(n_jobs=4)]: Done 9792 tasks      | elapsed:    2.1s\n",
      "[Parallel(n_jobs=4)]: Done 10000 out of 10000 | elapsed:    2.2s finished\n"
     ]
    }
   ],
   "source": [
    "pd.DataFrame({\"PassengerId\":data_test.loc[:,\"PassengerId\"],\n",
    "              \"Survived\":clf.predict(data_test.drop(\"PassengerId\",axis = \"columns\")).tolist()}).to_csv(\"submission.csv\")"
   ]
  }
 ],
 "metadata": {
  "kernelspec": {
   "display_name": "Python 3",
   "language": "python",
   "name": "python3"
  },
  "language_info": {
   "codemirror_mode": {
    "name": "ipython",
    "version": 3
   },
   "file_extension": ".py",
   "mimetype": "text/x-python",
   "name": "python",
   "nbconvert_exporter": "python",
   "pygments_lexer": "ipython3",
   "version": "3.9.1"
  }
 },
 "nbformat": 4,
 "nbformat_minor": 5
}
