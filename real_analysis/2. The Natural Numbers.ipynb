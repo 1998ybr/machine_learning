{
 "cells": [
  {
   "cell_type": "markdown",
   "metadata": {},
   "source": [
    "## 2.1 The Peano Axioms\n",
    "### Axiom 2.1: $0\\ is\\ a\\ nutural\\ number.$\n",
    "### Axiom 2.2: $If\\ n\\ is\\ a\\ natural\\ number,\\ then\\ (n++)\\ is\\ also\\ a\\ natural\\ number.$\n",
    "### Axiom 2.3: $0\\ is\\ not\\ the\\ successor\\ of\\ any\\ natural\\ number;\\ i.e.,\\ we\\ have\\ n++\\neq 0\\ for every\\ natural\\ number\\ n.$\n",
    "### Axiom 2.4: $Different\\ natural\\ number\\ must\\ have\\ different\\ successor;\\ i.e.,\\ if\\ n,m\\ are\\ natural\\ number,\\ and\\ n\\neq m,then\\ n++\\neq m++.\\ Equivalently,\\ if\\ n++= m++,\\ then\\ we\\ must\\ have\\ n= m.$\n",
    "### Axiom 2.5: $Let\\ P(n)\\ be\\ any\\ property\\ pertaining\\ to\\ a\\ natural\\ number\\ n.\\ Suppose\\ that\\ P(0)\\ is\\ true,\\ and\\ suppose\\ that\\ whenever\\ P(n)\\ is\\ true,\\ if\\ P(n++)\\ is\\ also\\ true,\\ then\\ we\\ can\\ prove\\ P(n)\\ is\\ true.$"
   ]
  },
  {
   "cell_type": "markdown",
   "metadata": {},
   "source": [
    "### Proposition\n",
    "### $The\\ sum\\ of\\ two\\ natural\\ numbers\\ is\\ again\\ a\\ natural\\ number$. \n",
    "$Proof.$\n",
    "<br>suppose $\\forall m,n\\in N$,\n",
    "<br>suppose, for 0, there is $(0+m)\\in N$,\n",
    "<br>suppose, for n, there is $(n+m)\\in N$,\n",
    "<br>then, with Definition 2.2.1,we have $(n++)+m:=(n+m)++$,\n",
    "<br>then, with Axiom 2.2, since $n+m\\in N$, $(n+m)++\\in N$,\n",
    "<br>hence,with Axiom 2.5, the sum of two natural numbers is again a natural number."
   ]
  },
  {
   "cell_type": "markdown",
   "metadata": {},
   "source": [
    "### Lemma 2.2.2.\n",
    "### $For\\ any\\ natural\\ number\\ n,\\ n+0=n$.\n",
    "$Proof.$\n",
    "<br>with Definition 2.2.1, we know $\\forall m\\in N,0+m:=m$,\n",
    "<br>so, we know $0+0=0$,\n",
    "<br>now,suppose inductively that $n+0=n$,\n",
    "<br>then, with Definition 2.2.1,$(n++)+0=(n+0)++$,\n",
    "<br>since we have supposed that $n+0=n$,\n",
    "<br>we have $(n++)+0=(n+0)++=n++$.\n",
    "<br>with Axiom 2.5, we know $\\forall n\\in N,\\ n+0=n$.\n",
    "<br>$Q.E.D.$"
   ]
  },
  {
   "cell_type": "markdown",
   "metadata": {},
   "source": [
    "### Lemma 2.2.3.\n",
    "### $For\\ any\\ natural\\ numbers\\ n\\ and\\ m,\\ n+(m++)=(n+m)++$.\n",
    "$Proof.$\n",
    "<br>with Definition 2.2.1, we know $0+(m++)=m++$,\n",
    "<br>now, suppose inductively that $n+(m++)=(n+m)++$,\n",
    "<br>we want to show that $(n++)+(m++)=((n++)+m)++$,\n",
    "<br>with Definition 2.2.1, $(n++)+(m++)=(n+(m++))++$,\n",
    "<br>from our suppose, $(n++)+(m++)=(n+(m++))++=((n+m)++)++$,\n",
    "<br>since $((n++)+m)++=((n+m)++)++$,\n",
    "<br>we can know that $\\forall m,n\\in N,\\ n+(m++)=(n+m)++$.\n",
    "<br>$Q.E.D.$"
   ]
  },
  {
   "cell_type": "markdown",
   "metadata": {},
   "source": [
    "### Proposition 2.2.4 (Addition is commutative).\n",
    "### $For\\ any\\ natural\\ numbers\\ n\\ and\\ m,\\ n+m=m+n$.\n",
    "$Proof.$\n",
    "<br>firstly, from Lemma 2.2.2, we know that $0+m=m+0$,\n",
    "<br>then, suppose inductively that $n+m=m+n$,\n",
    "<br>we want to show $(n++)+m=m+(n++)$,\n",
    "<br>from Definition 2.2.1, we know that $(n++)+m=(n+m)++$,\n",
    "<br>from Lemma 2.2.3,we know that $m+(n++)=(m+n)++$,\n",
    "<br>since we have suppose that $n+m=m+n$,\n",
    "<br>we can get $(n++)+m=m+(n++)$,\n",
    "<br>hence,we know $\\forall n,m\\forall \\in N,\\ n+m=m+n$.\n",
    "<br>$Q.E.D.$"
   ]
  },
  {
   "cell_type": "markdown",
   "metadata": {},
   "source": [
    "### Proposition 2.2.5 (Addition is associative).\n",
    "### $For\\ any\\ natural\\ numbers\\ a,b,c,\\ we\\ have\\ (a+b)+c=a+(b+c)$.\n",
    "\n",
    "$Proof.$\n",
    "<br>From Lemma 2.2.2, we know that $(a+b)+0=a+b$,\n",
    "<br>$a+(b+0)=a+b$,\n",
    "<br>hence, $(a+b)+0=a+(b+0)$.\n",
    "<br>Then, suppose inductively that $(a+b)+n=a+(b+n)$,\n",
    "<br>we want to show $(a+b)+n++=a+(b+(n++))$,\n",
    "<br>$(a+b)+n++=a+b+n++$,\n",
    "<br>$a+(b+(n++))=a+(b+n)+1=(a+b)+n+1=a+b+n++$,\n",
    "<br>hence, we know $\\forall a,b,c,(a+b)+c=a+(b+c)$.\n",
    "<br>$Q.E.D.$"
   ]
  },
  {
   "cell_type": "markdown",
   "metadata": {},
   "source": [
    "### Proposition 2.2.6 (Cancellation law).\n",
    "### $Let\\ a,b,c\\ be\\ natural\\ numbers\\ such\\ that\\ a+b=a+c.\\ Then\\ we\\ have\\ b=c$.\n",
    "\n",
    "$Proof.$\n",
    "<br>We know that if $0+b=0+c,\\ then\\ b=c$, \n",
    "<br>suppose inductively that if $n+b=n+c,\\ then\\ b=c$,\n",
    "<br>we want to show if $(n++)+b=(n++)+c,\\ then\\ b=c$,\n",
    "<br>we know that $(n++)+b=(n+b)++,\\ (n++)+c=(n+c)++$,\n",
    "<br>then, $n+b=n+c$,\n",
    "<br>then, $b=c$.\n",
    "<br>hence, we know $\\forall a,b,c\\in N, where\\ a+b=a+c,\\ we\\ have\\ b=c$.\n",
    "<br>$Q.E.D.$"
   ]
  },
  {
   "cell_type": "markdown",
   "metadata": {},
   "source": [
    "### Proposition 2.2.8. If $a\\ is\\ positive\\ and\\ b\\ is\\ a\\ natural\\ number,\\ the\\ a+b\\ is\\ positve.$\n",
    "$Proof.$\n",
    "<br>We use induction on $b$.\n",
    "<br>If $b=0$, then $a+b=a+0=a\\in N^+$.\n",
    "<br>We suppose inductively $b=n$, then $a+b=a+n\\in N^+$.\n",
    "<br>When $b=n++$, $a+b=a+(n++)=(a+n)++$.\n",
    "<br>Since $a+n\\in N^+$, meaning $a+n\\neq 0$.\n",
    "<bf>With Axiom 2.3, we know $a+(n++)\\in N^+$.\n",
    "<br>This closes the induction.\n",
    "<br>$Q.E.D.$"
   ]
  },
  {
   "cell_type": "markdown",
   "metadata": {},
   "source": [
    "### Corollary 2.2.9.\n",
    "### $If\\ a\\ and\\ b\\ are\\ natural\\ numbers\\ such\\ that\\ a+b=0,\\ then\\ a=0\\ and\\ b=0$.\n",
    "\n",
    "$Proof.$\n",
    "<br>We suppose that $a\\neq 0\\ or\\ b\\neq 0$.\n",
    "<br>With Proposition 2.2.8., we know that $a+b\\neq 0$.\n",
    "<br>That is contradictory to $a+b=0$.\n",
    "<br>So we can prove the Corollary.\n",
    "<br>$Q.E.D.$"
   ]
  },
  {
   "cell_type": "markdown",
   "metadata": {},
   "source": [
    "### Lemma 2.2.10. $Let\\ a\\ be\\ a\\ positive\\ number.\\ Then\\ there\\ exists\\ exactly\\ one\\ natural\\ number\\ b\\ such\\ that\\ b++=a$.\n",
    "\n",
    "$Proof.$\n",
    "<br>We use induction on a.\n",
    "<br>When $a=1$, there exists $b=0$, that $b++=a$.\n",
    "<br>Suppose inductively when $a=n$, $\\exists\\ b\\in N$, where $b++=a$.\n",
    "<br>We want wo show when $a=n++$, $\\exists\\ b\\in N$, where $b++=a$.\n",
    "<br>With Axiom 2.4, when $a=n++$, $\\exists\\ b=n$, that $b++=a$.\n",
    "<br>This closes the induction.\n",
    "<br>$Q.E.D.$"
   ]
  },
  {
   "cell_type": "markdown",
   "metadata": {},
   "source": [
    "### Proposition 2.2.12 (Basic properties of order for natural numbers).\n",
    "### $Let\\ a,b,c\\ be\\ natural\\ numbers.\\ Then$\n",
    "\n",
    "#### (a) $a\\geq a$.\n",
    "$Proof.$\n",
    "<br>With Definition 2.2.11., $n\\geq m\\Leftrightarrow \\exists\\ k\\in N,\\ n=m+k,\\ where\\ m,n\\in N.$\n",
    "<br>Since we have $a=a+0$, we can prove that $a\\geq a$.\n",
    "<br>$\\blacksquare$\n",
    "****\n",
    "#### (b) $If\\ a\\geq b\\ and\\ b\\geq c,\\ then\\ a\\geq c$.\n",
    "$Proof.$\n",
    "<br>$a\\geq b$ means that $\\exists\\ n\\in N,\\ let\\ a=b+n.$\n",
    "<br>$b\\geq c$ means that $\\exists\\ m\\in N,\\ let\\ b=c+m.$\n",
    "<br>Hence, we have $a=(c+m)+n.$\n",
    "<br>Since Proposition 2.2.5., $a=(c+m)+n\\Leftrightarrow a=c+(m+n),$ where $m+n\\in N.$\n",
    "<br>Hence, $a\\geq c.$\n",
    "<br>$\\blacksquare$\n",
    "*****\n",
    "#### (c) $If\\ a\\geq b\\ and\\ b\\geq a,\\ then\\ a=b.$\n",
    "$Proof.$\n",
    "<br>$a\\geq b\\Leftrightarrow \\exists\\ m\\in N,\\ let\\ a=b+m.$\n",
    "<br>$b\\geq a\\Leftrightarrow \\exists\\ n\\in N,\\ let\\ b=a+n.$\n",
    "<br>So, we have $a=(a+n)+m\\Rightarrow a+0=a+(n+m)\\Rightarrow n+m=0.$\n",
    "<br>With Corollary 2.2.9., we know that $n=m=0,$ meaning $a=b+0\\Rightarrow a=b.$\n",
    "<br>$Q.E.D.$\n",
    "*****\n",
    "#### (d) $a\\geq b\\Leftrightarrow a+c\\geq b+c.$\n",
    "$Proof.$\n",
    "<br>Firstly, we prove that $a\\geq b\\Rightarrow a+c\\geq b+c.$\n",
    "<br>$a\\geq b\\Rightarrow \\exists\\ n\\in N,\\ let\\ a=b+n.$\n",
    "<br>So, $a+c=(b+n)+c=c+(b+n)=(c+b)+n=(b+c)+n\\Rightarrow a+c\\geq b+c.$\n",
    "<br>Secondly, we prove that $a+c\\geq b+c\\Rightarrow a\\geq b.$\n",
    "<br>$a+c\\geq b+c\\Leftrightarrow \\exists\\ m\\in N,\\ let\\ a+c=(b+c)+m.$\n",
    "<br>$a+c=(b+c)+m=(b+m)+c\\Rightarrow a=b+m,\\ where\\ m\\in N\\Rightarrow a\\geq b.$\n",
    "<br>$\\blacksquare$\n",
    "*****\n",
    "#### (e) $a<b\\Leftrightarrow a++\\leq b.$\n",
    "$Proof.$\n",
    "<br>Firstly, we prove $a<b\\Rightarrow a++\\leq b.$\n",
    "<br>$a<b\\Rightarrow b=a+m,\\ where\\ m\\in N,\\ and\\ m\\neq 0.$\n",
    "<br>$\\exists\\ n\\in N,\\ let\\ n++=m.$\n",
    "<br>$b=a+(n++)\\Rightarrow b=(a++)+n\\Rightarrow a++\\leq b$\n",
    "\n",
    "Secondly, we prove $a++\\leq b\\Rightarrow a<b.$\n",
    "<br>$a++\\leq b\\Rightarrow (a++)+n=b,\\ where\\ n\\in N.$\n",
    "<br>$(a++)+n=b\\Rightarrow a+(n++)=b.$\n",
    "<br>$\\exists\\ m\\in N\\wedge m\\neq 0,\\ let\\ m=n++.$\n",
    "<br>$a+(n++)=b\\Rightarrow a+m=b\\Rightarrow a\\leq b.$\n",
    "<br>also since $m\\neq 0,$ so $a\\neq b,$ and so $a<b.$\n",
    "<Br>$Q.E.D.$\n",
    "*****\n",
    "#### (f) $a<b\\Leftrightarrow b=a+d,$ for some positive number $d.$\n",
    "\n",
    "$Proof.$\n",
    "\n",
    "Firstly, we prove $a<b\\Rightarrow b=a+d,$ for some positive number $d.$\n",
    "<br>From the Proposition 2.2.12.(f), $a<b\\Rightarrow a++<b\\Rightarrow b=(a++)+n,\\ where\\ n\\in N.$\n",
    "<br>$b=(a++)+n\\Rightarrow b=a+(n++).$\n",
    "<br>With Axiom 2.3, we know $n++\\neq 0\\wedge n++\\in N,$ which means $n++$ is positive.\n",
    "<br>So, we know $a<b\\Rightarrow b=a+d,$ for some positive number $d.$\n",
    "\n",
    "Secondly, we prove $b=a+d,$ for some positive $d\\Rightarrow a<b.$\n",
    "<br>$b=a+d\\Rightarrow a\\leq b$\n",
    "<br>For $d$ is positive, $\\exists\\ n\\in N,$ let $d=n++,$ which means $b\\neq a.$\n",
    "<br>So we know $a<b.$\n",
    "<br>$\\blacksquare$"
   ]
  },
  {
   "cell_type": "markdown",
   "metadata": {},
   "source": [
    "### Proposition 2.2.13(Trichotomy of order for natural number). $a,b\\in N.\\ Then\\ exactly\\ one\\ of\\ the\\ following\\ statements\\ is\\ true:\\ a<b,a=b,\\ or\\ a>b.$\n",
    "\n",
    "$Proof.$\n",
    "<br>Firstly, we prove that we can't have more than one of the statements $a<b,\\ a=b,\\ or\\ a>b$ holding at the same time.\n",
    "<br>From the definition, we know that if $a<b$ then $a\\neq b$, and if $a>b$ then $a\\neq b$.\n",
    "<br>From the Proposition 2.2.12, we know that order is anti-symmetric; so if $a<b\\wedge a>b$, then $a=b$, a contradiction.\n",
    "<br>Thus, no more than one of the statements is true.\n",
    "\n",
    "Secondly, we prove that there must be one of statements true.\n",
    "<br>Keep $b$ fixed, and induct on $a$.\n",
    "<br>When $a=0,$ we have $b=m,\\ where\\ b,m\\in N,$ let $b=a+m\\Rightarrow a\\leq b,$ which means $a<b\\vee a=b.$\n",
    "<br>We inductly soppuse that $a=n,$ then for $a\\in N$ have this property.\n",
    "<br>Then we prove the same property is also a++ with.\n",
    "<br>From our suppose, we know that $a<b,\\ a=b,\\ or\\ a>b.$\n",
    "<br>When $a>b$, we know that $a=b+m,$ where $m$ is positive\n",
    "<br>$a++=a+1$ means $a++\\geq a,\\ and a++\\neq a$, meaning $a++>a$\n",
    "<br>Then since $a>b$, we know $a++>b.$\n",
    "<br>When $a=b$, we know $a++=a+1>a=b.$\n",
    "<br>When $a<b,$ we know that $a<b\\Leftrightarrow a++\\leq b,$ meaning $a++<b\\vee a++=b.$\n",
    "<br>This closes the induction.\n",
    "<br>$\\blacksquare$"
   ]
  },
  {
   "cell_type": "markdown",
   "metadata": {},
   "source": [
    "### Proposition 2.2.14 (Strong principle of induction). \n",
    "### *Let* $m_0\\in N,$ *and* $P(m)$ *be a property pertaining to an arbitrary natural number* $m.$ *Suppose that for each* $m\\geq m_0,$ *we have the following implication:*\n",
    "### *If* $P(m')$ *is true for all natural numbers* $m_0\\leq m'<m,$ *then* $P(m)$ *is also true.*\n",
    "### *Then we can conclude that* $P(m)$ *is true for all natural numbers* $m\\geq m_0.$"
   ]
  },
  {
   "cell_type": "markdown",
   "metadata": {},
   "source": [
    "逻辑上有点复杂，还是用中文比较习惯。\n",
    "<br>证明归纳法，一个理清逻辑的好方法是写出前提与结论。\n",
    "<br>前提：若$P(m')$对于一切 $m_0\\leq m'<m$ 均成立，则$P(m)$ 也成立\n",
    "<br>证明：$P(m)$ 对于一切 $m\\geq m_0$ 成立"
   ]
  },
  {
   "cell_type": "markdown",
   "metadata": {},
   "source": [
    "定义$Q(n)$：当$m_0\\leq m<n,\\ P(m)$ 成立时，$Q(n)$为真\n",
    "<br>$Q(0)$为真\n",
    "\n",
    "假设$n=n'$时，$Q(n')$成立，即$m_0\\leq m<n',P(m)$成立。\n",
    "\n",
    "由前提知，$P(n')$也成立\n",
    "\n",
    "即$Q(n'++):${当$m_0\\leq m<n'++$时，$P(m)$成立}为真（因为由假设$n=n'$时的情况可知，当$m_0\\leq m<n'$时$P(m)$成立，再加上$P(n')$也成立）\n",
    "\n",
    "所以$Q(n)$对于一切$m_0<n$成立。\n",
    "\n",
    "即$P(m)$对于一切$m_0\\leq m<n$成立。\n",
    "\n",
    "由于$n$是任意自然数，所以$P(m)$对于一切$m_0\\leq m$。\n",
    "<br>$\\blacksquare$"
   ]
  },
  {
   "cell_type": "markdown",
   "metadata": {},
   "source": [
    "### Exercise 2.2.6. *Let* $n$ *be a natural number, and let* $P(m)$ *be a property pertaining to the natural numbers such that whenever* $P(m++)$ *is true, then* $P(m)$ *is true. Suppose that* $P(n)$ *is also true. Prove that* $P(m)$ *is true for all natural numbers* $m\\leq n;$ this is known as the principle of backwards induction. \n",
    "\n",
    "条件：若$P(m++)$成立，则$P(m)$成立\n",
    "<br>证明：若$P(n)$成立，则对于一切$m\\leq n, P(m)$成立。"
   ]
  },
  {
   "cell_type": "markdown",
   "metadata": {},
   "source": [
    "对n进行归纳：\n",
    "<br>$n=0$ 时，若$P(n)$成立，$m\\leq n$ 即 $m=0$，则$P(m)$成立。\n",
    "\n",
    "假设$n=n'$ 时，若$P(n')$成立，则对一切 $m\\leq n'$，有$P(m)$成立。\n",
    "\n",
    "$n=n'++$ 时，若$P(n'++)$成立，则由条件可知$P(n')$成立，即对一切 $m\\leq n'$，有$P(m)$成立，再加上 $P(n'++)$ 成立，可得对一切 $m\\leq n'++$，$P(m)$成立。\n",
    "<br>即若$P(n'++)$成立，则对一切 $m\\leq n'++$，有$P(m)$成立。\n",
    "<br>This close the induction。\n",
    "<br>$\\blacksquare$"
   ]
  },
  {
   "cell_type": "markdown",
   "metadata": {},
   "source": [
    "## 2.3 Multiplication"
   ]
  },
  {
   "cell_type": "markdown",
   "metadata": {},
   "source": [
    "### Lemma 2.3.2 (Multiplication is commutative). $n,m\\in \\mathbb{N}.\\ n\\times m=m\\times n.$\n",
    "\n",
    "$Proof.$\n",
    "<br>We induct on n:\n",
    "<br>Case 0: $n=0,0\\times m=0,\\ m\\times 0=0+\\underbrace{0+0+\\cdots+0}_{m}=0.$ So, $0\\times m=m\\times 0.$\n",
    "\n",
    "We suppose inductively when $n=n', n'\\times m=m\\times n'.$\n",
    "\n",
    "Then when $n=n'++:$\n",
    "<br>$(n'++)\\times m=(n'\\times m)+m;$\n",
    "<br>$m\\times (n'++)=0+\\underbrace{(n'++)+(n'++)+\\cdots +(n'++)}_{m}=\\underbrace{n'+n'+\\cdots+n'}_{m}+m=(m\\times n')+m.$\n",
    "\n",
    "Since we have supposed that $n'\\times m=m\\times n',$ we can know that $(n'++)\\times m=m\\times(n'++).$\n",
    "<br>This closes the induction.\n",
    "<br>$\\blacksquare$"
   ]
  },
  {
   "cell_type": "markdown",
   "metadata": {},
   "source": [
    "### Lemma 2.3.3 (Positive natural numbers have no zero divisors). $n,m\\in \\mathbb{N},$ *then* $n\\times m=0\\Leftrightarrow n=0\\vee m=0.$ *In particularly, if* $n\\in \\mathbb{N^+}\\ \\wedge m\\in \\mathbb{N^+},$ *then the* $nm\\in \\mathbb{N^+}.$\n",
    "\n",
    "$Proof.$\n",
    "<br>Firstly, we prove that $n\\times m=0\\Rightarrow n=0\\vee m=0.$\n",
    "\n",
    "From the definition, we know that $n\\times m=0+\\underbrace{m+m+\\cdots +m}_{n}=0.$\n",
    "\n",
    "Now, we suppose that $n,m\\in \\mathbb{N^+},$ meaning that $n,m>0.$\n",
    "\n",
    "Since addition preserve order, $\\underbrace{m+m+\\cdots+m}_{n}>\\underbrace{0+0+\\cdots+0}_{n}=0,$ meaning if $n\\in \\mathbb{N^+}\\wedge m\\in \\mathbb{N^+},$ then the $nm\\in \\mathbb{N^+}.$\n",
    "<br>A contradiction.\n",
    "<br>Hence, $n\\times m=0\\Rightarrow n=0\\vee m=0.$\n",
    "\n",
    "Secondly, we prove that $n=0\\vee m=0\\Rightarrow n\\times m=0.$\n",
    "\n",
    "When $m=0:$\n",
    "<br>From the definition, we know that $n\\times m=0+\\underbrace{m+m+\\cdots +m}_{n}=0+\\underbrace{0+0+\\cdots+0}_{n}=0.$\n",
    "\n",
    "When $n=0:$\n",
    "<br>From the definition, we know that $n\\times m=0\\times m=0.$\n",
    "<br>Hence, we know that $n=0\\vee m=0\\Rightarrow n\\times m=0.$\n",
    "<br>Hence, we know that $n\\times m=0\\Leftrightarrow n=0\\vee m=0.$\n",
    "<br>$\\blacksquare$"
   ]
  },
  {
   "cell_type": "markdown",
   "metadata": {},
   "source": [
    "### Proposition 2.3.4 (Distributive law). $\\forall a,b,c\\in \\mathbb{N},$ *we have* $a(b+c)=ab+ac$ *and* $(b+c)a=ba+ca.$\n",
    "\n",
    "$Proof.A$\n",
    "<br>From the definition, we know that:\n",
    "<br>$a(b+c)=0+\\underbrace{(b+c)+(b+c)+\\cdots+(b+c)}_{a}=\\underbrace{(b+c)+(b+c)+\\cdots+(b+c)}_{a}$\n",
    "<br>$ab+ac=0+\\underbrace{b+b+\\cdots+b}_{a}+0+\\underbrace{c+c+\\cdots+c}_{a}=\\underbrace{(b+c)+(b+c)+\\cdots+(b+c)}_{a}$\n",
    "<br>Hence, $a(b+c)=ab+ac.$\n",
    "<br>And since the Lemma 2.3.2., we know that $(b+c)a=a(b+c)=ab+ac=ba+ca.$\n",
    "<br>$\\blacksquare$\n",
    "\n",
    "$Proof.B$\n",
    "<br>We also can induct $c$ with $a,b$ fixed.\n",
    "<br>Case 0: $c=0$, $a(b+0)=a\\times b=ab$, $ab+a\\times 0=ab$, So $a(b+0)=ab+a\\times 0.$\n",
    "\n",
    "Then we suppose when $c=n$, $a(b+n)=ab+an.$\n",
    "\n",
    "When $c=n++$, we have $a(b+(n++))=a\\times (b+n)++=((b+n)++)\\times a=(b+n)a+a=ab+an+a=ab+(n++)a=ab+a(n++).$\n",
    "<br>This closes the induction.\n",
    "<br>$\\blacksquare$"
   ]
  },
  {
   "cell_type": "markdown",
   "metadata": {},
   "source": [
    "### Proposition 2.3.5 (Multiplication is associative). $a,b,c\\in \\mathbb{N},$ *we have* $(a\\times b)\\times c=a\\times (b\\times c).$\n",
    "\n",
    "$Proof.$\n",
    "<br>We can induct $c$ with $a,b$ fixed.\n",
    "<br>Case 0: $c=0,$ we have $(a\\times b)\\times 0=0$, $a\\times (b\\times 0)=0$; so we know that $(a\\times b)\\times 0=a\\times (b\\times 0).$\n",
    "\n",
    "Then we suppose inductively $(a\\times b)\\times n=a\\times (b\\times n),$ equivalent to $(ab)n=a(bn).$\n",
    "\n",
    "When $c=n++$, we have:\n",
    "<br>$(a\\times b)\\times (n++)=(n++)\\times (a\\times b)=n(a\\times b)+(a\\times b)=n(ab)+ab=(ab)n+ab,$\n",
    "<br>$a\\times (b\\times (n++))=a\\times (nb+b)=a(nb)+ab=a(bn)+ab.$\n",
    "<br>Since we have supposed $(ab)n=a(bn)$, we know that $(a\\times b)\\times c=a\\times (b\\times c).$\n",
    "<br>This closes the induction.\n",
    "<br>$\\blacksquare$"
   ]
  },
  {
   "cell_type": "markdown",
   "metadata": {},
   "source": [
    "### Proposition 2.3.6 (Multiplication preserve order). *If* $a,b\\in \\mathbb{N}\\wedge a<b,$ *and* $c$ *is positive, then* $ac<bc.$\n",
    "\n",
    "$Proof.$\n",
    "<br>$a<b\\Rightarrow b=a+d,d\\in \\mathbb{N^+}.$\n",
    "<br>$bc=(a+d)c=ac+dc.$\n",
    "<br>Since $c,d$ are positive, $dc$ is also positive. So, $bc\\geq ac\\wedge bc\\neq ac,$ means $ac< bc.$ \n",
    "<br>$\\blacksquare$"
   ]
  },
  {
   "cell_type": "markdown",
   "metadata": {},
   "source": [
    "### Corollary 2.3.7 (Cancellation law). *Let* $a,b\\in \\mathbb{N}\\wedge c\\in \\mathbb{N^+}\\wedge ac=bc.$ *Then* $a=b.$\n",
    "\n",
    "$Proof.$\n",
    "<br>We prove the statement by contradiction.\n",
    "<br>From the trichotomy of order, we know there must and only be one statement as followings: $a<b,a=b,a>b.$\n",
    "\n",
    "We suppose $a<b,$ then $b=a+m, m\\in \\mathbb{N^+}.$\n",
    "<br>$bc=(a+m)c=ac+mc\\Rightarrow bc>ac$(since $ac$ is positive).\n",
    "<br>A contradiction.\n",
    "\n",
    "It is similar to prove $a>b$ is ridiculous.\n",
    "\n",
    "Hence, we know if $a,b\\in \\mathbb{N}\\wedge c\\in \\mathbb{N^+}\\wedge ac=bc\\Rightarrow a=b.$\n",
    "<br>$\\blacksquare$"
   ]
  },
  {
   "cell_type": "markdown",
   "metadata": {},
   "source": [
    "### Exercise 2.3.4. Prove the identity $(a+b)^2=a^2+2ab+b^2$ for all natural numbers $a,b.$\n",
    "\n",
    "$Proof.$\n",
    "<br>$(a+b)^2=(a+b)\\times (a+b)=a(a+b)+b(a+b)=a^2+ab+ba+b^2=a^2+2ab+b^2$\n",
    "<br>$\\blacksquare$"
   ]
  },
  {
   "cell_type": "markdown",
   "metadata": {},
   "source": [
    "### Proposition 2.3.9 (Euclidean algorithm). *Let* $n$ *be a natural number, and let* $q$ *be a positive number. Then there exist natural numbers* $m,r$ *such that* $0\\leq r<q$ *and* $n=mq+r.$\n",
    "\n",
    "$Proof.$\n",
    "<br>We induct on $n$ with $q$ fixed.\n",
    "<br>Case 0: $0\\leq r=0<q,0=0\\times q+0.$\n",
    "\n",
    "Then we suppose inductively $n=n',$ the statement is true.\n",
    "\n",
    "When $n=n'++$, $n++=mq+r++.$\n",
    "<br>If $r++=q$ we have $n++=mq+q=(m++)\\times q,$ thus we have $m'=m++\\in \\mathbb{N},$ and $0=r'\\in \\mathbb{N}$ such that $n++=m'q+r'.$\n",
    "<br>If $r++<q$ we have $n++=mq+r++$, thus we have $r'=r++\\in \\mathbb{N},$ such that $n++=mq+r'.$\n",
    "<br>This closes the induciton.\n",
    "<br>$\\blacksquare$"
   ]
  }
 ],
 "metadata": {
  "kernelspec": {
   "display_name": "Python 3",
   "language": "python",
   "name": "python3"
  },
  "language_info": {
   "codemirror_mode": {
    "name": "ipython",
    "version": 3
   },
   "file_extension": ".py",
   "mimetype": "text/x-python",
   "name": "python",
   "nbconvert_exporter": "python",
   "pygments_lexer": "ipython3",
   "version": "3.7.6"
  },
  "nbTranslate": {
   "displayLangs": [
    "*"
   ],
   "hotkey": "alt-t",
   "langInMainMenu": true,
   "sourceLang": "en",
   "targetLang": "fr",
   "useGoogleTranslate": true
  },
  "varInspector": {
   "cols": {
    "lenName": 16,
    "lenType": 16,
    "lenVar": 40
   },
   "kernels_config": {
    "python": {
     "delete_cmd_postfix": "",
     "delete_cmd_prefix": "del ",
     "library": "var_list.py",
     "varRefreshCmd": "print(var_dic_list())"
    },
    "r": {
     "delete_cmd_postfix": ") ",
     "delete_cmd_prefix": "rm(",
     "library": "var_list.r",
     "varRefreshCmd": "cat(var_dic_list()) "
    }
   },
   "types_to_exclude": [
    "module",
    "function",
    "builtin_function_or_method",
    "instance",
    "_Feature"
   ],
   "window_display": false
  }
 },
 "nbformat": 4,
 "nbformat_minor": 4
}
