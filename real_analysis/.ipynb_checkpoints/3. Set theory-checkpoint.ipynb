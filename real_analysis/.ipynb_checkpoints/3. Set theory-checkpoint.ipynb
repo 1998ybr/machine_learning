{
 "cells": [
  {
   "cell_type": "markdown",
   "metadata": {},
   "source": [
    "# Set Theory"
   ]
  },
  {
   "cell_type": "markdown",
   "metadata": {},
   "source": [
    "## 3.1 Fundamentals"
   ]
  },
  {
   "cell_type": "markdown",
   "metadata": {},
   "source": [
    "### Axiom 3.1 (Sets are objects). *If* $A$ *is a set, then* $A$ *is also an object. In particular, given two sets* $A$ *and* $B$*, it is meaningful to ask whether* $A$ *is also an element of* $B.$"
   ]
  },
  {
   "cell_type": "markdown",
   "metadata": {},
   "source": [
    "### Definition 3.1.4 (Equality of sets). Two sets $A$ and $B$ are equal, $A=B$, iff every element of $A$ is an element of $B$ and vice versa. To put it another way, $A=B$ iff for $\\forall x\\in A,\\ x\\in B,$ and for $\\forall y\\in B,\\ y\\in A.$"
   ]
  },
  {
   "cell_type": "markdown",
   "metadata": {},
   "source": [
    "### Exercise 3.1.1. Show that definition of equality in Definition 3.1.4 is reflexive, symmetric, and transitive.\n",
    "\n",
    "$Proof.$\n",
    "<br>As Axiom 3.1, we know sets are objects. Then Reflexive Axiom, Symmetric Axiom and Transitive Axiom tell us any equality of objects is reflexive, symmetric and transitive.\n",
    "<br>So, I'm confused by this exercise. How ridiculous it is! But my god Tenrence Tao is correct forever, so I'd better prove them truthfully.\n",
    "<br>**Reflexive**: $A=A$\n",
    "<br>$A=A\\Rightarrow \\forall x\\in A$ also belongs to $A$.\n",
    "<br>**Symmetric**: $A=B\\Rightarrow B=A$\n",
    "<br>$A=B\\Leftrightarrow (\\forall x\\in A,\\ x\\in B)\\bigwedge (\\forall y\\in B,\\ y\\in A)\\Leftrightarrow (\\forall y\\in B,\\ y\\in A)\\bigwedge\\ (\\forall x\\in A,\\ x\\in B)\\Leftrightarrow B=A.$ \n",
    "<br>**Transitive**: $A=B,B=C\\Rightarrow A=C$\n",
    "<br>$A=B\\Leftrightarrow (\\forall x\\in A,\\ x\\in B)\\bigwedge (\\forall y\\in B,\\ y\\in A),$\n",
    "<br>$B=C\\Leftrightarrow (\\forall y\\in B,\\ y\\in C)\\bigwedge (\\forall z\\in C,\\ z\\in B),$\n",
    "<br>Hence, $(\\forall x\\in A,\\ x\\in C)\\bigwedge (\\forall z\\in C,\\ z\\in A)\\Leftrightarrow A=C.$"
   ]
  },
  {
   "cell_type": "markdown",
   "metadata": {},
   "source": [
    "### Axiom 3.2 (Empty set). *There exists a set* $\\varnothing$*, known as the empty set, which contains no elements, i.e., for every object x we have* $x\\notin \\varnothing.$"
   ]
  },
  {
   "cell_type": "markdown",
   "metadata": {},
   "source": [
    "### Lemma 3.1.6 (Single choice). *Let* $A$ *be s non-empty set. Then there exists an object* $x$ *such that* $x\\in A.$"
   ]
  },
  {
   "cell_type": "markdown",
   "metadata": {},
   "source": [
    "$Proof.$\n",
    "<br>We prove it with contradiction.\n",
    "<br>We suppose that there is no object $x\\ in A,$ i.e., for every object $x$, we have $x\\notin A.$\n",
    "<br>With Axiom 3.2, we know $A=\\varnothing.$ A contradiction."
   ]
  },
  {
   "cell_type": "markdown",
   "metadata": {},
   "source": [
    "### Axiom 3.3 (Singleton sets and pair sets). *If a is an object, then there exists a set* $\\{a\\}$ *whose only element is* $a,$ *i.e., for every object* $y,$ *we have* $y\\in \\{a\\}$ iff $y=a;$ *we refer to* $\\{a\\}$ *as the singleton set whose element is* $a.$ *Furthermore, if* $a$ *and* $b$ *is objects, then there exist a set* $\\{a,b\\}$ *whose elements are* $a$ *and* $b;$ *i.e., for every object* $y,$ *we have* $y\\in \\{a,b\\}$ *iff* $y=a \\vee y=b;$ *we refer to* $\\{a,b\\}$ *as the pair set formed by* $a$ *and* $b.$"
   ]
  }
 ],
 "metadata": {
  "kernelspec": {
   "display_name": "Python 3",
   "language": "python",
   "name": "python3"
  },
  "language_info": {
   "codemirror_mode": {
    "name": "ipython",
    "version": 3
   },
   "file_extension": ".py",
   "mimetype": "text/x-python",
   "name": "python",
   "nbconvert_exporter": "python",
   "pygments_lexer": "ipython3",
   "version": "3.7.6"
  },
  "nbTranslate": {
   "displayLangs": [
    "*"
   ],
   "hotkey": "alt-t",
   "langInMainMenu": true,
   "sourceLang": "en",
   "targetLang": "fr",
   "useGoogleTranslate": true
  },
  "varInspector": {
   "cols": {
    "lenName": 16,
    "lenType": 16,
    "lenVar": 40
   },
   "kernels_config": {
    "python": {
     "delete_cmd_postfix": "",
     "delete_cmd_prefix": "del ",
     "library": "var_list.py",
     "varRefreshCmd": "print(var_dic_list())"
    },
    "r": {
     "delete_cmd_postfix": ") ",
     "delete_cmd_prefix": "rm(",
     "library": "var_list.r",
     "varRefreshCmd": "cat(var_dic_list()) "
    }
   },
   "types_to_exclude": [
    "module",
    "function",
    "builtin_function_or_method",
    "instance",
    "_Feature"
   ],
   "window_display": false
  }
 },
 "nbformat": 4,
 "nbformat_minor": 4
}
